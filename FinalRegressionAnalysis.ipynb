{
  "nbformat": 4,
  "nbformat_minor": 0,
  "metadata": {
    "colab": {
      "name": "FinalRegressionAnalysis.ipynb",
      "provenance": [],
      "collapsed_sections": [
        "sHpdWkX-lZUU",
        "eS83ZMdxliUA",
        "37IS7yQ2llX7",
        "ln9BiXp0lsLw",
        "BMBzsizZlxVf",
        "b-ffLT_jlzMo",
        "MhUk4i7Vl2Oq",
        "ssPbWFgWl6VX",
        "SL1QO4Fvl-TH"
      ],
      "toc_visible": true
    },
    "kernelspec": {
      "display_name": "Python 3",
      "name": "python3"
    },
    "language_info": {
      "name": "python"
    },
    "widgets": {
      "application/vnd.jupyter.widget-state+json": {
        "91d4606f80544b60873f431e1140061e": {
          "model_module": "@jupyter-widgets/controls",
          "model_name": "VBoxModel",
          "state": {
            "_view_name": "VBoxView",
            "_dom_classes": [],
            "_model_name": "VBoxModel",
            "_view_module": "@jupyter-widgets/controls",
            "_model_module_version": "1.5.0",
            "_view_count": null,
            "_view_module_version": "1.5.0",
            "box_style": "",
            "layout": "IPY_MODEL_53095616776f4d6f94fd23304c172ddd",
            "_model_module": "@jupyter-widgets/controls",
            "children": [
              "IPY_MODEL_b0995249b13049ffae422822da230d74",
              "IPY_MODEL_4f1b46a0398d492f96c85b03c8d28565"
            ]
          }
        },
        "53095616776f4d6f94fd23304c172ddd": {
          "model_module": "@jupyter-widgets/base",
          "model_name": "LayoutModel",
          "state": {
            "_view_name": "LayoutView",
            "grid_template_rows": null,
            "right": null,
            "justify_content": null,
            "_view_module": "@jupyter-widgets/base",
            "overflow": null,
            "_model_module_version": "1.2.0",
            "_view_count": null,
            "flex_flow": null,
            "width": null,
            "min_width": null,
            "border": null,
            "align_items": null,
            "bottom": null,
            "_model_module": "@jupyter-widgets/base",
            "top": null,
            "grid_column": null,
            "overflow_y": null,
            "overflow_x": null,
            "grid_auto_flow": null,
            "grid_area": null,
            "grid_template_columns": null,
            "flex": null,
            "_model_name": "LayoutModel",
            "justify_items": null,
            "grid_row": null,
            "max_height": null,
            "align_content": null,
            "visibility": null,
            "align_self": null,
            "height": null,
            "min_height": null,
            "padding": null,
            "grid_auto_rows": null,
            "grid_gap": null,
            "max_width": null,
            "order": null,
            "_view_module_version": "1.2.0",
            "grid_template_areas": null,
            "object_position": null,
            "object_fit": null,
            "grid_auto_columns": null,
            "margin": null,
            "display": null,
            "left": null
          }
        },
        "b0995249b13049ffae422822da230d74": {
          "model_module": "@jupyter-widgets/controls",
          "model_name": "LabelModel",
          "state": {
            "_view_name": "LabelView",
            "style": "IPY_MODEL_a42217292ec249f7b9bc2cfa0a286ddb",
            "_dom_classes": [],
            "description": "",
            "_model_name": "LabelModel",
            "placeholder": "​",
            "_view_module": "@jupyter-widgets/controls",
            "_model_module_version": "1.5.0",
            "value": " 0.17MB of 0.17MB uploaded (0.00MB deduped)\r",
            "_view_count": null,
            "_view_module_version": "1.5.0",
            "description_tooltip": null,
            "_model_module": "@jupyter-widgets/controls",
            "layout": "IPY_MODEL_4d66325352ec47e1a28b4db94f3d6b32"
          }
        },
        "4f1b46a0398d492f96c85b03c8d28565": {
          "model_module": "@jupyter-widgets/controls",
          "model_name": "FloatProgressModel",
          "state": {
            "_view_name": "ProgressView",
            "style": "IPY_MODEL_5f144c061abd41a18ff274c39e94e608",
            "_dom_classes": [],
            "description": "",
            "_model_name": "FloatProgressModel",
            "bar_style": "",
            "max": 1,
            "_view_module": "@jupyter-widgets/controls",
            "_model_module_version": "1.5.0",
            "value": 1,
            "_view_count": null,
            "_view_module_version": "1.5.0",
            "orientation": "horizontal",
            "min": 0,
            "description_tooltip": null,
            "_model_module": "@jupyter-widgets/controls",
            "layout": "IPY_MODEL_6857f4acdd954e579f9a6d7cd6d6425d"
          }
        },
        "a42217292ec249f7b9bc2cfa0a286ddb": {
          "model_module": "@jupyter-widgets/controls",
          "model_name": "DescriptionStyleModel",
          "state": {
            "_view_name": "StyleView",
            "_model_name": "DescriptionStyleModel",
            "description_width": "",
            "_view_module": "@jupyter-widgets/base",
            "_model_module_version": "1.5.0",
            "_view_count": null,
            "_view_module_version": "1.2.0",
            "_model_module": "@jupyter-widgets/controls"
          }
        },
        "4d66325352ec47e1a28b4db94f3d6b32": {
          "model_module": "@jupyter-widgets/base",
          "model_name": "LayoutModel",
          "state": {
            "_view_name": "LayoutView",
            "grid_template_rows": null,
            "right": null,
            "justify_content": null,
            "_view_module": "@jupyter-widgets/base",
            "overflow": null,
            "_model_module_version": "1.2.0",
            "_view_count": null,
            "flex_flow": null,
            "width": null,
            "min_width": null,
            "border": null,
            "align_items": null,
            "bottom": null,
            "_model_module": "@jupyter-widgets/base",
            "top": null,
            "grid_column": null,
            "overflow_y": null,
            "overflow_x": null,
            "grid_auto_flow": null,
            "grid_area": null,
            "grid_template_columns": null,
            "flex": null,
            "_model_name": "LayoutModel",
            "justify_items": null,
            "grid_row": null,
            "max_height": null,
            "align_content": null,
            "visibility": null,
            "align_self": null,
            "height": null,
            "min_height": null,
            "padding": null,
            "grid_auto_rows": null,
            "grid_gap": null,
            "max_width": null,
            "order": null,
            "_view_module_version": "1.2.0",
            "grid_template_areas": null,
            "object_position": null,
            "object_fit": null,
            "grid_auto_columns": null,
            "margin": null,
            "display": null,
            "left": null
          }
        },
        "5f144c061abd41a18ff274c39e94e608": {
          "model_module": "@jupyter-widgets/controls",
          "model_name": "ProgressStyleModel",
          "state": {
            "_view_name": "StyleView",
            "_model_name": "ProgressStyleModel",
            "description_width": "",
            "_view_module": "@jupyter-widgets/base",
            "_model_module_version": "1.5.0",
            "_view_count": null,
            "_view_module_version": "1.2.0",
            "bar_color": null,
            "_model_module": "@jupyter-widgets/controls"
          }
        },
        "6857f4acdd954e579f9a6d7cd6d6425d": {
          "model_module": "@jupyter-widgets/base",
          "model_name": "LayoutModel",
          "state": {
            "_view_name": "LayoutView",
            "grid_template_rows": null,
            "right": null,
            "justify_content": null,
            "_view_module": "@jupyter-widgets/base",
            "overflow": null,
            "_model_module_version": "1.2.0",
            "_view_count": null,
            "flex_flow": null,
            "width": null,
            "min_width": null,
            "border": null,
            "align_items": null,
            "bottom": null,
            "_model_module": "@jupyter-widgets/base",
            "top": null,
            "grid_column": null,
            "overflow_y": null,
            "overflow_x": null,
            "grid_auto_flow": null,
            "grid_area": null,
            "grid_template_columns": null,
            "flex": null,
            "_model_name": "LayoutModel",
            "justify_items": null,
            "grid_row": null,
            "max_height": null,
            "align_content": null,
            "visibility": null,
            "align_self": null,
            "height": null,
            "min_height": null,
            "padding": null,
            "grid_auto_rows": null,
            "grid_gap": null,
            "max_width": null,
            "order": null,
            "_view_module_version": "1.2.0",
            "grid_template_areas": null,
            "object_position": null,
            "object_fit": null,
            "grid_auto_columns": null,
            "margin": null,
            "display": null,
            "left": null
          }
        },
        "daaeed24019345ea9102f4491d33d0de": {
          "model_module": "@jupyter-widgets/controls",
          "model_name": "VBoxModel",
          "state": {
            "_view_name": "VBoxView",
            "_dom_classes": [],
            "_model_name": "VBoxModel",
            "_view_module": "@jupyter-widgets/controls",
            "_model_module_version": "1.5.0",
            "_view_count": null,
            "_view_module_version": "1.5.0",
            "box_style": "",
            "layout": "IPY_MODEL_e8e6f463bd18400cb866749de4167648",
            "_model_module": "@jupyter-widgets/controls",
            "children": [
              "IPY_MODEL_215f515f46f241179d66ce0fe6053d02",
              "IPY_MODEL_2872f58b982e4ce5b124fe2305bc5489"
            ]
          }
        },
        "e8e6f463bd18400cb866749de4167648": {
          "model_module": "@jupyter-widgets/base",
          "model_name": "LayoutModel",
          "state": {
            "_view_name": "LayoutView",
            "grid_template_rows": null,
            "right": null,
            "justify_content": null,
            "_view_module": "@jupyter-widgets/base",
            "overflow": null,
            "_model_module_version": "1.2.0",
            "_view_count": null,
            "flex_flow": null,
            "width": null,
            "min_width": null,
            "border": null,
            "align_items": null,
            "bottom": null,
            "_model_module": "@jupyter-widgets/base",
            "top": null,
            "grid_column": null,
            "overflow_y": null,
            "overflow_x": null,
            "grid_auto_flow": null,
            "grid_area": null,
            "grid_template_columns": null,
            "flex": null,
            "_model_name": "LayoutModel",
            "justify_items": null,
            "grid_row": null,
            "max_height": null,
            "align_content": null,
            "visibility": null,
            "align_self": null,
            "height": null,
            "min_height": null,
            "padding": null,
            "grid_auto_rows": null,
            "grid_gap": null,
            "max_width": null,
            "order": null,
            "_view_module_version": "1.2.0",
            "grid_template_areas": null,
            "object_position": null,
            "object_fit": null,
            "grid_auto_columns": null,
            "margin": null,
            "display": null,
            "left": null
          }
        },
        "215f515f46f241179d66ce0fe6053d02": {
          "model_module": "@jupyter-widgets/controls",
          "model_name": "LabelModel",
          "state": {
            "_view_name": "LabelView",
            "style": "IPY_MODEL_18f2c1f0e2fa42eebc361f321b9c8b41",
            "_dom_classes": [],
            "description": "",
            "_model_name": "LabelModel",
            "placeholder": "​",
            "_view_module": "@jupyter-widgets/controls",
            "_model_module_version": "1.5.0",
            "value": " 0.17MB of 0.17MB uploaded (0.00MB deduped)\r",
            "_view_count": null,
            "_view_module_version": "1.5.0",
            "description_tooltip": null,
            "_model_module": "@jupyter-widgets/controls",
            "layout": "IPY_MODEL_d30bb3f33a5a4ea79daba1646ba4419c"
          }
        },
        "2872f58b982e4ce5b124fe2305bc5489": {
          "model_module": "@jupyter-widgets/controls",
          "model_name": "FloatProgressModel",
          "state": {
            "_view_name": "ProgressView",
            "style": "IPY_MODEL_a7f969a5d8794bf48571b607f6045a23",
            "_dom_classes": [],
            "description": "",
            "_model_name": "FloatProgressModel",
            "bar_style": "",
            "max": 1,
            "_view_module": "@jupyter-widgets/controls",
            "_model_module_version": "1.5.0",
            "value": 1,
            "_view_count": null,
            "_view_module_version": "1.5.0",
            "orientation": "horizontal",
            "min": 0,
            "description_tooltip": null,
            "_model_module": "@jupyter-widgets/controls",
            "layout": "IPY_MODEL_89020969cb334fc4855b1514553b0beb"
          }
        },
        "18f2c1f0e2fa42eebc361f321b9c8b41": {
          "model_module": "@jupyter-widgets/controls",
          "model_name": "DescriptionStyleModel",
          "state": {
            "_view_name": "StyleView",
            "_model_name": "DescriptionStyleModel",
            "description_width": "",
            "_view_module": "@jupyter-widgets/base",
            "_model_module_version": "1.5.0",
            "_view_count": null,
            "_view_module_version": "1.2.0",
            "_model_module": "@jupyter-widgets/controls"
          }
        },
        "d30bb3f33a5a4ea79daba1646ba4419c": {
          "model_module": "@jupyter-widgets/base",
          "model_name": "LayoutModel",
          "state": {
            "_view_name": "LayoutView",
            "grid_template_rows": null,
            "right": null,
            "justify_content": null,
            "_view_module": "@jupyter-widgets/base",
            "overflow": null,
            "_model_module_version": "1.2.0",
            "_view_count": null,
            "flex_flow": null,
            "width": null,
            "min_width": null,
            "border": null,
            "align_items": null,
            "bottom": null,
            "_model_module": "@jupyter-widgets/base",
            "top": null,
            "grid_column": null,
            "overflow_y": null,
            "overflow_x": null,
            "grid_auto_flow": null,
            "grid_area": null,
            "grid_template_columns": null,
            "flex": null,
            "_model_name": "LayoutModel",
            "justify_items": null,
            "grid_row": null,
            "max_height": null,
            "align_content": null,
            "visibility": null,
            "align_self": null,
            "height": null,
            "min_height": null,
            "padding": null,
            "grid_auto_rows": null,
            "grid_gap": null,
            "max_width": null,
            "order": null,
            "_view_module_version": "1.2.0",
            "grid_template_areas": null,
            "object_position": null,
            "object_fit": null,
            "grid_auto_columns": null,
            "margin": null,
            "display": null,
            "left": null
          }
        },
        "a7f969a5d8794bf48571b607f6045a23": {
          "model_module": "@jupyter-widgets/controls",
          "model_name": "ProgressStyleModel",
          "state": {
            "_view_name": "StyleView",
            "_model_name": "ProgressStyleModel",
            "description_width": "",
            "_view_module": "@jupyter-widgets/base",
            "_model_module_version": "1.5.0",
            "_view_count": null,
            "_view_module_version": "1.2.0",
            "bar_color": null,
            "_model_module": "@jupyter-widgets/controls"
          }
        },
        "89020969cb334fc4855b1514553b0beb": {
          "model_module": "@jupyter-widgets/base",
          "model_name": "LayoutModel",
          "state": {
            "_view_name": "LayoutView",
            "grid_template_rows": null,
            "right": null,
            "justify_content": null,
            "_view_module": "@jupyter-widgets/base",
            "overflow": null,
            "_model_module_version": "1.2.0",
            "_view_count": null,
            "flex_flow": null,
            "width": null,
            "min_width": null,
            "border": null,
            "align_items": null,
            "bottom": null,
            "_model_module": "@jupyter-widgets/base",
            "top": null,
            "grid_column": null,
            "overflow_y": null,
            "overflow_x": null,
            "grid_auto_flow": null,
            "grid_area": null,
            "grid_template_columns": null,
            "flex": null,
            "_model_name": "LayoutModel",
            "justify_items": null,
            "grid_row": null,
            "max_height": null,
            "align_content": null,
            "visibility": null,
            "align_self": null,
            "height": null,
            "min_height": null,
            "padding": null,
            "grid_auto_rows": null,
            "grid_gap": null,
            "max_width": null,
            "order": null,
            "_view_module_version": "1.2.0",
            "grid_template_areas": null,
            "object_position": null,
            "object_fit": null,
            "grid_auto_columns": null,
            "margin": null,
            "display": null,
            "left": null
          }
        },
        "289aca20ae214782bfbaeef81828e27d": {
          "model_module": "@jupyter-widgets/controls",
          "model_name": "VBoxModel",
          "state": {
            "_view_name": "VBoxView",
            "_dom_classes": [],
            "_model_name": "VBoxModel",
            "_view_module": "@jupyter-widgets/controls",
            "_model_module_version": "1.5.0",
            "_view_count": null,
            "_view_module_version": "1.5.0",
            "box_style": "",
            "layout": "IPY_MODEL_538572b743e640f0995d304c47c9827a",
            "_model_module": "@jupyter-widgets/controls",
            "children": [
              "IPY_MODEL_b9e04a5ecc6e463da3e8762f39f668ec",
              "IPY_MODEL_3607d328fae14db883c2e9953166b6a4"
            ]
          }
        },
        "538572b743e640f0995d304c47c9827a": {
          "model_module": "@jupyter-widgets/base",
          "model_name": "LayoutModel",
          "state": {
            "_view_name": "LayoutView",
            "grid_template_rows": null,
            "right": null,
            "justify_content": null,
            "_view_module": "@jupyter-widgets/base",
            "overflow": null,
            "_model_module_version": "1.2.0",
            "_view_count": null,
            "flex_flow": null,
            "width": null,
            "min_width": null,
            "border": null,
            "align_items": null,
            "bottom": null,
            "_model_module": "@jupyter-widgets/base",
            "top": null,
            "grid_column": null,
            "overflow_y": null,
            "overflow_x": null,
            "grid_auto_flow": null,
            "grid_area": null,
            "grid_template_columns": null,
            "flex": null,
            "_model_name": "LayoutModel",
            "justify_items": null,
            "grid_row": null,
            "max_height": null,
            "align_content": null,
            "visibility": null,
            "align_self": null,
            "height": null,
            "min_height": null,
            "padding": null,
            "grid_auto_rows": null,
            "grid_gap": null,
            "max_width": null,
            "order": null,
            "_view_module_version": "1.2.0",
            "grid_template_areas": null,
            "object_position": null,
            "object_fit": null,
            "grid_auto_columns": null,
            "margin": null,
            "display": null,
            "left": null
          }
        },
        "b9e04a5ecc6e463da3e8762f39f668ec": {
          "model_module": "@jupyter-widgets/controls",
          "model_name": "LabelModel",
          "state": {
            "_view_name": "LabelView",
            "style": "IPY_MODEL_68cfaeed586a47e7bb3dcfd59195d1a5",
            "_dom_classes": [],
            "description": "",
            "_model_name": "LabelModel",
            "placeholder": "​",
            "_view_module": "@jupyter-widgets/controls",
            "_model_module_version": "1.5.0",
            "value": " 0.17MB of 0.17MB uploaded (0.00MB deduped)\r",
            "_view_count": null,
            "_view_module_version": "1.5.0",
            "description_tooltip": null,
            "_model_module": "@jupyter-widgets/controls",
            "layout": "IPY_MODEL_a253394db1514934bca5bdbc3040ddf4"
          }
        },
        "3607d328fae14db883c2e9953166b6a4": {
          "model_module": "@jupyter-widgets/controls",
          "model_name": "FloatProgressModel",
          "state": {
            "_view_name": "ProgressView",
            "style": "IPY_MODEL_15bd5201f7d14d8aa74b2eb927d4ab04",
            "_dom_classes": [],
            "description": "",
            "_model_name": "FloatProgressModel",
            "bar_style": "",
            "max": 1,
            "_view_module": "@jupyter-widgets/controls",
            "_model_module_version": "1.5.0",
            "value": 1,
            "_view_count": null,
            "_view_module_version": "1.5.0",
            "orientation": "horizontal",
            "min": 0,
            "description_tooltip": null,
            "_model_module": "@jupyter-widgets/controls",
            "layout": "IPY_MODEL_09088a5ac9f4454382e154668b685ce7"
          }
        },
        "68cfaeed586a47e7bb3dcfd59195d1a5": {
          "model_module": "@jupyter-widgets/controls",
          "model_name": "DescriptionStyleModel",
          "state": {
            "_view_name": "StyleView",
            "_model_name": "DescriptionStyleModel",
            "description_width": "",
            "_view_module": "@jupyter-widgets/base",
            "_model_module_version": "1.5.0",
            "_view_count": null,
            "_view_module_version": "1.2.0",
            "_model_module": "@jupyter-widgets/controls"
          }
        },
        "a253394db1514934bca5bdbc3040ddf4": {
          "model_module": "@jupyter-widgets/base",
          "model_name": "LayoutModel",
          "state": {
            "_view_name": "LayoutView",
            "grid_template_rows": null,
            "right": null,
            "justify_content": null,
            "_view_module": "@jupyter-widgets/base",
            "overflow": null,
            "_model_module_version": "1.2.0",
            "_view_count": null,
            "flex_flow": null,
            "width": null,
            "min_width": null,
            "border": null,
            "align_items": null,
            "bottom": null,
            "_model_module": "@jupyter-widgets/base",
            "top": null,
            "grid_column": null,
            "overflow_y": null,
            "overflow_x": null,
            "grid_auto_flow": null,
            "grid_area": null,
            "grid_template_columns": null,
            "flex": null,
            "_model_name": "LayoutModel",
            "justify_items": null,
            "grid_row": null,
            "max_height": null,
            "align_content": null,
            "visibility": null,
            "align_self": null,
            "height": null,
            "min_height": null,
            "padding": null,
            "grid_auto_rows": null,
            "grid_gap": null,
            "max_width": null,
            "order": null,
            "_view_module_version": "1.2.0",
            "grid_template_areas": null,
            "object_position": null,
            "object_fit": null,
            "grid_auto_columns": null,
            "margin": null,
            "display": null,
            "left": null
          }
        },
        "15bd5201f7d14d8aa74b2eb927d4ab04": {
          "model_module": "@jupyter-widgets/controls",
          "model_name": "ProgressStyleModel",
          "state": {
            "_view_name": "StyleView",
            "_model_name": "ProgressStyleModel",
            "description_width": "",
            "_view_module": "@jupyter-widgets/base",
            "_model_module_version": "1.5.0",
            "_view_count": null,
            "_view_module_version": "1.2.0",
            "bar_color": null,
            "_model_module": "@jupyter-widgets/controls"
          }
        },
        "09088a5ac9f4454382e154668b685ce7": {
          "model_module": "@jupyter-widgets/base",
          "model_name": "LayoutModel",
          "state": {
            "_view_name": "LayoutView",
            "grid_template_rows": null,
            "right": null,
            "justify_content": null,
            "_view_module": "@jupyter-widgets/base",
            "overflow": null,
            "_model_module_version": "1.2.0",
            "_view_count": null,
            "flex_flow": null,
            "width": null,
            "min_width": null,
            "border": null,
            "align_items": null,
            "bottom": null,
            "_model_module": "@jupyter-widgets/base",
            "top": null,
            "grid_column": null,
            "overflow_y": null,
            "overflow_x": null,
            "grid_auto_flow": null,
            "grid_area": null,
            "grid_template_columns": null,
            "flex": null,
            "_model_name": "LayoutModel",
            "justify_items": null,
            "grid_row": null,
            "max_height": null,
            "align_content": null,
            "visibility": null,
            "align_self": null,
            "height": null,
            "min_height": null,
            "padding": null,
            "grid_auto_rows": null,
            "grid_gap": null,
            "max_width": null,
            "order": null,
            "_view_module_version": "1.2.0",
            "grid_template_areas": null,
            "object_position": null,
            "object_fit": null,
            "grid_auto_columns": null,
            "margin": null,
            "display": null,
            "left": null
          }
        }
      }
    }
  },
  "cells": [
    {
      "cell_type": "code",
      "metadata": {
        "colab": {
          "base_uri": "https://localhost:8080/"
        },
        "id": "Df7XOWsO9FHO",
        "outputId": "0ff52c8a-60df-421d-db35-a7886b026ed7"
      },
      "source": [
        "!pip uninstall scikit-learn -y\n",
        "\n",
        "!pip install -U scikit-learn"
      ],
      "execution_count": null,
      "outputs": [
        {
          "output_type": "stream",
          "text": [
            "Uninstalling scikit-learn-0.24.2:\n",
            "  Successfully uninstalled scikit-learn-0.24.2\n",
            "Collecting scikit-learn\n",
            "  Using cached https://files.pythonhosted.org/packages/a8/eb/a48f25c967526b66d5f1fa7a984594f0bf0a5afafa94a8c4dbc317744620/scikit_learn-0.24.2-cp37-cp37m-manylinux2010_x86_64.whl\n",
            "Requirement already satisfied, skipping upgrade: joblib>=0.11 in /usr/local/lib/python3.7/dist-packages (from scikit-learn) (1.0.1)\n",
            "Requirement already satisfied, skipping upgrade: scipy>=0.19.1 in /usr/local/lib/python3.7/dist-packages (from scikit-learn) (1.4.1)\n",
            "Requirement already satisfied, skipping upgrade: numpy>=1.13.3 in /usr/local/lib/python3.7/dist-packages (from scikit-learn) (1.19.5)\n",
            "Requirement already satisfied, skipping upgrade: threadpoolctl>=2.0.0 in /usr/local/lib/python3.7/dist-packages (from scikit-learn) (2.1.0)\n",
            "Installing collected packages: scikit-learn\n",
            "Successfully installed scikit-learn-0.24.2\n"
          ],
          "name": "stdout"
        }
      ]
    },
    {
      "cell_type": "code",
      "metadata": {
        "id": "Zoc_0TQsmD2q"
      },
      "source": [
        "import numpy as np \n",
        "import sklearn as sk\n",
        "from sklearn import datasets\n",
        "from sklearn import metrics\n",
        "from sklearn import svm\n",
        "from sklearn import linear_model\n",
        "from sklearn import cluster\n",
        "from sklearn import model_selection\n",
        "from sklearn.datasets import load_iris\n",
        "from sklearn.linear_model import LinearRegression, LogisticRegression, ElasticNet\n",
        "from sklearn.model_selection import train_test_split\n",
        "from sklearn.linear_model import PassiveAggressiveClassifier\n",
        "import pandas as pd\n",
        "from sklearn.metrics import accuracy_score\n",
        "from sklearn.metrics import explained_variance_score\n",
        "from sklearn.metrics import r2_score, mean_absolute_error, mean_absolute_percentage_error\n",
        "from sklearn.metrics import mean_squared_error\n",
        "from sklearn.linear_model import Ridge, Lasso, ARDRegression\n",
        "from sklearn.linear_model import SGDRegressor, PoissonRegressor, TweedieRegressor\n",
        "from sklearn.pipeline import make_pipeline\n",
        "from sklearn.preprocessing import StandardScaler\n",
        "from sklearn.svm import LinearSVC\n",
        "from sklearn.svm import NuSVR, SVR\n",
        "from sklearn.tree import DecisionTreeRegressor, ExtraTreeRegressor\n",
        "from sklearn.gaussian_process import GaussianProcessRegressor\n",
        "from sklearn.gaussian_process.kernels import DotProduct, WhiteKernel\n",
        "#from sklearn.linear_model import TweedieRegressor, PoissonRegressor, GammaRegressor\n",
        "from sklearn.model_selection import validation_curve\n",
        "from sklearn.decomposition import PCA, FastICA, fastica\n",
        "from sklearn.decomposition import FactorAnalysis, PCA\n",
        "from sklearn.preprocessing import StandardScaler\n",
        "import matplotlib.pyplot as plt\n",
        "from sklearn.feature_selection import SelectKBest\n",
        "from sklearn.feature_selection import chi2, mutual_info_regression\n",
        "import seaborn as sns"
      ],
      "execution_count": null,
      "outputs": []
    },
    {
      "cell_type": "code",
      "metadata": {
        "id": "w-k0y-aimeIg"
      },
      "source": [
        "the_real_one = pd.read_csv('THE_REAL_ONE_SCALED.csv')\n",
        "X_test = pd.read_csv('X_SCALED_TEST.csv')\n",
        "X_train = pd.read_csv('X_SCALED_TRAIN.csv')\n",
        "y_test = pd.read_csv('THE_REAL_ONE_Y_TEST_REGRESSION.csv')\n",
        "y_train = pd.read_csv('THE_REAL_ONE_Y_TRAIN_REGRESSION.csv')\n",
        "y_full = pd.read_csv(\"THE_REAL_ONE_Y_REGRESSION.csv\")\n",
        "#y_test = y_test.squeeze()\n",
        "#y_train = y_train.squeeze()\n",
        "\n",
        "rvalues = []\n",
        "mae = []\n",
        "mape = []\n",
        "names = []"
      ],
      "execution_count": null,
      "outputs": []
    },
    {
      "cell_type": "code",
      "metadata": {
        "colab": {
          "base_uri": "https://localhost:8080/",
          "height": 439
        },
        "id": "Sc9ylj4-4enW",
        "outputId": "543acf0b-a3da-42ed-951a-d86241122b32"
      },
      "source": [
        "the_real_one = the_real_one.drop(['score', 'rounded_score', 'sextile_score', 'tripartite_score'], axis=1)\n",
        "the_real_one\n"
      ],
      "execution_count": null,
      "outputs": [
        {
          "output_type": "execute_result",
          "data": {
            "text/html": [
              "<div>\n",
              "<style scoped>\n",
              "    .dataframe tbody tr th:only-of-type {\n",
              "        vertical-align: middle;\n",
              "    }\n",
              "\n",
              "    .dataframe tbody tr th {\n",
              "        vertical-align: top;\n",
              "    }\n",
              "\n",
              "    .dataframe thead th {\n",
              "        text-align: right;\n",
              "    }\n",
              "</style>\n",
              "<table border=\"1\" class=\"dataframe\">\n",
              "  <thead>\n",
              "    <tr style=\"text-align: right;\">\n",
              "      <th></th>\n",
              "      <th>popularity</th>\n",
              "      <th>total_tracks</th>\n",
              "      <th>album_duration_minutes</th>\n",
              "      <th>year</th>\n",
              "      <th>min_loudness</th>\n",
              "      <th>max_loudness</th>\n",
              "      <th>mean_loudness</th>\n",
              "      <th>stddev_loudness</th>\n",
              "      <th>label_frequency</th>\n",
              "      <th>mean_duration</th>\n",
              "      <th>min_valence</th>\n",
              "      <th>max_valence</th>\n",
              "      <th>stddev_valence</th>\n",
              "      <th>mean_valence</th>\n",
              "      <th>weighted_avg_valence</th>\n",
              "      <th>weighted_avg_speechiness</th>\n",
              "      <th>med_liveness</th>\n",
              "      <th>stddev_liveness</th>\n",
              "      <th>stddev_instrumentalness</th>\n",
              "      <th>weighted_avg_instrumentalness</th>\n",
              "      <th>explicit</th>\n",
              "      <th>weighted_avg_energy</th>\n",
              "      <th>min_danceability</th>\n",
              "      <th>max_danceability</th>\n",
              "      <th>mean_danceability</th>\n",
              "      <th>stddev_danceability</th>\n",
              "      <th>mean_acousticness</th>\n",
              "      <th>stddev_acousticness</th>\n",
              "      <th>med_acousticness</th>\n",
              "      <th>min_popularity</th>\n",
              "      <th>max_popularity</th>\n",
              "      <th>mean_popularity</th>\n",
              "      <th>stddev_popularity</th>\n",
              "      <th>key_0_pct</th>\n",
              "      <th>key_1_pct</th>\n",
              "      <th>key_2_pct</th>\n",
              "      <th>key_3_pct</th>\n",
              "      <th>key_4_pct</th>\n",
              "      <th>key_5_pct</th>\n",
              "      <th>key_6_pct</th>\n",
              "      <th>...</th>\n",
              "      <th>sig_5_pct</th>\n",
              "      <th>num_artists</th>\n",
              "      <th>num_features</th>\n",
              "      <th>artist_popularity_mean</th>\n",
              "      <th>artist_followers_mean</th>\n",
              "      <th>artist_popularity_min</th>\n",
              "      <th>artist_popularity_max</th>\n",
              "      <th>artist_followers_min</th>\n",
              "      <th>artist_followers_max</th>\n",
              "      <th>artist_popularity_stddev</th>\n",
              "      <th>artist_followers_stddev</th>\n",
              "      <th>mean_feat_artist_popularity</th>\n",
              "      <th>mean_feat_artist_followers</th>\n",
              "      <th>min_feat_artist_popularity</th>\n",
              "      <th>min_feat_artist_followers</th>\n",
              "      <th>max_feat_artist_popularity</th>\n",
              "      <th>max_feat_artist_followers</th>\n",
              "      <th>stddev_feat_artist_popularity</th>\n",
              "      <th>stddev_feat_artist_followers</th>\n",
              "      <th>genre_0_pct</th>\n",
              "      <th>genre_1_pct</th>\n",
              "      <th>genre_2_pct</th>\n",
              "      <th>genre_3_pct</th>\n",
              "      <th>genre_4_pct</th>\n",
              "      <th>genre_5_pct</th>\n",
              "      <th>genre_6_pct</th>\n",
              "      <th>genre_7_pct</th>\n",
              "      <th>genre_8_pct</th>\n",
              "      <th>genre_9_pct</th>\n",
              "      <th>genre_10_pct</th>\n",
              "      <th>genre_11_pct</th>\n",
              "      <th>genre_12_pct</th>\n",
              "      <th>genre_13_pct</th>\n",
              "      <th>genre_14_pct</th>\n",
              "      <th>genre_15_pct</th>\n",
              "      <th>genre_16_pct</th>\n",
              "      <th>genre_17_pct</th>\n",
              "      <th>genre_18_pct</th>\n",
              "      <th>genre_19_pct</th>\n",
              "      <th>genre_20_pct</th>\n",
              "    </tr>\n",
              "  </thead>\n",
              "  <tbody>\n",
              "    <tr>\n",
              "      <th>0</th>\n",
              "      <td>25</td>\n",
              "      <td>0.037383</td>\n",
              "      <td>0.050448</td>\n",
              "      <td>1.000000</td>\n",
              "      <td>8.695784</td>\n",
              "      <td>77.746616</td>\n",
              "      <td>71.966860</td>\n",
              "      <td>2.468588</td>\n",
              "      <td>0.000000</td>\n",
              "      <td>0.057872</td>\n",
              "      <td>52.09</td>\n",
              "      <td>55.6</td>\n",
              "      <td>15.025998</td>\n",
              "      <td>18.476000</td>\n",
              "      <td>16.069549</td>\n",
              "      <td>3.524631</td>\n",
              "      <td>9.575</td>\n",
              "      <td>5.812945</td>\n",
              "      <td>30.604008</td>\n",
              "      <td>22.075199</td>\n",
              "      <td>0.0</td>\n",
              "      <td>22.089854</td>\n",
              "      <td>39.40</td>\n",
              "      <td>63.3</td>\n",
              "      <td>45.330000</td>\n",
              "      <td>10.642582</td>\n",
              "      <td>76.730000</td>\n",
              "      <td>76.730000</td>\n",
              "      <td>81.6500</td>\n",
              "      <td>10</td>\n",
              "      <td>17</td>\n",
              "      <td>12.800000</td>\n",
              "      <td>2.699794</td>\n",
              "      <td>0.000000</td>\n",
              "      <td>0.000000</td>\n",
              "      <td>30.000000</td>\n",
              "      <td>0.000000</td>\n",
              "      <td>20.000000</td>\n",
              "      <td>0.000000</td>\n",
              "      <td>0.000000</td>\n",
              "      <td>...</td>\n",
              "      <td>0.000000</td>\n",
              "      <td>0.0</td>\n",
              "      <td>0.057692</td>\n",
              "      <td>18.0</td>\n",
              "      <td>6.289716</td>\n",
              "      <td>18</td>\n",
              "      <td>18</td>\n",
              "      <td>6.289716</td>\n",
              "      <td>6.289716</td>\n",
              "      <td>0.0</td>\n",
              "      <td>0.0</td>\n",
              "      <td>24.000000</td>\n",
              "      <td>7.482682</td>\n",
              "      <td>24.0</td>\n",
              "      <td>7.482682</td>\n",
              "      <td>24.0</td>\n",
              "      <td>7.482682</td>\n",
              "      <td>0.000000</td>\n",
              "      <td>0.000000</td>\n",
              "      <td>0.000000</td>\n",
              "      <td>20.000000</td>\n",
              "      <td>0.000000</td>\n",
              "      <td>0.000000</td>\n",
              "      <td>10.000000</td>\n",
              "      <td>0.000000</td>\n",
              "      <td>0.000000</td>\n",
              "      <td>10.000000</td>\n",
              "      <td>0.000000</td>\n",
              "      <td>40.000000</td>\n",
              "      <td>0.0</td>\n",
              "      <td>0.000000</td>\n",
              "      <td>0.000000</td>\n",
              "      <td>0.000000</td>\n",
              "      <td>0.000000</td>\n",
              "      <td>0.000000</td>\n",
              "      <td>10.000000</td>\n",
              "      <td>0.000000</td>\n",
              "      <td>0.000000</td>\n",
              "      <td>10.000000</td>\n",
              "      <td>0.000000</td>\n",
              "    </tr>\n",
              "    <tr>\n",
              "      <th>1</th>\n",
              "      <td>69</td>\n",
              "      <td>0.070093</td>\n",
              "      <td>0.073504</td>\n",
              "      <td>1.000000</td>\n",
              "      <td>5.087701</td>\n",
              "      <td>81.197035</td>\n",
              "      <td>78.453161</td>\n",
              "      <td>1.668215</td>\n",
              "      <td>0.003650</td>\n",
              "      <td>0.047095</td>\n",
              "      <td>75.31</td>\n",
              "      <td>82.5</td>\n",
              "      <td>20.156995</td>\n",
              "      <td>43.517059</td>\n",
              "      <td>43.974797</td>\n",
              "      <td>26.145333</td>\n",
              "      <td>11.200</td>\n",
              "      <td>10.004012</td>\n",
              "      <td>0.001001</td>\n",
              "      <td>0.000364</td>\n",
              "      <td>100.0</td>\n",
              "      <td>55.135105</td>\n",
              "      <td>45.40</td>\n",
              "      <td>87.3</td>\n",
              "      <td>75.317647</td>\n",
              "      <td>12.166976</td>\n",
              "      <td>12.456412</td>\n",
              "      <td>12.456412</td>\n",
              "      <td>6.9500</td>\n",
              "      <td>33</td>\n",
              "      <td>72</td>\n",
              "      <td>40.941176</td>\n",
              "      <td>8.989373</td>\n",
              "      <td>11.764706</td>\n",
              "      <td>41.176471</td>\n",
              "      <td>5.882353</td>\n",
              "      <td>0.000000</td>\n",
              "      <td>5.882353</td>\n",
              "      <td>0.000000</td>\n",
              "      <td>5.882353</td>\n",
              "      <td>...</td>\n",
              "      <td>0.000000</td>\n",
              "      <td>0.0</td>\n",
              "      <td>0.288462</td>\n",
              "      <td>69.0</td>\n",
              "      <td>11.990569</td>\n",
              "      <td>69</td>\n",
              "      <td>69</td>\n",
              "      <td>11.990569</td>\n",
              "      <td>11.990569</td>\n",
              "      <td>0.0</td>\n",
              "      <td>0.0</td>\n",
              "      <td>53.230769</td>\n",
              "      <td>15.280879</td>\n",
              "      <td>25.0</td>\n",
              "      <td>3.218876</td>\n",
              "      <td>99.0</td>\n",
              "      <td>17.815850</td>\n",
              "      <td>20.753128</td>\n",
              "      <td>2.863981</td>\n",
              "      <td>0.000000</td>\n",
              "      <td>94.117647</td>\n",
              "      <td>0.000000</td>\n",
              "      <td>5.882353</td>\n",
              "      <td>0.000000</td>\n",
              "      <td>0.000000</td>\n",
              "      <td>0.000000</td>\n",
              "      <td>0.000000</td>\n",
              "      <td>0.000000</td>\n",
              "      <td>0.000000</td>\n",
              "      <td>0.0</td>\n",
              "      <td>0.000000</td>\n",
              "      <td>0.000000</td>\n",
              "      <td>0.000000</td>\n",
              "      <td>0.000000</td>\n",
              "      <td>0.000000</td>\n",
              "      <td>0.000000</td>\n",
              "      <td>0.000000</td>\n",
              "      <td>0.000000</td>\n",
              "      <td>0.000000</td>\n",
              "      <td>0.000000</td>\n",
              "    </tr>\n",
              "    <tr>\n",
              "      <th>2</th>\n",
              "      <td>44</td>\n",
              "      <td>0.233645</td>\n",
              "      <td>0.310125</td>\n",
              "      <td>1.000000</td>\n",
              "      <td>27.651865</td>\n",
              "      <td>77.851220</td>\n",
              "      <td>67.206191</td>\n",
              "      <td>7.829765</td>\n",
              "      <td>0.072993</td>\n",
              "      <td>0.066995</td>\n",
              "      <td>83.92</td>\n",
              "      <td>87.1</td>\n",
              "      <td>21.225589</td>\n",
              "      <td>29.830000</td>\n",
              "      <td>28.973155</td>\n",
              "      <td>9.620623</td>\n",
              "      <td>11.250</td>\n",
              "      <td>13.873995</td>\n",
              "      <td>32.165156</td>\n",
              "      <td>68.565822</td>\n",
              "      <td>0.0</td>\n",
              "      <td>31.134999</td>\n",
              "      <td>72.37</td>\n",
              "      <td>81.6</td>\n",
              "      <td>44.774600</td>\n",
              "      <td>19.179167</td>\n",
              "      <td>84.409600</td>\n",
              "      <td>84.409600</td>\n",
              "      <td>93.0000</td>\n",
              "      <td>13</td>\n",
              "      <td>34</td>\n",
              "      <td>18.960000</td>\n",
              "      <td>4.936164</td>\n",
              "      <td>13.461538</td>\n",
              "      <td>5.769231</td>\n",
              "      <td>3.846154</td>\n",
              "      <td>5.769231</td>\n",
              "      <td>9.615385</td>\n",
              "      <td>9.615385</td>\n",
              "      <td>1.923077</td>\n",
              "      <td>...</td>\n",
              "      <td>5.769231</td>\n",
              "      <td>0.0</td>\n",
              "      <td>0.076923</td>\n",
              "      <td>50.0</td>\n",
              "      <td>9.708324</td>\n",
              "      <td>50</td>\n",
              "      <td>50</td>\n",
              "      <td>9.708324</td>\n",
              "      <td>9.708324</td>\n",
              "      <td>0.0</td>\n",
              "      <td>0.0</td>\n",
              "      <td>33.000000</td>\n",
              "      <td>7.891518</td>\n",
              "      <td>25.0</td>\n",
              "      <td>6.745236</td>\n",
              "      <td>41.0</td>\n",
              "      <td>8.411610</td>\n",
              "      <td>11.313708</td>\n",
              "      <td>2.181098</td>\n",
              "      <td>0.000000</td>\n",
              "      <td>3.846154</td>\n",
              "      <td>3.846154</td>\n",
              "      <td>5.769231</td>\n",
              "      <td>9.615385</td>\n",
              "      <td>3.846154</td>\n",
              "      <td>7.692308</td>\n",
              "      <td>5.769231</td>\n",
              "      <td>1.923077</td>\n",
              "      <td>7.692308</td>\n",
              "      <td>0.0</td>\n",
              "      <td>1.923077</td>\n",
              "      <td>0.000000</td>\n",
              "      <td>1.923077</td>\n",
              "      <td>15.384615</td>\n",
              "      <td>0.000000</td>\n",
              "      <td>3.846154</td>\n",
              "      <td>7.692308</td>\n",
              "      <td>3.846154</td>\n",
              "      <td>1.923077</td>\n",
              "      <td>9.615385</td>\n",
              "    </tr>\n",
              "    <tr>\n",
              "      <th>3</th>\n",
              "      <td>43</td>\n",
              "      <td>0.046729</td>\n",
              "      <td>0.054516</td>\n",
              "      <td>1.000000</td>\n",
              "      <td>5.084669</td>\n",
              "      <td>79.579461</td>\n",
              "      <td>76.552764</td>\n",
              "      <td>1.577898</td>\n",
              "      <td>0.229927</td>\n",
              "      <td>0.051043</td>\n",
              "      <td>73.80</td>\n",
              "      <td>96.7</td>\n",
              "      <td>23.668895</td>\n",
              "      <td>72.475000</td>\n",
              "      <td>74.175735</td>\n",
              "      <td>6.567317</td>\n",
              "      <td>9.125</td>\n",
              "      <td>13.549375</td>\n",
              "      <td>24.003436</td>\n",
              "      <td>18.619665</td>\n",
              "      <td>0.0</td>\n",
              "      <td>61.188227</td>\n",
              "      <td>51.50</td>\n",
              "      <td>87.9</td>\n",
              "      <td>69.800000</td>\n",
              "      <td>16.594961</td>\n",
              "      <td>28.157500</td>\n",
              "      <td>28.157500</td>\n",
              "      <td>16.4000</td>\n",
              "      <td>24</td>\n",
              "      <td>36</td>\n",
              "      <td>28.583333</td>\n",
              "      <td>3.824760</td>\n",
              "      <td>16.666667</td>\n",
              "      <td>0.000000</td>\n",
              "      <td>8.333333</td>\n",
              "      <td>0.000000</td>\n",
              "      <td>25.000000</td>\n",
              "      <td>25.000000</td>\n",
              "      <td>8.333333</td>\n",
              "      <td>...</td>\n",
              "      <td>8.333333</td>\n",
              "      <td>0.0</td>\n",
              "      <td>0.038462</td>\n",
              "      <td>57.0</td>\n",
              "      <td>11.820167</td>\n",
              "      <td>57</td>\n",
              "      <td>57</td>\n",
              "      <td>11.820167</td>\n",
              "      <td>11.820167</td>\n",
              "      <td>0.0</td>\n",
              "      <td>0.0</td>\n",
              "      <td>0.000000</td>\n",
              "      <td>0.000000</td>\n",
              "      <td>0.0</td>\n",
              "      <td>0.000000</td>\n",
              "      <td>0.0</td>\n",
              "      <td>0.000000</td>\n",
              "      <td>0.000000</td>\n",
              "      <td>0.000000</td>\n",
              "      <td>8.333333</td>\n",
              "      <td>0.000000</td>\n",
              "      <td>8.333333</td>\n",
              "      <td>0.000000</td>\n",
              "      <td>0.000000</td>\n",
              "      <td>0.000000</td>\n",
              "      <td>0.000000</td>\n",
              "      <td>33.333333</td>\n",
              "      <td>25.000000</td>\n",
              "      <td>0.000000</td>\n",
              "      <td>0.0</td>\n",
              "      <td>0.000000</td>\n",
              "      <td>0.000000</td>\n",
              "      <td>0.000000</td>\n",
              "      <td>0.000000</td>\n",
              "      <td>0.000000</td>\n",
              "      <td>0.000000</td>\n",
              "      <td>8.333333</td>\n",
              "      <td>16.666667</td>\n",
              "      <td>0.000000</td>\n",
              "      <td>0.000000</td>\n",
              "    </tr>\n",
              "    <tr>\n",
              "      <th>4</th>\n",
              "      <td>60</td>\n",
              "      <td>0.037383</td>\n",
              "      <td>0.056486</td>\n",
              "      <td>0.984615</td>\n",
              "      <td>16.084775</td>\n",
              "      <td>81.914103</td>\n",
              "      <td>78.010248</td>\n",
              "      <td>4.848596</td>\n",
              "      <td>0.000000</td>\n",
              "      <td>0.064966</td>\n",
              "      <td>71.90</td>\n",
              "      <td>90.5</td>\n",
              "      <td>28.487900</td>\n",
              "      <td>58.760000</td>\n",
              "      <td>59.015377</td>\n",
              "      <td>6.562235</td>\n",
              "      <td>32.850</td>\n",
              "      <td>17.877847</td>\n",
              "      <td>33.922389</td>\n",
              "      <td>31.894178</td>\n",
              "      <td>100.0</td>\n",
              "      <td>74.673965</td>\n",
              "      <td>28.00</td>\n",
              "      <td>65.5</td>\n",
              "      <td>54.750000</td>\n",
              "      <td>9.336577</td>\n",
              "      <td>9.097215</td>\n",
              "      <td>9.097215</td>\n",
              "      <td>4.4200</td>\n",
              "      <td>41</td>\n",
              "      <td>53</td>\n",
              "      <td>46.500000</td>\n",
              "      <td>4.169999</td>\n",
              "      <td>0.000000</td>\n",
              "      <td>10.000000</td>\n",
              "      <td>0.000000</td>\n",
              "      <td>0.000000</td>\n",
              "      <td>10.000000</td>\n",
              "      <td>0.000000</td>\n",
              "      <td>10.000000</td>\n",
              "      <td>...</td>\n",
              "      <td>0.000000</td>\n",
              "      <td>0.0</td>\n",
              "      <td>0.038462</td>\n",
              "      <td>68.0</td>\n",
              "      <td>13.380706</td>\n",
              "      <td>68</td>\n",
              "      <td>68</td>\n",
              "      <td>13.380706</td>\n",
              "      <td>13.380706</td>\n",
              "      <td>0.0</td>\n",
              "      <td>0.0</td>\n",
              "      <td>0.000000</td>\n",
              "      <td>0.000000</td>\n",
              "      <td>0.0</td>\n",
              "      <td>0.000000</td>\n",
              "      <td>0.0</td>\n",
              "      <td>0.000000</td>\n",
              "      <td>0.000000</td>\n",
              "      <td>0.000000</td>\n",
              "      <td>0.000000</td>\n",
              "      <td>0.000000</td>\n",
              "      <td>10.000000</td>\n",
              "      <td>0.000000</td>\n",
              "      <td>0.000000</td>\n",
              "      <td>10.000000</td>\n",
              "      <td>10.000000</td>\n",
              "      <td>20.000000</td>\n",
              "      <td>10.000000</td>\n",
              "      <td>0.000000</td>\n",
              "      <td>0.0</td>\n",
              "      <td>0.000000</td>\n",
              "      <td>0.000000</td>\n",
              "      <td>10.000000</td>\n",
              "      <td>0.000000</td>\n",
              "      <td>10.000000</td>\n",
              "      <td>20.000000</td>\n",
              "      <td>0.000000</td>\n",
              "      <td>0.000000</td>\n",
              "      <td>0.000000</td>\n",
              "      <td>0.000000</td>\n",
              "    </tr>\n",
              "    <tr>\n",
              "      <th>...</th>\n",
              "      <td>...</td>\n",
              "      <td>...</td>\n",
              "      <td>...</td>\n",
              "      <td>...</td>\n",
              "      <td>...</td>\n",
              "      <td>...</td>\n",
              "      <td>...</td>\n",
              "      <td>...</td>\n",
              "      <td>...</td>\n",
              "      <td>...</td>\n",
              "      <td>...</td>\n",
              "      <td>...</td>\n",
              "      <td>...</td>\n",
              "      <td>...</td>\n",
              "      <td>...</td>\n",
              "      <td>...</td>\n",
              "      <td>...</td>\n",
              "      <td>...</td>\n",
              "      <td>...</td>\n",
              "      <td>...</td>\n",
              "      <td>...</td>\n",
              "      <td>...</td>\n",
              "      <td>...</td>\n",
              "      <td>...</td>\n",
              "      <td>...</td>\n",
              "      <td>...</td>\n",
              "      <td>...</td>\n",
              "      <td>...</td>\n",
              "      <td>...</td>\n",
              "      <td>...</td>\n",
              "      <td>...</td>\n",
              "      <td>...</td>\n",
              "      <td>...</td>\n",
              "      <td>...</td>\n",
              "      <td>...</td>\n",
              "      <td>...</td>\n",
              "      <td>...</td>\n",
              "      <td>...</td>\n",
              "      <td>...</td>\n",
              "      <td>...</td>\n",
              "      <td>...</td>\n",
              "      <td>...</td>\n",
              "      <td>...</td>\n",
              "      <td>...</td>\n",
              "      <td>...</td>\n",
              "      <td>...</td>\n",
              "      <td>...</td>\n",
              "      <td>...</td>\n",
              "      <td>...</td>\n",
              "      <td>...</td>\n",
              "      <td>...</td>\n",
              "      <td>...</td>\n",
              "      <td>...</td>\n",
              "      <td>...</td>\n",
              "      <td>...</td>\n",
              "      <td>...</td>\n",
              "      <td>...</td>\n",
              "      <td>...</td>\n",
              "      <td>...</td>\n",
              "      <td>...</td>\n",
              "      <td>...</td>\n",
              "      <td>...</td>\n",
              "      <td>...</td>\n",
              "      <td>...</td>\n",
              "      <td>...</td>\n",
              "      <td>...</td>\n",
              "      <td>...</td>\n",
              "      <td>...</td>\n",
              "      <td>...</td>\n",
              "      <td>...</td>\n",
              "      <td>...</td>\n",
              "      <td>...</td>\n",
              "      <td>...</td>\n",
              "      <td>...</td>\n",
              "      <td>...</td>\n",
              "      <td>...</td>\n",
              "      <td>...</td>\n",
              "      <td>...</td>\n",
              "      <td>...</td>\n",
              "      <td>...</td>\n",
              "      <td>...</td>\n",
              "    </tr>\n",
              "    <tr>\n",
              "      <th>16437</th>\n",
              "      <td>31</td>\n",
              "      <td>0.023364</td>\n",
              "      <td>0.039864</td>\n",
              "      <td>0.661538</td>\n",
              "      <td>7.487531</td>\n",
              "      <td>75.086033</td>\n",
              "      <td>71.995339</td>\n",
              "      <td>2.927091</td>\n",
              "      <td>0.740876</td>\n",
              "      <td>0.067909</td>\n",
              "      <td>69.50</td>\n",
              "      <td>76.3</td>\n",
              "      <td>24.618199</td>\n",
              "      <td>41.728571</td>\n",
              "      <td>42.058227</td>\n",
              "      <td>6.142869</td>\n",
              "      <td>12.600</td>\n",
              "      <td>7.080754</td>\n",
              "      <td>30.172104</td>\n",
              "      <td>73.998741</td>\n",
              "      <td>0.0</td>\n",
              "      <td>70.294207</td>\n",
              "      <td>27.20</td>\n",
              "      <td>58.2</td>\n",
              "      <td>43.728571</td>\n",
              "      <td>9.774067</td>\n",
              "      <td>22.448286</td>\n",
              "      <td>22.448286</td>\n",
              "      <td>3.6000</td>\n",
              "      <td>8</td>\n",
              "      <td>35</td>\n",
              "      <td>12.571429</td>\n",
              "      <td>9.947481</td>\n",
              "      <td>0.000000</td>\n",
              "      <td>42.857143</td>\n",
              "      <td>14.285714</td>\n",
              "      <td>0.000000</td>\n",
              "      <td>14.285714</td>\n",
              "      <td>0.000000</td>\n",
              "      <td>14.285714</td>\n",
              "      <td>...</td>\n",
              "      <td>0.000000</td>\n",
              "      <td>0.0</td>\n",
              "      <td>0.038462</td>\n",
              "      <td>50.0</td>\n",
              "      <td>11.978971</td>\n",
              "      <td>50</td>\n",
              "      <td>50</td>\n",
              "      <td>11.978971</td>\n",
              "      <td>11.978971</td>\n",
              "      <td>0.0</td>\n",
              "      <td>0.0</td>\n",
              "      <td>0.000000</td>\n",
              "      <td>0.000000</td>\n",
              "      <td>0.0</td>\n",
              "      <td>0.000000</td>\n",
              "      <td>0.0</td>\n",
              "      <td>0.000000</td>\n",
              "      <td>0.000000</td>\n",
              "      <td>0.000000</td>\n",
              "      <td>0.000000</td>\n",
              "      <td>0.000000</td>\n",
              "      <td>14.285714</td>\n",
              "      <td>0.000000</td>\n",
              "      <td>0.000000</td>\n",
              "      <td>0.000000</td>\n",
              "      <td>0.000000</td>\n",
              "      <td>0.000000</td>\n",
              "      <td>14.285714</td>\n",
              "      <td>28.571429</td>\n",
              "      <td>0.0</td>\n",
              "      <td>0.000000</td>\n",
              "      <td>0.000000</td>\n",
              "      <td>0.000000</td>\n",
              "      <td>14.285714</td>\n",
              "      <td>0.000000</td>\n",
              "      <td>14.285714</td>\n",
              "      <td>0.000000</td>\n",
              "      <td>0.000000</td>\n",
              "      <td>14.285714</td>\n",
              "      <td>0.000000</td>\n",
              "    </tr>\n",
              "    <tr>\n",
              "      <th>16438</th>\n",
              "      <td>56</td>\n",
              "      <td>0.070093</td>\n",
              "      <td>0.083593</td>\n",
              "      <td>0.661538</td>\n",
              "      <td>85.660143</td>\n",
              "      <td>85.660143</td>\n",
              "      <td>75.658814</td>\n",
              "      <td>19.957987</td>\n",
              "      <td>0.255474</td>\n",
              "      <td>0.054068</td>\n",
              "      <td>83.90</td>\n",
              "      <td>83.9</td>\n",
              "      <td>24.398101</td>\n",
              "      <td>43.188235</td>\n",
              "      <td>46.731975</td>\n",
              "      <td>3.583291</td>\n",
              "      <td>10.700</td>\n",
              "      <td>11.592671</td>\n",
              "      <td>15.440686</td>\n",
              "      <td>6.035377</td>\n",
              "      <td>0.0</td>\n",
              "      <td>64.086232</td>\n",
              "      <td>69.20</td>\n",
              "      <td>69.2</td>\n",
              "      <td>47.223529</td>\n",
              "      <td>16.006777</td>\n",
              "      <td>23.552353</td>\n",
              "      <td>23.552353</td>\n",
              "      <td>7.0800</td>\n",
              "      <td>2</td>\n",
              "      <td>56</td>\n",
              "      <td>32.294118</td>\n",
              "      <td>10.941690</td>\n",
              "      <td>11.764706</td>\n",
              "      <td>5.882353</td>\n",
              "      <td>35.294118</td>\n",
              "      <td>0.000000</td>\n",
              "      <td>5.882353</td>\n",
              "      <td>0.000000</td>\n",
              "      <td>0.000000</td>\n",
              "      <td>...</td>\n",
              "      <td>0.000000</td>\n",
              "      <td>0.0</td>\n",
              "      <td>0.038462</td>\n",
              "      <td>67.0</td>\n",
              "      <td>13.284176</td>\n",
              "      <td>67</td>\n",
              "      <td>67</td>\n",
              "      <td>13.284176</td>\n",
              "      <td>13.284176</td>\n",
              "      <td>0.0</td>\n",
              "      <td>0.0</td>\n",
              "      <td>0.000000</td>\n",
              "      <td>0.000000</td>\n",
              "      <td>0.0</td>\n",
              "      <td>0.000000</td>\n",
              "      <td>0.0</td>\n",
              "      <td>0.000000</td>\n",
              "      <td>0.000000</td>\n",
              "      <td>0.000000</td>\n",
              "      <td>17.647059</td>\n",
              "      <td>11.764706</td>\n",
              "      <td>0.000000</td>\n",
              "      <td>5.882353</td>\n",
              "      <td>0.000000</td>\n",
              "      <td>0.000000</td>\n",
              "      <td>0.000000</td>\n",
              "      <td>5.882353</td>\n",
              "      <td>0.000000</td>\n",
              "      <td>0.000000</td>\n",
              "      <td>0.0</td>\n",
              "      <td>29.411765</td>\n",
              "      <td>5.882353</td>\n",
              "      <td>5.882353</td>\n",
              "      <td>0.000000</td>\n",
              "      <td>5.882353</td>\n",
              "      <td>0.000000</td>\n",
              "      <td>0.000000</td>\n",
              "      <td>0.000000</td>\n",
              "      <td>11.764706</td>\n",
              "      <td>0.000000</td>\n",
              "    </tr>\n",
              "    <tr>\n",
              "      <th>16439</th>\n",
              "      <td>57</td>\n",
              "      <td>0.037383</td>\n",
              "      <td>0.063983</td>\n",
              "      <td>0.661538</td>\n",
              "      <td>2.516562</td>\n",
              "      <td>82.393160</td>\n",
              "      <td>81.402908</td>\n",
              "      <td>0.907825</td>\n",
              "      <td>0.372263</td>\n",
              "      <td>0.073774</td>\n",
              "      <td>72.40</td>\n",
              "      <td>93.3</td>\n",
              "      <td>20.468502</td>\n",
              "      <td>52.920000</td>\n",
              "      <td>50.707482</td>\n",
              "      <td>3.270570</td>\n",
              "      <td>18.100</td>\n",
              "      <td>8.463656</td>\n",
              "      <td>29.561014</td>\n",
              "      <td>40.199373</td>\n",
              "      <td>0.0</td>\n",
              "      <td>76.314037</td>\n",
              "      <td>32.60</td>\n",
              "      <td>50.6</td>\n",
              "      <td>32.270000</td>\n",
              "      <td>10.564095</td>\n",
              "      <td>0.019881</td>\n",
              "      <td>0.019881</td>\n",
              "      <td>0.0163</td>\n",
              "      <td>34</td>\n",
              "      <td>57</td>\n",
              "      <td>40.600000</td>\n",
              "      <td>6.736303</td>\n",
              "      <td>0.000000</td>\n",
              "      <td>0.000000</td>\n",
              "      <td>30.000000</td>\n",
              "      <td>0.000000</td>\n",
              "      <td>30.000000</td>\n",
              "      <td>0.000000</td>\n",
              "      <td>0.000000</td>\n",
              "      <td>...</td>\n",
              "      <td>0.000000</td>\n",
              "      <td>0.0</td>\n",
              "      <td>0.038462</td>\n",
              "      <td>56.0</td>\n",
              "      <td>12.279890</td>\n",
              "      <td>56</td>\n",
              "      <td>56</td>\n",
              "      <td>12.279890</td>\n",
              "      <td>12.279890</td>\n",
              "      <td>0.0</td>\n",
              "      <td>0.0</td>\n",
              "      <td>0.000000</td>\n",
              "      <td>0.000000</td>\n",
              "      <td>0.0</td>\n",
              "      <td>0.000000</td>\n",
              "      <td>0.0</td>\n",
              "      <td>0.000000</td>\n",
              "      <td>0.000000</td>\n",
              "      <td>0.000000</td>\n",
              "      <td>0.000000</td>\n",
              "      <td>10.000000</td>\n",
              "      <td>0.000000</td>\n",
              "      <td>0.000000</td>\n",
              "      <td>0.000000</td>\n",
              "      <td>10.000000</td>\n",
              "      <td>0.000000</td>\n",
              "      <td>0.000000</td>\n",
              "      <td>30.000000</td>\n",
              "      <td>0.000000</td>\n",
              "      <td>0.0</td>\n",
              "      <td>0.000000</td>\n",
              "      <td>0.000000</td>\n",
              "      <td>20.000000</td>\n",
              "      <td>0.000000</td>\n",
              "      <td>10.000000</td>\n",
              "      <td>10.000000</td>\n",
              "      <td>0.000000</td>\n",
              "      <td>10.000000</td>\n",
              "      <td>0.000000</td>\n",
              "      <td>0.000000</td>\n",
              "    </tr>\n",
              "    <tr>\n",
              "      <th>16440</th>\n",
              "      <td>5</td>\n",
              "      <td>0.046729</td>\n",
              "      <td>0.060786</td>\n",
              "      <td>0.661538</td>\n",
              "      <td>5.199885</td>\n",
              "      <td>79.112533</td>\n",
              "      <td>76.730010</td>\n",
              "      <td>1.729905</td>\n",
              "      <td>0.010949</td>\n",
              "      <td>0.057182</td>\n",
              "      <td>67.50</td>\n",
              "      <td>97.2</td>\n",
              "      <td>24.716151</td>\n",
              "      <td>57.091667</td>\n",
              "      <td>55.815206</td>\n",
              "      <td>5.762615</td>\n",
              "      <td>20.800</td>\n",
              "      <td>14.893113</td>\n",
              "      <td>36.689485</td>\n",
              "      <td>28.698280</td>\n",
              "      <td>0.0</td>\n",
              "      <td>73.804939</td>\n",
              "      <td>43.10</td>\n",
              "      <td>60.4</td>\n",
              "      <td>44.516667</td>\n",
              "      <td>12.546411</td>\n",
              "      <td>0.185167</td>\n",
              "      <td>0.185167</td>\n",
              "      <td>0.0525</td>\n",
              "      <td>0</td>\n",
              "      <td>3</td>\n",
              "      <td>0.666667</td>\n",
              "      <td>0.984732</td>\n",
              "      <td>0.000000</td>\n",
              "      <td>0.000000</td>\n",
              "      <td>8.333333</td>\n",
              "      <td>0.000000</td>\n",
              "      <td>8.333333</td>\n",
              "      <td>0.000000</td>\n",
              "      <td>0.000000</td>\n",
              "      <td>...</td>\n",
              "      <td>8.333333</td>\n",
              "      <td>0.0</td>\n",
              "      <td>0.038462</td>\n",
              "      <td>17.0</td>\n",
              "      <td>7.820038</td>\n",
              "      <td>17</td>\n",
              "      <td>17</td>\n",
              "      <td>7.820038</td>\n",
              "      <td>7.820038</td>\n",
              "      <td>0.0</td>\n",
              "      <td>0.0</td>\n",
              "      <td>0.000000</td>\n",
              "      <td>0.000000</td>\n",
              "      <td>0.0</td>\n",
              "      <td>0.000000</td>\n",
              "      <td>0.0</td>\n",
              "      <td>0.000000</td>\n",
              "      <td>0.000000</td>\n",
              "      <td>0.000000</td>\n",
              "      <td>16.666667</td>\n",
              "      <td>8.333333</td>\n",
              "      <td>8.333333</td>\n",
              "      <td>0.000000</td>\n",
              "      <td>0.000000</td>\n",
              "      <td>0.000000</td>\n",
              "      <td>0.000000</td>\n",
              "      <td>16.666667</td>\n",
              "      <td>0.000000</td>\n",
              "      <td>0.000000</td>\n",
              "      <td>0.0</td>\n",
              "      <td>0.000000</td>\n",
              "      <td>0.000000</td>\n",
              "      <td>0.000000</td>\n",
              "      <td>0.000000</td>\n",
              "      <td>8.333333</td>\n",
              "      <td>16.666667</td>\n",
              "      <td>16.666667</td>\n",
              "      <td>8.333333</td>\n",
              "      <td>0.000000</td>\n",
              "      <td>0.000000</td>\n",
              "    </tr>\n",
              "    <tr>\n",
              "      <th>16441</th>\n",
              "      <td>38</td>\n",
              "      <td>0.060748</td>\n",
              "      <td>0.066303</td>\n",
              "      <td>0.661538</td>\n",
              "      <td>7.299547</td>\n",
              "      <td>80.878674</td>\n",
              "      <td>78.544538</td>\n",
              "      <td>1.980301</td>\n",
              "      <td>1.000000</td>\n",
              "      <td>0.048667</td>\n",
              "      <td>78.16</td>\n",
              "      <td>85.7</td>\n",
              "      <td>20.413301</td>\n",
              "      <td>40.322667</td>\n",
              "      <td>39.695422</td>\n",
              "      <td>4.885491</td>\n",
              "      <td>10.800</td>\n",
              "      <td>4.095428</td>\n",
              "      <td>24.524718</td>\n",
              "      <td>8.230068</td>\n",
              "      <td>0.0</td>\n",
              "      <td>75.332988</td>\n",
              "      <td>32.70</td>\n",
              "      <td>56.2</td>\n",
              "      <td>39.920000</td>\n",
              "      <td>7.972381</td>\n",
              "      <td>3.075563</td>\n",
              "      <td>3.075563</td>\n",
              "      <td>0.1380</td>\n",
              "      <td>10</td>\n",
              "      <td>41</td>\n",
              "      <td>15.466667</td>\n",
              "      <td>7.670599</td>\n",
              "      <td>0.000000</td>\n",
              "      <td>0.000000</td>\n",
              "      <td>0.000000</td>\n",
              "      <td>0.000000</td>\n",
              "      <td>33.333333</td>\n",
              "      <td>0.000000</td>\n",
              "      <td>13.333333</td>\n",
              "      <td>...</td>\n",
              "      <td>0.000000</td>\n",
              "      <td>0.0</td>\n",
              "      <td>0.038462</td>\n",
              "      <td>44.0</td>\n",
              "      <td>11.309278</td>\n",
              "      <td>44</td>\n",
              "      <td>44</td>\n",
              "      <td>11.309278</td>\n",
              "      <td>11.309278</td>\n",
              "      <td>0.0</td>\n",
              "      <td>0.0</td>\n",
              "      <td>0.000000</td>\n",
              "      <td>0.000000</td>\n",
              "      <td>0.0</td>\n",
              "      <td>0.000000</td>\n",
              "      <td>0.0</td>\n",
              "      <td>0.000000</td>\n",
              "      <td>0.000000</td>\n",
              "      <td>0.000000</td>\n",
              "      <td>13.333333</td>\n",
              "      <td>0.000000</td>\n",
              "      <td>0.000000</td>\n",
              "      <td>0.000000</td>\n",
              "      <td>0.000000</td>\n",
              "      <td>0.000000</td>\n",
              "      <td>0.000000</td>\n",
              "      <td>20.000000</td>\n",
              "      <td>0.000000</td>\n",
              "      <td>0.000000</td>\n",
              "      <td>0.0</td>\n",
              "      <td>13.333333</td>\n",
              "      <td>0.000000</td>\n",
              "      <td>20.000000</td>\n",
              "      <td>0.000000</td>\n",
              "      <td>13.333333</td>\n",
              "      <td>0.000000</td>\n",
              "      <td>13.333333</td>\n",
              "      <td>6.666667</td>\n",
              "      <td>0.000000</td>\n",
              "      <td>0.000000</td>\n",
              "    </tr>\n",
              "  </tbody>\n",
              "</table>\n",
              "<p>16442 rows × 90 columns</p>\n",
              "</div>"
            ],
            "text/plain": [
              "       popularity  total_tracks  ...  genre_19_pct  genre_20_pct\n",
              "0              25      0.037383  ...     10.000000      0.000000\n",
              "1              69      0.070093  ...      0.000000      0.000000\n",
              "2              44      0.233645  ...      1.923077      9.615385\n",
              "3              43      0.046729  ...      0.000000      0.000000\n",
              "4              60      0.037383  ...      0.000000      0.000000\n",
              "...           ...           ...  ...           ...           ...\n",
              "16437          31      0.023364  ...     14.285714      0.000000\n",
              "16438          56      0.070093  ...     11.764706      0.000000\n",
              "16439          57      0.037383  ...      0.000000      0.000000\n",
              "16440           5      0.046729  ...      0.000000      0.000000\n",
              "16441          38      0.060748  ...      0.000000      0.000000\n",
              "\n",
              "[16442 rows x 90 columns]"
            ]
          },
          "metadata": {
            "tags": []
          },
          "execution_count": 51
        }
      ]
    },
    {
      "cell_type": "markdown",
      "metadata": {
        "id": "u1dX-jQ4kiP9"
      },
      "source": [
        "# LineaR RegRession"
      ]
    },
    {
      "cell_type": "code",
      "metadata": {
        "colab": {
          "base_uri": "https://localhost:8080/",
          "height": 302
        },
        "id": "15L1QJKJnQ6h",
        "outputId": "8893dd26-c51b-4454-fb04-a9e9341e0804"
      },
      "source": [
        "reg = LinearRegression().fit(X_train, y_train)\n",
        "y_true = y_test['score'].tolist()\n",
        "CC = reg.predict(X_test)\n",
        "y_pred = CC[:,0]\n",
        "print(r2_score(y_true, CC))\n",
        "rvalues.append(r2_score(y_true, CC))\n",
        "mae.append(mean_absolute_error(y_true, CC))\n",
        "mape.append(mean_absolute_percentage_error(y_true, CC))\n",
        "names.append(\"LinearRegression\")\n",
        "graphRegressionMetrics(y_true, CC, X_test)"
      ],
      "execution_count": null,
      "outputs": [
        {
          "output_type": "stream",
          "text": [
            "0.07449193625313755\n"
          ],
          "name": "stdout"
        },
        {
          "output_type": "display_data",
          "data": {
            "image/png": "[encoded data removed]",
            "text/plain": [
              "<Figure size 432x288 with 1 Axes>"
            ]
          },
          "metadata": {
            "tags": []
          }
        }
      ]
    },
    {
      "cell_type": "markdown",
      "metadata": {
        "id": "sHpdWkX-lZUU"
      },
      "source": [
        "#  ElasticnEt"
      ]
    },
    {
      "cell_type": "code",
      "metadata": {
        "colab": {
          "base_uri": "https://localhost:8080/",
          "height": 302
        },
        "id": "cHsJk9zJoXp2",
        "outputId": "29615b91-ed83-4755-cdc6-6711f5355134"
      },
      "source": [
        "regr = ElasticNet()\n",
        "regr.fit(X_train, y_train)\n",
        "ElasticNet(random_state=0)\n",
        "CC = regr.predict(X_test)\n",
        "CC\n",
        "y_true = y_test['score'].tolist()\n",
        "\n",
        "print(r2_score(y_true, CC))\n",
        "rvalues.append(r2_score(y_true, CC))\n",
        "mae.append(mean_absolute_error(y_true, CC))\n",
        "mape.append(mean_absolute_percentage_error(y_true, CC))\n",
        "names.append(\"ElastcNet\")\n",
        "graphRegressionMetrics(y_true, CC, X_test)"
      ],
      "execution_count": null,
      "outputs": [
        {
          "output_type": "stream",
          "text": [
            "0.040179487660894186\n"
          ],
          "name": "stdout"
        },
        {
          "output_type": "display_data",
          "data": {
            "image/png": "[encoded data removed]",
            "text/plain": [
              "<Figure size 432x288 with 1 Axes>"
            ]
          },
          "metadata": {
            "tags": []
          }
        }
      ]
    },
    {
      "cell_type": "markdown",
      "metadata": {
        "id": "eS83ZMdxliUA"
      },
      "source": [
        "# Ridge"
      ]
    },
    {
      "cell_type": "code",
      "metadata": {
        "colab": {
          "base_uri": "https://localhost:8080/",
          "height": 302
        },
        "id": "0KVhmwclpXGW",
        "outputId": "baa47738-746b-4ef5-a15e-3d412610e7de"
      },
      "source": [
        "rr = Ridge(alpha=0.1)\n",
        "rr.fit(X_train, y_train) \n",
        "CC = rr.predict(X_test)\n",
        "CC\n",
        "y_true = y_test['score'].tolist()\n",
        "\n",
        "print(r2_score(y_true, CC))\n",
        "rvalues.append(r2_score(y_true, CC))\n",
        "mae.append(mean_absolute_error(y_true, CC))\n",
        "mape.append(mean_absolute_percentage_error(y_true, CC))\n",
        "names.append(\"Ridge\")\n",
        "graphRegressionMetrics(y_true, CC, X_test)"
      ],
      "execution_count": null,
      "outputs": [
        {
          "output_type": "stream",
          "text": [
            "0.0744960045695392\n"
          ],
          "name": "stdout"
        },
        {
          "output_type": "display_data",
          "data": {
            "image/png": "[encoded data removed]",
            "text/plain": [
              "<Figure size 432x288 with 1 Axes>"
            ]
          },
          "metadata": {
            "tags": []
          }
        }
      ]
    },
    {
      "cell_type": "markdown",
      "metadata": {
        "id": "37IS7yQ2llX7"
      },
      "source": [
        "# Lasso"
      ]
    },
    {
      "cell_type": "code",
      "metadata": {
        "colab": {
          "base_uri": "https://localhost:8080/",
          "height": 302
        },
        "id": "vIphlaBMy6b0",
        "outputId": "31e15b40-7e7e-46b9-e46b-dee6137635ca"
      },
      "source": [
        "model_lasso = Lasso(alpha=0.01)\n",
        "model_lasso.fit(X_train, y_train) \n",
        "CC = model_lasso.predict(X_test)\n",
        "CC\n",
        "y_true = y_test['score'].tolist()\n",
        "\n",
        "print(r2_score(y_true, CC))\n",
        "rvalues.append(r2_score(y_true, CC))\n",
        "mae.append(mean_absolute_error(y_true, CC))\n",
        "mape.append(mean_absolute_percentage_error(y_true, CC))\n",
        "names.append(\"Lasso\")\n",
        "graphRegressionMetrics(y_true, CC, X_test)"
      ],
      "execution_count": null,
      "outputs": [
        {
          "output_type": "stream",
          "text": [
            "0.07219454240866297\n"
          ],
          "name": "stdout"
        },
        {
          "output_type": "display_data",
          "data": {
            "image/png": "[encoded data removed]",
            "text/plain": [
              "<Figure size 432x288 with 1 Axes>"
            ]
          },
          "metadata": {
            "tags": []
          }
        }
      ]
    },
    {
      "cell_type": "markdown",
      "metadata": {
        "id": "ln9BiXp0lsLw"
      },
      "source": [
        "# SGDRegreSSor Deprecated"
      ]
    },
    {
      "cell_type": "code",
      "metadata": {
        "colab": {
          "base_uri": "https://localhost:8080/",
          "height": 350
        },
        "id": "nE9nYJwMzkdJ",
        "outputId": "607e4520-fd1d-4cc8-b6bc-1cf5aabe1fa5"
      },
      "source": [
        "reg = make_pipeline(StandardScaler(), SGDRegressor(max_iter=1000, tol=1e-3))\n",
        "reg.fit(X_train, y_train)\n",
        "CC = reg.predict(X_test)\n",
        "CC\n",
        "y_true = y_test['score'].tolist()\n",
        "\n",
        "print(r2_score(y_true, CC))\n",
        "rvalues.append(r2_score(y_true, CC))\n",
        "graphRegressionMetrics(y_true, CC, X_test)"
      ],
      "execution_count": null,
      "outputs": [
        {
          "output_type": "stream",
          "text": [
            "/usr/local/lib/python3.7/dist-packages/sklearn/utils/validation.py:63: DataConversionWarning: A column-vector y was passed when a 1d array was expected. Please change the shape of y to (n_samples, ), for example using ravel().\n",
            "  return f(*args, **kwargs)\n"
          ],
          "name": "stderr"
        },
        {
          "output_type": "stream",
          "text": [
            "0.04155563261382045\n"
          ],
          "name": "stdout"
        },
        {
          "output_type": "display_data",
          "data": {
            "image/png": "[encoded data removed]",
            "text/plain": [
              "<Figure size 432x288 with 1 Axes>"
            ]
          },
          "metadata": {
            "tags": [],
            "needs_background": "light"
          }
        }
      ]
    },
    {
      "cell_type": "markdown",
      "metadata": {
        "id": "HRum3uSZluYk"
      },
      "source": [
        "# NUSVR"
      ]
    },
    {
      "cell_type": "code",
      "metadata": {
        "colab": {
          "base_uri": "https://localhost:8080/",
          "height": 356
        },
        "id": "gU_9JmuO3oB8",
        "outputId": "99ed75b1-3260-4e5a-ede4-c3f9aa535eea"
      },
      "source": [
        "reg = NuSVR()\n",
        "reg.fit(X_train, y_train)\n",
        "CC = reg.predict(X_test)\n",
        "CC\n",
        "y_true = y_test['score'].tolist()\n",
        "\n",
        "print(r2_score(y_true, CC))\n",
        "rvalues.append(r2_score(y_true, CC))\n",
        "mae.append(mean_absolute_error(y_true, CC))\n",
        "mape.append(mean_absolute_percentage_error(y_true, CC))\n",
        "names.append(\"NuSVR\")\n",
        "graphRegressionMetrics(y_true, CC, X_test)"
      ],
      "execution_count": null,
      "outputs": [
        {
          "output_type": "stream",
          "text": [
            "/usr/local/lib/python3.7/dist-packages/sklearn/utils/validation.py:63: DataConversionWarning: A column-vector y was passed when a 1d array was expected. Please change the shape of y to (n_samples, ), for example using ravel().\n",
            "  return f(*args, **kwargs)\n"
          ],
          "name": "stderr"
        },
        {
          "output_type": "stream",
          "text": [
            "0.09798695243986666\n"
          ],
          "name": "stdout"
        },
        {
          "output_type": "display_data",
          "data": {
            "image/png": "[encoded data removed]",
            "text/plain": [
              "<Figure size 432x288 with 1 Axes>"
            ]
          },
          "metadata": {
            "tags": []
          }
        }
      ]
    },
    {
      "cell_type": "markdown",
      "metadata": {
        "id": "BMBzsizZlxVf"
      },
      "source": [
        "# SVR"
      ]
    },
    {
      "cell_type": "code",
      "metadata": {
        "colab": {
          "base_uri": "https://localhost:8080/",
          "height": 356
        },
        "id": "xyBGdMSe54G0",
        "outputId": "3c42bf87-7dbe-4fab-bc70-579a331e67f7"
      },
      "source": [
        "reg = SVR()\n",
        "reg.fit(X_train, y_train)\n",
        "CC = reg.predict(X_test)\n",
        "CC\n",
        "y_true = y_test['score'].tolist()\n",
        "\n",
        "print(r2_score(y_true, CC))\n",
        "rvalues.append(r2_score(y_true, CC))\n",
        "mae.append(mean_absolute_error(y_true, CC))\n",
        "mape.append(mean_absolute_percentage_error(y_true, CC))\n",
        "names.append(\"SVR\")\n",
        "graphRegressionMetrics(y_true, CC, X_test)"
      ],
      "execution_count": null,
      "outputs": [
        {
          "output_type": "stream",
          "text": [
            "/usr/local/lib/python3.7/dist-packages/sklearn/utils/validation.py:63: DataConversionWarning: A column-vector y was passed when a 1d array was expected. Please change the shape of y to (n_samples, ), for example using ravel().\n",
            "  return f(*args, **kwargs)\n"
          ],
          "name": "stderr"
        },
        {
          "output_type": "stream",
          "text": [
            "0.07414233396275371\n"
          ],
          "name": "stdout"
        },
        {
          "output_type": "display_data",
          "data": {
            "image/png": "[encoded data removed]",
            "text/plain": [
              "<Figure size 432x288 with 1 Axes>"
            ]
          },
          "metadata": {
            "tags": []
          }
        }
      ]
    },
    {
      "cell_type": "markdown",
      "metadata": {
        "id": "b-ffLT_jlzMo"
      },
      "source": [
        "# DecisionTree"
      ]
    },
    {
      "cell_type": "code",
      "metadata": {
        "colab": {
          "base_uri": "https://localhost:8080/",
          "height": 439
        },
        "id": "NXpyS5Tg4z1H",
        "outputId": "29b2cbfc-cc25-4677-e039-12acd407cf8d"
      },
      "source": [
        "X_train"
      ],
      "execution_count": null,
      "outputs": [
        {
          "output_type": "execute_result",
          "data": {
            "text/html": [
              "<div>\n",
              "<style scoped>\n",
              "    .dataframe tbody tr th:only-of-type {\n",
              "        vertical-align: middle;\n",
              "    }\n",
              "\n",
              "    .dataframe tbody tr th {\n",
              "        vertical-align: top;\n",
              "    }\n",
              "\n",
              "    .dataframe thead th {\n",
              "        text-align: right;\n",
              "    }\n",
              "</style>\n",
              "<table border=\"1\" class=\"dataframe\">\n",
              "  <thead>\n",
              "    <tr style=\"text-align: right;\">\n",
              "      <th></th>\n",
              "      <th>popularity</th>\n",
              "      <th>total_tracks</th>\n",
              "      <th>album_duration_minutes</th>\n",
              "      <th>year</th>\n",
              "      <th>min_loudness</th>\n",
              "      <th>max_loudness</th>\n",
              "      <th>mean_loudness</th>\n",
              "      <th>stddev_loudness</th>\n",
              "      <th>label_frequency</th>\n",
              "      <th>mean_duration</th>\n",
              "      <th>min_valence</th>\n",
              "      <th>max_valence</th>\n",
              "      <th>stddev_valence</th>\n",
              "      <th>mean_valence</th>\n",
              "      <th>weighted_avg_valence</th>\n",
              "      <th>weighted_avg_speechiness</th>\n",
              "      <th>med_liveness</th>\n",
              "      <th>stddev_liveness</th>\n",
              "      <th>stddev_instrumentalness</th>\n",
              "      <th>weighted_avg_instrumentalness</th>\n",
              "      <th>explicit</th>\n",
              "      <th>weighted_avg_energy</th>\n",
              "      <th>min_danceability</th>\n",
              "      <th>max_danceability</th>\n",
              "      <th>mean_danceability</th>\n",
              "      <th>stddev_danceability</th>\n",
              "      <th>mean_acousticness</th>\n",
              "      <th>stddev_acousticness</th>\n",
              "      <th>med_acousticness</th>\n",
              "      <th>min_popularity</th>\n",
              "      <th>max_popularity</th>\n",
              "      <th>mean_popularity</th>\n",
              "      <th>stddev_popularity</th>\n",
              "      <th>key_0_pct</th>\n",
              "      <th>key_1_pct</th>\n",
              "      <th>key_2_pct</th>\n",
              "      <th>key_3_pct</th>\n",
              "      <th>key_4_pct</th>\n",
              "      <th>key_5_pct</th>\n",
              "      <th>key_6_pct</th>\n",
              "      <th>...</th>\n",
              "      <th>sig_5_pct</th>\n",
              "      <th>num_artists</th>\n",
              "      <th>num_features</th>\n",
              "      <th>artist_popularity_mean</th>\n",
              "      <th>artist_followers_mean</th>\n",
              "      <th>artist_popularity_min</th>\n",
              "      <th>artist_popularity_max</th>\n",
              "      <th>artist_followers_min</th>\n",
              "      <th>artist_followers_max</th>\n",
              "      <th>artist_popularity_stddev</th>\n",
              "      <th>artist_followers_stddev</th>\n",
              "      <th>mean_feat_artist_popularity</th>\n",
              "      <th>mean_feat_artist_followers</th>\n",
              "      <th>min_feat_artist_popularity</th>\n",
              "      <th>min_feat_artist_followers</th>\n",
              "      <th>max_feat_artist_popularity</th>\n",
              "      <th>max_feat_artist_followers</th>\n",
              "      <th>stddev_feat_artist_popularity</th>\n",
              "      <th>stddev_feat_artist_followers</th>\n",
              "      <th>genre_0_pct</th>\n",
              "      <th>genre_1_pct</th>\n",
              "      <th>genre_2_pct</th>\n",
              "      <th>genre_3_pct</th>\n",
              "      <th>genre_4_pct</th>\n",
              "      <th>genre_5_pct</th>\n",
              "      <th>genre_6_pct</th>\n",
              "      <th>genre_7_pct</th>\n",
              "      <th>genre_8_pct</th>\n",
              "      <th>genre_9_pct</th>\n",
              "      <th>genre_10_pct</th>\n",
              "      <th>genre_11_pct</th>\n",
              "      <th>genre_12_pct</th>\n",
              "      <th>genre_13_pct</th>\n",
              "      <th>genre_14_pct</th>\n",
              "      <th>genre_15_pct</th>\n",
              "      <th>genre_16_pct</th>\n",
              "      <th>genre_17_pct</th>\n",
              "      <th>genre_18_pct</th>\n",
              "      <th>genre_19_pct</th>\n",
              "      <th>genre_20_pct</th>\n",
              "    </tr>\n",
              "  </thead>\n",
              "  <tbody>\n",
              "    <tr>\n",
              "      <th>0</th>\n",
              "      <td>54</td>\n",
              "      <td>3.738318</td>\n",
              "      <td>4.105792</td>\n",
              "      <td>96.923077</td>\n",
              "      <td>5.863893</td>\n",
              "      <td>82.350712</td>\n",
              "      <td>79.643891</td>\n",
              "      <td>2.034564</td>\n",
              "      <td>0.014599</td>\n",
              "      <td>0.046839</td>\n",
              "      <td>47.40</td>\n",
              "      <td>63.7</td>\n",
              "      <td>15.585053</td>\n",
              "      <td>40.750000</td>\n",
              "      <td>40.915173</td>\n",
              "      <td>21.699596</td>\n",
              "      <td>20.25</td>\n",
              "      <td>13.073507</td>\n",
              "      <td>0.231984</td>\n",
              "      <td>0.082292</td>\n",
              "      <td>100.0</td>\n",
              "      <td>53.077903</td>\n",
              "      <td>28.7</td>\n",
              "      <td>92.9</td>\n",
              "      <td>80.200000</td>\n",
              "      <td>9.041018</td>\n",
              "      <td>12.832000</td>\n",
              "      <td>12.832000</td>\n",
              "      <td>4.615</td>\n",
              "      <td>25</td>\n",
              "      <td>53</td>\n",
              "      <td>35.600000</td>\n",
              "      <td>10.585105</td>\n",
              "      <td>10.000000</td>\n",
              "      <td>30.000000</td>\n",
              "      <td>0.000000</td>\n",
              "      <td>0.0</td>\n",
              "      <td>0.000000</td>\n",
              "      <td>0.000000</td>\n",
              "      <td>20.000000</td>\n",
              "      <td>...</td>\n",
              "      <td>0.000000</td>\n",
              "      <td>0.0</td>\n",
              "      <td>13.461538</td>\n",
              "      <td>61.0</td>\n",
              "      <td>13.278707</td>\n",
              "      <td>61</td>\n",
              "      <td>61</td>\n",
              "      <td>13.278707</td>\n",
              "      <td>13.278707</td>\n",
              "      <td>0.0</td>\n",
              "      <td>0.0</td>\n",
              "      <td>72.0</td>\n",
              "      <td>14.514434</td>\n",
              "      <td>56.0</td>\n",
              "      <td>12.476310</td>\n",
              "      <td>85.0</td>\n",
              "      <td>15.426456</td>\n",
              "      <td>12.349089</td>\n",
              "      <td>2.735681</td>\n",
              "      <td>10.000000</td>\n",
              "      <td>0.000000</td>\n",
              "      <td>0.000000</td>\n",
              "      <td>0.0</td>\n",
              "      <td>0.000000</td>\n",
              "      <td>0.0</td>\n",
              "      <td>0.000000</td>\n",
              "      <td>10.000000</td>\n",
              "      <td>0.000000</td>\n",
              "      <td>0.000000</td>\n",
              "      <td>0.0</td>\n",
              "      <td>20.000000</td>\n",
              "      <td>0.0</td>\n",
              "      <td>10.000000</td>\n",
              "      <td>0.000000</td>\n",
              "      <td>10.000000</td>\n",
              "      <td>10.000000</td>\n",
              "      <td>30.000000</td>\n",
              "      <td>0.000000</td>\n",
              "      <td>0.000000</td>\n",
              "      <td>0.000000</td>\n",
              "    </tr>\n",
              "    <tr>\n",
              "      <th>1</th>\n",
              "      <td>20</td>\n",
              "      <td>5.607477</td>\n",
              "      <td>7.339786</td>\n",
              "      <td>75.384615</td>\n",
              "      <td>10.002577</td>\n",
              "      <td>84.542850</td>\n",
              "      <td>80.211092</td>\n",
              "      <td>3.323124</td>\n",
              "      <td>0.200730</td>\n",
              "      <td>0.058598</td>\n",
              "      <td>79.50</td>\n",
              "      <td>95.5</td>\n",
              "      <td>27.216777</td>\n",
              "      <td>57.471429</td>\n",
              "      <td>57.191151</td>\n",
              "      <td>3.616179</td>\n",
              "      <td>17.75</td>\n",
              "      <td>18.744235</td>\n",
              "      <td>11.664996</td>\n",
              "      <td>4.967174</td>\n",
              "      <td>0.0</td>\n",
              "      <td>63.651187</td>\n",
              "      <td>53.1</td>\n",
              "      <td>73.6</td>\n",
              "      <td>53.585714</td>\n",
              "      <td>14.451929</td>\n",
              "      <td>42.919407</td>\n",
              "      <td>42.919407</td>\n",
              "      <td>42.200</td>\n",
              "      <td>0</td>\n",
              "      <td>22</td>\n",
              "      <td>3.214286</td>\n",
              "      <td>5.507737</td>\n",
              "      <td>14.285714</td>\n",
              "      <td>0.000000</td>\n",
              "      <td>7.142857</td>\n",
              "      <td>0.0</td>\n",
              "      <td>28.571429</td>\n",
              "      <td>0.000000</td>\n",
              "      <td>0.000000</td>\n",
              "      <td>...</td>\n",
              "      <td>0.000000</td>\n",
              "      <td>0.0</td>\n",
              "      <td>3.846154</td>\n",
              "      <td>61.0</td>\n",
              "      <td>12.727850</td>\n",
              "      <td>61</td>\n",
              "      <td>61</td>\n",
              "      <td>12.727850</td>\n",
              "      <td>12.727850</td>\n",
              "      <td>0.0</td>\n",
              "      <td>0.0</td>\n",
              "      <td>0.0</td>\n",
              "      <td>0.000000</td>\n",
              "      <td>0.0</td>\n",
              "      <td>0.000000</td>\n",
              "      <td>0.0</td>\n",
              "      <td>0.000000</td>\n",
              "      <td>0.000000</td>\n",
              "      <td>0.000000</td>\n",
              "      <td>0.000000</td>\n",
              "      <td>14.285714</td>\n",
              "      <td>7.142857</td>\n",
              "      <td>0.0</td>\n",
              "      <td>0.000000</td>\n",
              "      <td>0.0</td>\n",
              "      <td>0.000000</td>\n",
              "      <td>21.428571</td>\n",
              "      <td>0.000000</td>\n",
              "      <td>0.000000</td>\n",
              "      <td>0.0</td>\n",
              "      <td>7.142857</td>\n",
              "      <td>0.0</td>\n",
              "      <td>14.285714</td>\n",
              "      <td>0.000000</td>\n",
              "      <td>7.142857</td>\n",
              "      <td>0.000000</td>\n",
              "      <td>7.142857</td>\n",
              "      <td>0.000000</td>\n",
              "      <td>21.428571</td>\n",
              "      <td>0.000000</td>\n",
              "    </tr>\n",
              "    <tr>\n",
              "      <th>2</th>\n",
              "      <td>33</td>\n",
              "      <td>5.607477</td>\n",
              "      <td>6.897728</td>\n",
              "      <td>80.000000</td>\n",
              "      <td>19.973318</td>\n",
              "      <td>84.664130</td>\n",
              "      <td>80.097501</td>\n",
              "      <td>5.519231</td>\n",
              "      <td>0.000000</td>\n",
              "      <td>0.054888</td>\n",
              "      <td>64.60</td>\n",
              "      <td>77.4</td>\n",
              "      <td>21.864534</td>\n",
              "      <td>43.035714</td>\n",
              "      <td>44.122485</td>\n",
              "      <td>27.788855</td>\n",
              "      <td>12.35</td>\n",
              "      <td>14.691043</td>\n",
              "      <td>23.616126</td>\n",
              "      <td>2.632383</td>\n",
              "      <td>100.0</td>\n",
              "      <td>68.467460</td>\n",
              "      <td>58.9</td>\n",
              "      <td>79.6</td>\n",
              "      <td>59.342857</td>\n",
              "      <td>17.980832</td>\n",
              "      <td>14.167007</td>\n",
              "      <td>14.167007</td>\n",
              "      <td>1.655</td>\n",
              "      <td>9</td>\n",
              "      <td>30</td>\n",
              "      <td>17.500000</td>\n",
              "      <td>5.110321</td>\n",
              "      <td>14.285714</td>\n",
              "      <td>28.571429</td>\n",
              "      <td>0.000000</td>\n",
              "      <td>0.0</td>\n",
              "      <td>7.142857</td>\n",
              "      <td>0.000000</td>\n",
              "      <td>7.142857</td>\n",
              "      <td>...</td>\n",
              "      <td>7.142857</td>\n",
              "      <td>0.0</td>\n",
              "      <td>23.076923</td>\n",
              "      <td>62.0</td>\n",
              "      <td>13.339545</td>\n",
              "      <td>62</td>\n",
              "      <td>62</td>\n",
              "      <td>13.339545</td>\n",
              "      <td>13.339545</td>\n",
              "      <td>0.0</td>\n",
              "      <td>0.0</td>\n",
              "      <td>44.9</td>\n",
              "      <td>14.030985</td>\n",
              "      <td>13.0</td>\n",
              "      <td>3.850148</td>\n",
              "      <td>91.0</td>\n",
              "      <td>16.156585</td>\n",
              "      <td>27.444692</td>\n",
              "      <td>2.771780</td>\n",
              "      <td>0.000000</td>\n",
              "      <td>0.000000</td>\n",
              "      <td>28.571429</td>\n",
              "      <td>0.0</td>\n",
              "      <td>0.000000</td>\n",
              "      <td>0.0</td>\n",
              "      <td>0.000000</td>\n",
              "      <td>7.142857</td>\n",
              "      <td>0.000000</td>\n",
              "      <td>0.000000</td>\n",
              "      <td>0.0</td>\n",
              "      <td>0.000000</td>\n",
              "      <td>0.0</td>\n",
              "      <td>0.000000</td>\n",
              "      <td>7.142857</td>\n",
              "      <td>0.000000</td>\n",
              "      <td>0.000000</td>\n",
              "      <td>0.000000</td>\n",
              "      <td>0.000000</td>\n",
              "      <td>57.142857</td>\n",
              "      <td>0.000000</td>\n",
              "    </tr>\n",
              "    <tr>\n",
              "      <th>3</th>\n",
              "      <td>22</td>\n",
              "      <td>3.738318</td>\n",
              "      <td>11.174333</td>\n",
              "      <td>87.692308</td>\n",
              "      <td>25.671968</td>\n",
              "      <td>84.147173</td>\n",
              "      <td>72.902385</td>\n",
              "      <td>6.958739</td>\n",
              "      <td>0.018248</td>\n",
              "      <td>0.129887</td>\n",
              "      <td>83.74</td>\n",
              "      <td>88.2</td>\n",
              "      <td>30.570328</td>\n",
              "      <td>40.663000</td>\n",
              "      <td>35.122099</td>\n",
              "      <td>8.522680</td>\n",
              "      <td>13.65</td>\n",
              "      <td>22.565237</td>\n",
              "      <td>28.736465</td>\n",
              "      <td>81.203132</td>\n",
              "      <td>0.0</td>\n",
              "      <td>49.624261</td>\n",
              "      <td>55.6</td>\n",
              "      <td>83.9</td>\n",
              "      <td>59.490000</td>\n",
              "      <td>19.925609</td>\n",
              "      <td>58.600000</td>\n",
              "      <td>58.600000</td>\n",
              "      <td>66.200</td>\n",
              "      <td>5</td>\n",
              "      <td>19</td>\n",
              "      <td>10.200000</td>\n",
              "      <td>4.491968</td>\n",
              "      <td>10.000000</td>\n",
              "      <td>10.000000</td>\n",
              "      <td>0.000000</td>\n",
              "      <td>10.0</td>\n",
              "      <td>30.000000</td>\n",
              "      <td>20.000000</td>\n",
              "      <td>0.000000</td>\n",
              "      <td>...</td>\n",
              "      <td>0.000000</td>\n",
              "      <td>0.0</td>\n",
              "      <td>3.846154</td>\n",
              "      <td>48.0</td>\n",
              "      <td>10.271562</td>\n",
              "      <td>48</td>\n",
              "      <td>48</td>\n",
              "      <td>10.271562</td>\n",
              "      <td>10.271562</td>\n",
              "      <td>0.0</td>\n",
              "      <td>0.0</td>\n",
              "      <td>0.0</td>\n",
              "      <td>0.000000</td>\n",
              "      <td>0.0</td>\n",
              "      <td>0.000000</td>\n",
              "      <td>0.0</td>\n",
              "      <td>0.000000</td>\n",
              "      <td>0.000000</td>\n",
              "      <td>0.000000</td>\n",
              "      <td>0.000000</td>\n",
              "      <td>20.000000</td>\n",
              "      <td>10.000000</td>\n",
              "      <td>0.0</td>\n",
              "      <td>0.000000</td>\n",
              "      <td>0.0</td>\n",
              "      <td>10.000000</td>\n",
              "      <td>0.000000</td>\n",
              "      <td>10.000000</td>\n",
              "      <td>10.000000</td>\n",
              "      <td>0.0</td>\n",
              "      <td>10.000000</td>\n",
              "      <td>0.0</td>\n",
              "      <td>0.000000</td>\n",
              "      <td>10.000000</td>\n",
              "      <td>0.000000</td>\n",
              "      <td>0.000000</td>\n",
              "      <td>10.000000</td>\n",
              "      <td>0.000000</td>\n",
              "      <td>10.000000</td>\n",
              "      <td>0.000000</td>\n",
              "    </tr>\n",
              "    <tr>\n",
              "      <th>4</th>\n",
              "      <td>5</td>\n",
              "      <td>6.542056</td>\n",
              "      <td>8.320211</td>\n",
              "      <td>69.230769</td>\n",
              "      <td>21.063323</td>\n",
              "      <td>76.454982</td>\n",
              "      <td>69.173059</td>\n",
              "      <td>5.503591</td>\n",
              "      <td>0.010949</td>\n",
              "      <td>0.057598</td>\n",
              "      <td>60.50</td>\n",
              "      <td>63.5</td>\n",
              "      <td>17.981596</td>\n",
              "      <td>18.796875</td>\n",
              "      <td>16.648965</td>\n",
              "      <td>17.728014</td>\n",
              "      <td>25.55</td>\n",
              "      <td>24.106749</td>\n",
              "      <td>32.393640</td>\n",
              "      <td>41.242027</td>\n",
              "      <td>0.0</td>\n",
              "      <td>64.450522</td>\n",
              "      <td>66.0</td>\n",
              "      <td>77.1</td>\n",
              "      <td>37.768750</td>\n",
              "      <td>22.462345</td>\n",
              "      <td>15.919787</td>\n",
              "      <td>15.919787</td>\n",
              "      <td>2.465</td>\n",
              "      <td>0</td>\n",
              "      <td>1</td>\n",
              "      <td>0.312500</td>\n",
              "      <td>0.478714</td>\n",
              "      <td>6.250000</td>\n",
              "      <td>68.750000</td>\n",
              "      <td>0.000000</td>\n",
              "      <td>0.0</td>\n",
              "      <td>6.250000</td>\n",
              "      <td>0.000000</td>\n",
              "      <td>0.000000</td>\n",
              "      <td>...</td>\n",
              "      <td>31.250000</td>\n",
              "      <td>0.0</td>\n",
              "      <td>3.846154</td>\n",
              "      <td>22.0</td>\n",
              "      <td>9.552511</td>\n",
              "      <td>22</td>\n",
              "      <td>22</td>\n",
              "      <td>9.552511</td>\n",
              "      <td>9.552511</td>\n",
              "      <td>0.0</td>\n",
              "      <td>0.0</td>\n",
              "      <td>0.0</td>\n",
              "      <td>0.000000</td>\n",
              "      <td>0.0</td>\n",
              "      <td>0.000000</td>\n",
              "      <td>0.0</td>\n",
              "      <td>0.000000</td>\n",
              "      <td>0.000000</td>\n",
              "      <td>0.000000</td>\n",
              "      <td>6.250000</td>\n",
              "      <td>12.500000</td>\n",
              "      <td>6.250000</td>\n",
              "      <td>12.5</td>\n",
              "      <td>0.000000</td>\n",
              "      <td>0.0</td>\n",
              "      <td>12.500000</td>\n",
              "      <td>6.250000</td>\n",
              "      <td>0.000000</td>\n",
              "      <td>6.250000</td>\n",
              "      <td>0.0</td>\n",
              "      <td>0.000000</td>\n",
              "      <td>0.0</td>\n",
              "      <td>0.000000</td>\n",
              "      <td>6.250000</td>\n",
              "      <td>0.000000</td>\n",
              "      <td>0.000000</td>\n",
              "      <td>0.000000</td>\n",
              "      <td>12.500000</td>\n",
              "      <td>18.750000</td>\n",
              "      <td>0.000000</td>\n",
              "    </tr>\n",
              "    <tr>\n",
              "      <th>...</th>\n",
              "      <td>...</td>\n",
              "      <td>...</td>\n",
              "      <td>...</td>\n",
              "      <td>...</td>\n",
              "      <td>...</td>\n",
              "      <td>...</td>\n",
              "      <td>...</td>\n",
              "      <td>...</td>\n",
              "      <td>...</td>\n",
              "      <td>...</td>\n",
              "      <td>...</td>\n",
              "      <td>...</td>\n",
              "      <td>...</td>\n",
              "      <td>...</td>\n",
              "      <td>...</td>\n",
              "      <td>...</td>\n",
              "      <td>...</td>\n",
              "      <td>...</td>\n",
              "      <td>...</td>\n",
              "      <td>...</td>\n",
              "      <td>...</td>\n",
              "      <td>...</td>\n",
              "      <td>...</td>\n",
              "      <td>...</td>\n",
              "      <td>...</td>\n",
              "      <td>...</td>\n",
              "      <td>...</td>\n",
              "      <td>...</td>\n",
              "      <td>...</td>\n",
              "      <td>...</td>\n",
              "      <td>...</td>\n",
              "      <td>...</td>\n",
              "      <td>...</td>\n",
              "      <td>...</td>\n",
              "      <td>...</td>\n",
              "      <td>...</td>\n",
              "      <td>...</td>\n",
              "      <td>...</td>\n",
              "      <td>...</td>\n",
              "      <td>...</td>\n",
              "      <td>...</td>\n",
              "      <td>...</td>\n",
              "      <td>...</td>\n",
              "      <td>...</td>\n",
              "      <td>...</td>\n",
              "      <td>...</td>\n",
              "      <td>...</td>\n",
              "      <td>...</td>\n",
              "      <td>...</td>\n",
              "      <td>...</td>\n",
              "      <td>...</td>\n",
              "      <td>...</td>\n",
              "      <td>...</td>\n",
              "      <td>...</td>\n",
              "      <td>...</td>\n",
              "      <td>...</td>\n",
              "      <td>...</td>\n",
              "      <td>...</td>\n",
              "      <td>...</td>\n",
              "      <td>...</td>\n",
              "      <td>...</td>\n",
              "      <td>...</td>\n",
              "      <td>...</td>\n",
              "      <td>...</td>\n",
              "      <td>...</td>\n",
              "      <td>...</td>\n",
              "      <td>...</td>\n",
              "      <td>...</td>\n",
              "      <td>...</td>\n",
              "      <td>...</td>\n",
              "      <td>...</td>\n",
              "      <td>...</td>\n",
              "      <td>...</td>\n",
              "      <td>...</td>\n",
              "      <td>...</td>\n",
              "      <td>...</td>\n",
              "      <td>...</td>\n",
              "      <td>...</td>\n",
              "      <td>...</td>\n",
              "      <td>...</td>\n",
              "      <td>...</td>\n",
              "    </tr>\n",
              "    <tr>\n",
              "      <th>12326</th>\n",
              "      <td>13</td>\n",
              "      <td>3.738318</td>\n",
              "      <td>4.254298</td>\n",
              "      <td>90.769231</td>\n",
              "      <td>9.958613</td>\n",
              "      <td>85.150766</td>\n",
              "      <td>81.752801</td>\n",
              "      <td>3.323804</td>\n",
              "      <td>0.003650</td>\n",
              "      <td>0.048584</td>\n",
              "      <td>56.80</td>\n",
              "      <td>56.8</td>\n",
              "      <td>17.430659</td>\n",
              "      <td>28.861000</td>\n",
              "      <td>29.872854</td>\n",
              "      <td>4.454367</td>\n",
              "      <td>15.40</td>\n",
              "      <td>16.317463</td>\n",
              "      <td>28.971217</td>\n",
              "      <td>55.828525</td>\n",
              "      <td>0.0</td>\n",
              "      <td>67.117478</td>\n",
              "      <td>42.7</td>\n",
              "      <td>42.7</td>\n",
              "      <td>19.260000</td>\n",
              "      <td>11.252279</td>\n",
              "      <td>34.456726</td>\n",
              "      <td>34.456726</td>\n",
              "      <td>8.455</td>\n",
              "      <td>0</td>\n",
              "      <td>9</td>\n",
              "      <td>3.300000</td>\n",
              "      <td>3.400980</td>\n",
              "      <td>10.000000</td>\n",
              "      <td>0.000000</td>\n",
              "      <td>20.000000</td>\n",
              "      <td>20.0</td>\n",
              "      <td>0.000000</td>\n",
              "      <td>0.000000</td>\n",
              "      <td>0.000000</td>\n",
              "      <td>...</td>\n",
              "      <td>0.000000</td>\n",
              "      <td>0.0</td>\n",
              "      <td>3.846154</td>\n",
              "      <td>18.0</td>\n",
              "      <td>8.232174</td>\n",
              "      <td>18</td>\n",
              "      <td>18</td>\n",
              "      <td>8.232174</td>\n",
              "      <td>8.232174</td>\n",
              "      <td>0.0</td>\n",
              "      <td>0.0</td>\n",
              "      <td>0.0</td>\n",
              "      <td>0.000000</td>\n",
              "      <td>0.0</td>\n",
              "      <td>0.000000</td>\n",
              "      <td>0.0</td>\n",
              "      <td>0.000000</td>\n",
              "      <td>0.000000</td>\n",
              "      <td>0.000000</td>\n",
              "      <td>0.000000</td>\n",
              "      <td>0.000000</td>\n",
              "      <td>0.000000</td>\n",
              "      <td>0.0</td>\n",
              "      <td>0.000000</td>\n",
              "      <td>0.0</td>\n",
              "      <td>0.000000</td>\n",
              "      <td>20.000000</td>\n",
              "      <td>20.000000</td>\n",
              "      <td>0.000000</td>\n",
              "      <td>0.0</td>\n",
              "      <td>10.000000</td>\n",
              "      <td>10.0</td>\n",
              "      <td>10.000000</td>\n",
              "      <td>0.000000</td>\n",
              "      <td>0.000000</td>\n",
              "      <td>0.000000</td>\n",
              "      <td>0.000000</td>\n",
              "      <td>10.000000</td>\n",
              "      <td>20.000000</td>\n",
              "      <td>0.000000</td>\n",
              "    </tr>\n",
              "    <tr>\n",
              "      <th>12327</th>\n",
              "      <td>37</td>\n",
              "      <td>4.205607</td>\n",
              "      <td>5.724483</td>\n",
              "      <td>84.615385</td>\n",
              "      <td>18.001001</td>\n",
              "      <td>81.380471</td>\n",
              "      <td>74.569490</td>\n",
              "      <td>5.718241</td>\n",
              "      <td>0.354015</td>\n",
              "      <td>0.059234</td>\n",
              "      <td>69.35</td>\n",
              "      <td>72.9</td>\n",
              "      <td>24.466331</td>\n",
              "      <td>37.811818</td>\n",
              "      <td>35.467744</td>\n",
              "      <td>7.512930</td>\n",
              "      <td>11.50</td>\n",
              "      <td>10.682899</td>\n",
              "      <td>31.391878</td>\n",
              "      <td>39.110863</td>\n",
              "      <td>0.0</td>\n",
              "      <td>53.866022</td>\n",
              "      <td>56.5</td>\n",
              "      <td>84.7</td>\n",
              "      <td>64.718182</td>\n",
              "      <td>16.964717</td>\n",
              "      <td>47.109091</td>\n",
              "      <td>47.109091</td>\n",
              "      <td>46.400</td>\n",
              "      <td>18</td>\n",
              "      <td>36</td>\n",
              "      <td>22.090909</td>\n",
              "      <td>5.107926</td>\n",
              "      <td>9.090909</td>\n",
              "      <td>36.363636</td>\n",
              "      <td>0.000000</td>\n",
              "      <td>0.0</td>\n",
              "      <td>0.000000</td>\n",
              "      <td>9.090909</td>\n",
              "      <td>0.000000</td>\n",
              "      <td>...</td>\n",
              "      <td>0.000000</td>\n",
              "      <td>0.0</td>\n",
              "      <td>3.846154</td>\n",
              "      <td>46.0</td>\n",
              "      <td>11.135771</td>\n",
              "      <td>46</td>\n",
              "      <td>46</td>\n",
              "      <td>11.135771</td>\n",
              "      <td>11.135771</td>\n",
              "      <td>0.0</td>\n",
              "      <td>0.0</td>\n",
              "      <td>0.0</td>\n",
              "      <td>0.000000</td>\n",
              "      <td>0.0</td>\n",
              "      <td>0.000000</td>\n",
              "      <td>0.0</td>\n",
              "      <td>0.000000</td>\n",
              "      <td>0.000000</td>\n",
              "      <td>0.000000</td>\n",
              "      <td>9.090909</td>\n",
              "      <td>27.272727</td>\n",
              "      <td>0.000000</td>\n",
              "      <td>0.0</td>\n",
              "      <td>0.000000</td>\n",
              "      <td>0.0</td>\n",
              "      <td>0.000000</td>\n",
              "      <td>0.000000</td>\n",
              "      <td>0.000000</td>\n",
              "      <td>0.000000</td>\n",
              "      <td>0.0</td>\n",
              "      <td>9.090909</td>\n",
              "      <td>0.0</td>\n",
              "      <td>0.000000</td>\n",
              "      <td>9.090909</td>\n",
              "      <td>9.090909</td>\n",
              "      <td>9.090909</td>\n",
              "      <td>18.181818</td>\n",
              "      <td>0.000000</td>\n",
              "      <td>0.000000</td>\n",
              "      <td>9.090909</td>\n",
              "    </tr>\n",
              "    <tr>\n",
              "      <th>12328</th>\n",
              "      <td>18</td>\n",
              "      <td>1.401869</td>\n",
              "      <td>5.874063</td>\n",
              "      <td>84.615385</td>\n",
              "      <td>10.880342</td>\n",
              "      <td>82.249140</td>\n",
              "      <td>75.978352</td>\n",
              "      <td>4.021751</td>\n",
              "      <td>0.839416</td>\n",
              "      <td>0.142227</td>\n",
              "      <td>26.51</td>\n",
              "      <td>33.6</td>\n",
              "      <td>11.888691</td>\n",
              "      <td>15.762000</td>\n",
              "      <td>16.675182</td>\n",
              "      <td>3.976732</td>\n",
              "      <td>9.77</td>\n",
              "      <td>18.261575</td>\n",
              "      <td>36.789364</td>\n",
              "      <td>75.185119</td>\n",
              "      <td>0.0</td>\n",
              "      <td>46.887011</td>\n",
              "      <td>20.0</td>\n",
              "      <td>39.1</td>\n",
              "      <td>27.460000</td>\n",
              "      <td>8.071741</td>\n",
              "      <td>47.341000</td>\n",
              "      <td>47.341000</td>\n",
              "      <td>54.400</td>\n",
              "      <td>7</td>\n",
              "      <td>18</td>\n",
              "      <td>11.000000</td>\n",
              "      <td>4.358899</td>\n",
              "      <td>0.000000</td>\n",
              "      <td>20.000000</td>\n",
              "      <td>0.000000</td>\n",
              "      <td>0.0</td>\n",
              "      <td>0.000000</td>\n",
              "      <td>0.000000</td>\n",
              "      <td>20.000000</td>\n",
              "      <td>...</td>\n",
              "      <td>0.000000</td>\n",
              "      <td>0.0</td>\n",
              "      <td>3.846154</td>\n",
              "      <td>17.0</td>\n",
              "      <td>8.969415</td>\n",
              "      <td>17</td>\n",
              "      <td>17</td>\n",
              "      <td>8.969415</td>\n",
              "      <td>8.969415</td>\n",
              "      <td>0.0</td>\n",
              "      <td>0.0</td>\n",
              "      <td>0.0</td>\n",
              "      <td>0.000000</td>\n",
              "      <td>0.0</td>\n",
              "      <td>0.000000</td>\n",
              "      <td>0.0</td>\n",
              "      <td>0.000000</td>\n",
              "      <td>0.000000</td>\n",
              "      <td>0.000000</td>\n",
              "      <td>20.000000</td>\n",
              "      <td>0.000000</td>\n",
              "      <td>0.000000</td>\n",
              "      <td>0.0</td>\n",
              "      <td>0.000000</td>\n",
              "      <td>0.0</td>\n",
              "      <td>20.000000</td>\n",
              "      <td>20.000000</td>\n",
              "      <td>0.000000</td>\n",
              "      <td>0.000000</td>\n",
              "      <td>0.0</td>\n",
              "      <td>0.000000</td>\n",
              "      <td>0.0</td>\n",
              "      <td>20.000000</td>\n",
              "      <td>0.000000</td>\n",
              "      <td>0.000000</td>\n",
              "      <td>20.000000</td>\n",
              "      <td>0.000000</td>\n",
              "      <td>0.000000</td>\n",
              "      <td>0.000000</td>\n",
              "      <td>0.000000</td>\n",
              "    </tr>\n",
              "    <tr>\n",
              "      <th>12329</th>\n",
              "      <td>61</td>\n",
              "      <td>5.140187</td>\n",
              "      <td>10.466413</td>\n",
              "      <td>55.384615</td>\n",
              "      <td>26.278368</td>\n",
              "      <td>75.487773</td>\n",
              "      <td>67.820888</td>\n",
              "      <td>6.754800</td>\n",
              "      <td>0.083942</td>\n",
              "      <td>0.091901</td>\n",
              "      <td>69.12</td>\n",
              "      <td>71.0</td>\n",
              "      <td>20.595602</td>\n",
              "      <td>30.752308</td>\n",
              "      <td>33.554656</td>\n",
              "      <td>6.703597</td>\n",
              "      <td>11.20</td>\n",
              "      <td>11.064969</td>\n",
              "      <td>14.532638</td>\n",
              "      <td>89.266195</td>\n",
              "      <td>0.0</td>\n",
              "      <td>56.245494</td>\n",
              "      <td>58.2</td>\n",
              "      <td>76.5</td>\n",
              "      <td>58.307692</td>\n",
              "      <td>17.103239</td>\n",
              "      <td>44.790992</td>\n",
              "      <td>44.790992</td>\n",
              "      <td>42.000</td>\n",
              "      <td>39</td>\n",
              "      <td>56</td>\n",
              "      <td>45.153846</td>\n",
              "      <td>5.565461</td>\n",
              "      <td>7.692308</td>\n",
              "      <td>15.384615</td>\n",
              "      <td>7.692308</td>\n",
              "      <td>0.0</td>\n",
              "      <td>7.692308</td>\n",
              "      <td>7.692308</td>\n",
              "      <td>7.692308</td>\n",
              "      <td>...</td>\n",
              "      <td>0.000000</td>\n",
              "      <td>0.0</td>\n",
              "      <td>3.846154</td>\n",
              "      <td>66.0</td>\n",
              "      <td>13.498538</td>\n",
              "      <td>66</td>\n",
              "      <td>66</td>\n",
              "      <td>13.498538</td>\n",
              "      <td>13.498538</td>\n",
              "      <td>0.0</td>\n",
              "      <td>0.0</td>\n",
              "      <td>0.0</td>\n",
              "      <td>0.000000</td>\n",
              "      <td>0.0</td>\n",
              "      <td>0.000000</td>\n",
              "      <td>0.0</td>\n",
              "      <td>0.000000</td>\n",
              "      <td>0.000000</td>\n",
              "      <td>0.000000</td>\n",
              "      <td>7.692308</td>\n",
              "      <td>0.000000</td>\n",
              "      <td>0.000000</td>\n",
              "      <td>0.0</td>\n",
              "      <td>15.384615</td>\n",
              "      <td>0.0</td>\n",
              "      <td>15.384615</td>\n",
              "      <td>0.000000</td>\n",
              "      <td>0.000000</td>\n",
              "      <td>38.461538</td>\n",
              "      <td>0.0</td>\n",
              "      <td>7.692308</td>\n",
              "      <td>0.0</td>\n",
              "      <td>0.000000</td>\n",
              "      <td>0.000000</td>\n",
              "      <td>0.000000</td>\n",
              "      <td>0.000000</td>\n",
              "      <td>0.000000</td>\n",
              "      <td>7.692308</td>\n",
              "      <td>0.000000</td>\n",
              "      <td>7.692308</td>\n",
              "    </tr>\n",
              "    <tr>\n",
              "      <th>12330</th>\n",
              "      <td>35</td>\n",
              "      <td>2.336449</td>\n",
              "      <td>3.429631</td>\n",
              "      <td>80.000000</td>\n",
              "      <td>4.413080</td>\n",
              "      <td>76.454982</td>\n",
              "      <td>73.815624</td>\n",
              "      <td>1.782965</td>\n",
              "      <td>0.000000</td>\n",
              "      <td>0.058563</td>\n",
              "      <td>24.30</td>\n",
              "      <td>61.3</td>\n",
              "      <td>10.712054</td>\n",
              "      <td>48.614286</td>\n",
              "      <td>47.977867</td>\n",
              "      <td>3.147087</td>\n",
              "      <td>10.20</td>\n",
              "      <td>7.772850</td>\n",
              "      <td>5.393461</td>\n",
              "      <td>3.076247</td>\n",
              "      <td>0.0</td>\n",
              "      <td>48.097611</td>\n",
              "      <td>29.6</td>\n",
              "      <td>69.9</td>\n",
              "      <td>51.285714</td>\n",
              "      <td>9.941064</td>\n",
              "      <td>21.012857</td>\n",
              "      <td>21.012857</td>\n",
              "      <td>9.190</td>\n",
              "      <td>20</td>\n",
              "      <td>35</td>\n",
              "      <td>24.000000</td>\n",
              "      <td>5.033223</td>\n",
              "      <td>0.000000</td>\n",
              "      <td>14.285714</td>\n",
              "      <td>28.571429</td>\n",
              "      <td>0.0</td>\n",
              "      <td>0.000000</td>\n",
              "      <td>0.000000</td>\n",
              "      <td>0.000000</td>\n",
              "      <td>...</td>\n",
              "      <td>0.000000</td>\n",
              "      <td>0.0</td>\n",
              "      <td>3.846154</td>\n",
              "      <td>52.0</td>\n",
              "      <td>12.094163</td>\n",
              "      <td>52</td>\n",
              "      <td>52</td>\n",
              "      <td>12.094163</td>\n",
              "      <td>12.094163</td>\n",
              "      <td>0.0</td>\n",
              "      <td>0.0</td>\n",
              "      <td>0.0</td>\n",
              "      <td>0.000000</td>\n",
              "      <td>0.0</td>\n",
              "      <td>0.000000</td>\n",
              "      <td>0.0</td>\n",
              "      <td>0.000000</td>\n",
              "      <td>0.000000</td>\n",
              "      <td>0.000000</td>\n",
              "      <td>0.000000</td>\n",
              "      <td>0.000000</td>\n",
              "      <td>14.285714</td>\n",
              "      <td>0.0</td>\n",
              "      <td>0.000000</td>\n",
              "      <td>0.0</td>\n",
              "      <td>0.000000</td>\n",
              "      <td>0.000000</td>\n",
              "      <td>14.285714</td>\n",
              "      <td>14.285714</td>\n",
              "      <td>0.0</td>\n",
              "      <td>14.285714</td>\n",
              "      <td>0.0</td>\n",
              "      <td>0.000000</td>\n",
              "      <td>0.000000</td>\n",
              "      <td>14.285714</td>\n",
              "      <td>0.000000</td>\n",
              "      <td>14.285714</td>\n",
              "      <td>0.000000</td>\n",
              "      <td>14.285714</td>\n",
              "      <td>0.000000</td>\n",
              "    </tr>\n",
              "  </tbody>\n",
              "</table>\n",
              "<p>12331 rows × 90 columns</p>\n",
              "</div>"
            ],
            "text/plain": [
              "       popularity  total_tracks  ...  genre_19_pct  genre_20_pct\n",
              "0              54      3.738318  ...      0.000000      0.000000\n",
              "1              20      5.607477  ...     21.428571      0.000000\n",
              "2              33      5.607477  ...     57.142857      0.000000\n",
              "3              22      3.738318  ...     10.000000      0.000000\n",
              "4               5      6.542056  ...     18.750000      0.000000\n",
              "...           ...           ...  ...           ...           ...\n",
              "12326          13      3.738318  ...     20.000000      0.000000\n",
              "12327          37      4.205607  ...      0.000000      9.090909\n",
              "12328          18      1.401869  ...      0.000000      0.000000\n",
              "12329          61      5.140187  ...      0.000000      7.692308\n",
              "12330          35      2.336449  ...     14.285714      0.000000\n",
              "\n",
              "[12331 rows x 90 columns]"
            ]
          },
          "metadata": {
            "tags": []
          },
          "execution_count": 16
        }
      ]
    },
    {
      "cell_type": "code",
      "metadata": {
        "id": "P97cPPA06X1t",
        "colab": {
          "base_uri": "https://localhost:8080/",
          "height": 302
        },
        "outputId": "2eceed7e-6c36-4151-c050-c5d0cec0e0a1"
      },
      "source": [
        "reg = DecisionTreeRegressor()\n",
        "reg.fit(X_train, y_train)\n",
        "CC = reg.predict(X_test)\n",
        "CC\n",
        "y_true = y_test['score'].tolist()\n",
        "\n",
        "print(r2_score(y_true, CC))\n",
        "rvalues.append(r2_score(y_true, CC))\n",
        "mae.append(mean_absolute_error(y_true, CC))\n",
        "mape.append(mean_absolute_percentage_error(y_true, CC))\n",
        "names.append(\"DecisionTreeRegressor\")\n",
        "graphRegressionMetrics(y_true, CC, X_test)"
      ],
      "execution_count": null,
      "outputs": [
        {
          "output_type": "stream",
          "text": [
            "-0.7553151480476215\n"
          ],
          "name": "stdout"
        },
        {
          "output_type": "display_data",
          "data": {
            "image/png": "[encoded data removed]",
            "text/plain": [
              "<Figure size 432x288 with 1 Axes>"
            ]
          },
          "metadata": {
            "tags": []
          }
        }
      ]
    },
    {
      "cell_type": "markdown",
      "metadata": {
        "id": "MhUk4i7Vl2Oq"
      },
      "source": [
        "# ExtraTreeRegressor"
      ]
    },
    {
      "cell_type": "code",
      "metadata": {
        "id": "zrW86uP_6mZH",
        "colab": {
          "base_uri": "https://localhost:8080/",
          "height": 302
        },
        "outputId": "c4d5c1bf-e317-4fab-80b9-18a6640caf4b"
      },
      "source": [
        "reg = ExtraTreeRegressor()\n",
        "reg.fit(X_train, y_train)\n",
        "CC = reg.predict(X_test)\n",
        "CC\n",
        "y_true = y_test['score'].tolist()\n",
        "\n",
        "print(r2_score(y_true, CC))\n",
        "rvalues.append(r2_score(y_true, CC))\n",
        "mae.append(mean_absolute_error(y_true, CC))\n",
        "mape.append(mean_absolute_percentage_error(y_true, CC))\n",
        "names.append(\"ExtraTreeRegressor\")\n",
        "graphRegressionMetrics(y_true, CC, X_test)"
      ],
      "execution_count": null,
      "outputs": [
        {
          "output_type": "stream",
          "text": [
            "-0.8082836271460718\n"
          ],
          "name": "stdout"
        },
        {
          "output_type": "display_data",
          "data": {
            "image/png": "[encoded data removed]",
            "text/plain": [
              "<Figure size 432x288 with 1 Axes>"
            ]
          },
          "metadata": {
            "tags": []
          }
        }
      ]
    },
    {
      "cell_type": "markdown",
      "metadata": {
        "id": "ssPbWFgWl6VX"
      },
      "source": [
        "# GaussianPRocessRegressor BROKEN"
      ]
    },
    {
      "cell_type": "code",
      "metadata": {
        "colab": {
          "base_uri": "https://localhost:8080/",
          "height": 426
        },
        "id": "1r2u8SS1629l",
        "outputId": "a407afc6-27dd-4217-b7b6-b24dba68cdee"
      },
      "source": [
        "kernel = DotProduct() + WhiteKernel()\n",
        "reg = GaussianProcessRegressor(kernel=kernel)\n",
        "\n",
        "reg.fit(X_train, Y_train)\n",
        "CC = reg.predict(X_test)\n",
        "CC\n",
        "y_true = Y_test['score'].tolist()\n",
        "\n",
        "print(r2_score(y_true, CC))\n",
        "graphRegressionMetrics(y_true, CC, X_test)"
      ],
      "execution_count": null,
      "outputs": [
        {
          "output_type": "error",
          "ename": "LinAlgError",
          "evalue": "ignored",
          "traceback": [
            "\u001b[0;31m---------------------------------------------------------------------------\u001b[0m",
            "\u001b[0;31mLinAlgError\u001b[0m                               Traceback (most recent call last)",
            "\u001b[0;32m<ipython-input-71-3c6226d028eb>\u001b[0m in \u001b[0;36m<module>\u001b[0;34m()\u001b[0m\n\u001b[1;32m      2\u001b[0m \u001b[0mreg\u001b[0m \u001b[0;34m=\u001b[0m \u001b[0mGaussianProcessRegressor\u001b[0m\u001b[0;34m(\u001b[0m\u001b[0mkernel\u001b[0m\u001b[0;34m=\u001b[0m\u001b[0mkernel\u001b[0m\u001b[0;34m)\u001b[0m\u001b[0;34m\u001b[0m\u001b[0;34m\u001b[0m\u001b[0m\n\u001b[1;32m      3\u001b[0m \u001b[0;34m\u001b[0m\u001b[0m\n\u001b[0;32m----> 4\u001b[0;31m \u001b[0mreg\u001b[0m\u001b[0;34m.\u001b[0m\u001b[0mfit\u001b[0m\u001b[0;34m(\u001b[0m\u001b[0mX_train\u001b[0m\u001b[0;34m,\u001b[0m \u001b[0mY_train\u001b[0m\u001b[0;34m)\u001b[0m\u001b[0;34m\u001b[0m\u001b[0;34m\u001b[0m\u001b[0m\n\u001b[0m\u001b[1;32m      5\u001b[0m \u001b[0mCC\u001b[0m \u001b[0;34m=\u001b[0m \u001b[0mreg\u001b[0m\u001b[0;34m.\u001b[0m\u001b[0mpredict\u001b[0m\u001b[0;34m(\u001b[0m\u001b[0mX_test\u001b[0m\u001b[0;34m)\u001b[0m\u001b[0;34m\u001b[0m\u001b[0;34m\u001b[0m\u001b[0m\n\u001b[1;32m      6\u001b[0m \u001b[0mCC\u001b[0m\u001b[0;34m\u001b[0m\u001b[0;34m\u001b[0m\u001b[0m\n",
            "\u001b[0;32m/usr/local/lib/python3.7/dist-packages/sklearn/gaussian_process/_gpr.py\u001b[0m in \u001b[0;36mfit\u001b[0;34m(self, X, y)\u001b[0m\n\u001b[1;32m    271\u001b[0m         \u001b[0mK\u001b[0m\u001b[0;34m[\u001b[0m\u001b[0mnp\u001b[0m\u001b[0;34m.\u001b[0m\u001b[0mdiag_indices_from\u001b[0m\u001b[0;34m(\u001b[0m\u001b[0mK\u001b[0m\u001b[0;34m)\u001b[0m\u001b[0;34m]\u001b[0m \u001b[0;34m+=\u001b[0m \u001b[0mself\u001b[0m\u001b[0;34m.\u001b[0m\u001b[0malpha\u001b[0m\u001b[0;34m\u001b[0m\u001b[0;34m\u001b[0m\u001b[0m\n\u001b[1;32m    272\u001b[0m         \u001b[0;32mtry\u001b[0m\u001b[0;34m:\u001b[0m\u001b[0;34m\u001b[0m\u001b[0;34m\u001b[0m\u001b[0m\n\u001b[0;32m--> 273\u001b[0;31m             \u001b[0mself\u001b[0m\u001b[0;34m.\u001b[0m\u001b[0mL_\u001b[0m \u001b[0;34m=\u001b[0m \u001b[0mcholesky\u001b[0m\u001b[0;34m(\u001b[0m\u001b[0mK\u001b[0m\u001b[0;34m,\u001b[0m \u001b[0mlower\u001b[0m\u001b[0;34m=\u001b[0m\u001b[0;32mTrue\u001b[0m\u001b[0;34m)\u001b[0m  \u001b[0;31m# Line 2\u001b[0m\u001b[0;34m\u001b[0m\u001b[0;34m\u001b[0m\u001b[0m\n\u001b[0m\u001b[1;32m    274\u001b[0m         \u001b[0;32mexcept\u001b[0m \u001b[0mnp\u001b[0m\u001b[0;34m.\u001b[0m\u001b[0mlinalg\u001b[0m\u001b[0;34m.\u001b[0m\u001b[0mLinAlgError\u001b[0m \u001b[0;32mas\u001b[0m \u001b[0mexc\u001b[0m\u001b[0;34m:\u001b[0m\u001b[0;34m\u001b[0m\u001b[0;34m\u001b[0m\u001b[0m\n\u001b[1;32m    275\u001b[0m             exc.args = (\"The kernel, %s, is not returning a \"\n",
            "\u001b[0;32m/usr/local/lib/python3.7/dist-packages/scipy/linalg/decomp_cholesky.py\u001b[0m in \u001b[0;36mcholesky\u001b[0;34m(a, lower, overwrite_a, check_finite)\u001b[0m\n\u001b[1;32m     89\u001b[0m     \"\"\"\n\u001b[1;32m     90\u001b[0m     c, lower = _cholesky(a, lower=lower, overwrite_a=overwrite_a, clean=True,\n\u001b[0;32m---> 91\u001b[0;31m                          check_finite=check_finite)\n\u001b[0m\u001b[1;32m     92\u001b[0m     \u001b[0;32mreturn\u001b[0m \u001b[0mc\u001b[0m\u001b[0;34m\u001b[0m\u001b[0;34m\u001b[0m\u001b[0m\n\u001b[1;32m     93\u001b[0m \u001b[0;34m\u001b[0m\u001b[0m\n",
            "\u001b[0;32m/usr/local/lib/python3.7/dist-packages/scipy/linalg/decomp_cholesky.py\u001b[0m in \u001b[0;36m_cholesky\u001b[0;34m(a, lower, overwrite_a, clean, check_finite)\u001b[0m\n\u001b[1;32m     38\u001b[0m     \u001b[0;32mif\u001b[0m \u001b[0minfo\u001b[0m \u001b[0;34m>\u001b[0m \u001b[0;36m0\u001b[0m\u001b[0;34m:\u001b[0m\u001b[0;34m\u001b[0m\u001b[0;34m\u001b[0m\u001b[0m\n\u001b[1;32m     39\u001b[0m         raise LinAlgError(\"%d-th leading minor of the array is not positive \"\n\u001b[0;32m---> 40\u001b[0;31m                           \"definite\" % info)\n\u001b[0m\u001b[1;32m     41\u001b[0m     \u001b[0;32mif\u001b[0m \u001b[0minfo\u001b[0m \u001b[0;34m<\u001b[0m \u001b[0;36m0\u001b[0m\u001b[0;34m:\u001b[0m\u001b[0;34m\u001b[0m\u001b[0;34m\u001b[0m\u001b[0m\n\u001b[1;32m     42\u001b[0m         raise ValueError('LAPACK reported an illegal value in {}-th argument'\n",
            "\u001b[0;31mLinAlgError\u001b[0m: (\"The kernel, DotProduct(sigma_0=1) + WhiteKernel(noise_level=1), is not returning a positive definite matrix. Try gradually increasing the 'alpha' parameter of your GaussianProcessRegressor estimator.\", '415-th leading minor of the array is not positive definite')"
          ]
        }
      ]
    },
    {
      "cell_type": "markdown",
      "metadata": {
        "id": "SL1QO4Fvl-TH"
      },
      "source": [
        "# PoissonRegressor"
      ]
    },
    {
      "cell_type": "code",
      "metadata": {
        "id": "_L6hWTkD1VtG",
        "colab": {
          "base_uri": "https://localhost:8080/",
          "height": 458
        },
        "outputId": "79e28a66-f158-4c50-b07f-3717221be3b9"
      },
      "source": [
        "reg = PoissonRegressor()\n",
        "\n",
        "reg.fit(X_train, y_train)\n",
        "CC = reg.predict(X_test)\n",
        "CC\n",
        "y_true = y_test['score'].tolist()\n",
        "\n",
        "print(r2_score(y_true, CC))\n",
        "rvalues.append(r2_score(y_true, CC))\n",
        "mae.append(mean_absolute_error(y_true, CC))\n",
        "mape.append(mean_absolute_percentage_error(y_true, CC))\n",
        "names.append(\"PoissonRegressor\")\n",
        "graphRegressionMetrics(y_true, CC, X_test)"
      ],
      "execution_count": null,
      "outputs": [
        {
          "output_type": "stream",
          "text": [
            "/usr/local/lib/python3.7/dist-packages/sklearn/utils/validation.py:63: DataConversionWarning: A column-vector y was passed when a 1d array was expected. Please change the shape of y to (n_samples, ), for example using ravel().\n",
            "  return f(*args, **kwargs)\n",
            "/usr/local/lib/python3.7/dist-packages/sklearn/linear_model/_glm/glm.py:287: ConvergenceWarning: lbfgs failed to converge (status=1):\n",
            "STOP: TOTAL NO. of ITERATIONS REACHED LIMIT.\n",
            "\n",
            "Increase the number of iterations (max_iter) or scale the data as shown in:\n",
            "    https://scikit-learn.org/stable/modules/preprocessing.html\n",
            "  self.n_iter_ = _check_optimize_result(\"lbfgs\", opt_res)\n"
          ],
          "name": "stderr"
        },
        {
          "output_type": "stream",
          "text": [
            "0.06703541041610728\n"
          ],
          "name": "stdout"
        },
        {
          "output_type": "display_data",
          "data": {
            "image/png": "[encoded data removed]",
            "text/plain": [
              "<Figure size 432x288 with 1 Axes>"
            ]
          },
          "metadata": {
            "tags": []
          }
        }
      ]
    },
    {
      "cell_type": "markdown",
      "metadata": {
        "id": "bMmctKRUmBSF"
      },
      "source": [
        "# TweedRegressor"
      ]
    },
    {
      "cell_type": "code",
      "metadata": {
        "id": "AQ7zqLDk91OR",
        "colab": {
          "base_uri": "https://localhost:8080/",
          "height": 458
        },
        "outputId": "7c96890f-fda3-4764-9264-7f13f284908b"
      },
      "source": [
        "reg = TweedieRegressor()\n",
        "\n",
        "reg.fit(X_train, y_train)\n",
        "CC = reg.predict(X_test)\n",
        "CC\n",
        "y_true = y_test['score'].tolist()\n",
        "\n",
        "print(r2_score(y_true, CC))\n",
        "rvalues.append(r2_score(y_true, CC))\n",
        "mae.append(mean_absolute_error(y_true, CC))\n",
        "mape.append(mean_absolute_percentage_error(y_true, CC))\n",
        "names.append(\"TweedRegressor\")\n",
        "graphRegressionMetrics(y_true, CC, X_test)"
      ],
      "execution_count": null,
      "outputs": [
        {
          "output_type": "stream",
          "text": [
            "/usr/local/lib/python3.7/dist-packages/sklearn/utils/validation.py:63: DataConversionWarning: A column-vector y was passed when a 1d array was expected. Please change the shape of y to (n_samples, ), for example using ravel().\n",
            "  return f(*args, **kwargs)\n",
            "/usr/local/lib/python3.7/dist-packages/sklearn/linear_model/_glm/glm.py:287: ConvergenceWarning: lbfgs failed to converge (status=1):\n",
            "STOP: TOTAL NO. of ITERATIONS REACHED LIMIT.\n",
            "\n",
            "Increase the number of iterations (max_iter) or scale the data as shown in:\n",
            "    https://scikit-learn.org/stable/modules/preprocessing.html\n",
            "  self.n_iter_ = _check_optimize_result(\"lbfgs\", opt_res)\n"
          ],
          "name": "stderr"
        },
        {
          "output_type": "stream",
          "text": [
            "0.06639225075468291\n"
          ],
          "name": "stdout"
        },
        {
          "output_type": "display_data",
          "data": {
            "image/png": "[encoded data removed]",
            "text/plain": [
              "<Figure size 432x288 with 1 Axes>"
            ]
          },
          "metadata": {
            "tags": []
          }
        }
      ]
    },
    {
      "cell_type": "markdown",
      "metadata": {
        "id": "KuyXi9comFuF"
      },
      "source": [
        "Graph Metrics"
      ]
    },
    {
      "cell_type": "code",
      "metadata": {
        "id": "-KsrJQJBBCPc"
      },
      "source": [
        "import numpy as np \n",
        "import pandas as pd \n",
        "import seaborn as sns \n",
        "import matplotlib.pyplot as plt "
      ],
      "execution_count": null,
      "outputs": []
    },
    {
      "cell_type": "code",
      "metadata": {
        "id": "R_Mp0bNLBQDJ"
      },
      "source": [
        "def graphRegressionMetrics(Y_test, Y_pred, X_test):\n",
        "  fig, ax = plt.subplots()\n",
        "  ax.scatter(Y_pred, Y_test, edgecolors=(0, 0, 1))\n",
        "  Y_test = np.array(Y_test)\n",
        "  ax.plot([Y_test.min(), Y_test.max()], [Y_test.min(), Y_test.max()], 'r--', lw=3)\n",
        "  ax.set_xlabel('Predicted')\n",
        "  ax.set_ylabel('Actual')\n",
        "  plt.show()"
      ],
      "execution_count": null,
      "outputs": []
    },
    {
      "cell_type": "markdown",
      "metadata": {
        "id": "0PZhaIIHlu_t"
      },
      "source": [
        "## Feature Minimizing "
      ]
    },
    {
      "cell_type": "markdown",
      "metadata": {
        "id": "zid3SDf8l3dG"
      },
      "source": [
        "PCA"
      ]
    },
    {
      "cell_type": "code",
      "metadata": {
        "colab": {
          "base_uri": "https://localhost:8080/",
          "height": 1000
        },
        "id": "W59i1lD2lxuD",
        "outputId": "3b9353d6-7968-4ead-c85b-ac339226280f"
      },
      "source": [
        "sum = []\n",
        "scoreridge = []\n",
        "scoreNu = []\n",
        "rf = RandomForestRegressor()\n",
        "param_grid = {'n_estimators': [47],\n",
        "              \"max_depth\": [6],\n",
        "              \"max_features\" : ['auto'],\n",
        "              \"min_samples_split\" : [15],\n",
        "              \"min_samples_leaf\" : [13]}\n",
        "\n",
        "\n",
        "search = HalvingGridSearchCV(rf, param_grid, random_state=42)\n",
        "scorerf = []\n",
        "for i in range(1, 9) :\n",
        "  print(i)\n",
        "  j = i * 10\n",
        "  pca = PCA(n_components=j)\n",
        "  pca_ = pca.fit_transform(the_real_one)\n",
        "  pca.explained_variance_ratio_\n",
        "  sum1 = np.sum(pca.explained_variance_ratio_)\n",
        "  X_train, X_test, y_train, y_test = train_test_split(pca_, y_full, test_size=0.25, random_state=22)\n",
        "  rr = Ridge(alpha=0.0001)\n",
        "  rr.fit(X_train, y_train) \n",
        "  CC = rr.predict(X_test)\n",
        "  CC\n",
        "  y_true = y_test['score'].tolist()\n",
        "  scoreridge.append(r2_score(y_true, CC))\n",
        "\n",
        "\n",
        "  reg = NuSVR()\n",
        "  reg.fit(X_train, y_train)\n",
        "  CC = reg.predict(X_test)\n",
        "  CC\n",
        "  y_true = y_test['score'].tolist()\n",
        "  scoreNu.append(r2_score(y_true, CC))\n",
        "\n",
        "\n",
        "  search.fit(X_train, y_train)\n",
        "  CC = search.predict(X_test)\n",
        "  CC\n",
        "  y_true = y_test['score'].tolist()\n",
        "  scorerf.append(r2_score(y_true, CC))\n",
        "\n",
        "  #print(r2_score(y_true, CC))\n",
        "  #score.append(r2_score(y_true, CC))\n",
        "  #print(r2_score(y_true, CC))\n",
        "  sum.append(sum1)\n",
        "  print(sum1)\n",
        "  print(\"##############################\")\n",
        "  print(\"##############################\")\n",
        "\n",
        "\n",
        "plt.figure(0)\n",
        "sns.set()\n",
        "plt.title(\"PCA Analysis of explained variance\")\n",
        "plt.xlabel(\"Number of Components X10\")\n",
        "plt.ylabel(\"Explained Variance ratio\")\n",
        "plt.plot(range(1, 9), sum)\n",
        "plt.savefig('PCAExplainedVariance.png')\n",
        "\n",
        "\n",
        "plt.figure(1)\n",
        "sns.set()\n",
        "plt.title(\"PCA and R^2 Score\")\n",
        "plt.xlabel(\"Number of Components X10\")\n",
        "plt.ylabel(\"R^2 Score\")\n",
        "plt.plot(range(1, 9), scoreridge)\n",
        "plt.plot(range(1, 9), scoreNu)\n",
        "plt.plot(range(1, 9), scorerf)\n",
        "plt.legend(['Ridge', 'NuSVR', 'RandomForest'])\n",
        "plt.savefig('PCAVSmodels.png')"
      ],
      "execution_count": null,
      "outputs": [
        {
          "output_type": "stream",
          "text": [
            "Error in callback <bound method _WandbInit._resume_backend of <wandb.sdk.wandb_init._WandbInit object at 0x7fb8ac59cfd0>> (for pre_run_cell):\n"
          ],
          "name": "stdout"
        },
        {
          "output_type": "error",
          "ename": "Exception",
          "evalue": "ignored",
          "traceback": [
            "\u001b[0;31m---------------------------------------------------------------------------\u001b[0m",
            "\u001b[0;31mException\u001b[0m                                 Traceback (most recent call last)",
            "\u001b[0;32m/usr/local/lib/python3.7/dist-packages/wandb/sdk/wandb_init.py\u001b[0m in \u001b[0;36m_resume_backend\u001b[0;34m(self)\u001b[0m\n\u001b[1;32m    257\u001b[0m         \u001b[0;32mif\u001b[0m \u001b[0mself\u001b[0m\u001b[0;34m.\u001b[0m\u001b[0mbackend\u001b[0m \u001b[0;32mis\u001b[0m \u001b[0;32mnot\u001b[0m \u001b[0;32mNone\u001b[0m\u001b[0;34m:\u001b[0m\u001b[0;34m\u001b[0m\u001b[0;34m\u001b[0m\u001b[0m\n\u001b[1;32m    258\u001b[0m             \u001b[0mlogger\u001b[0m\u001b[0;34m.\u001b[0m\u001b[0minfo\u001b[0m\u001b[0;34m(\u001b[0m\u001b[0;34m\"resuming backend\"\u001b[0m\u001b[0;34m)\u001b[0m\u001b[0;34m\u001b[0m\u001b[0;34m\u001b[0m\u001b[0m\n\u001b[0;32m--> 259\u001b[0;31m             \u001b[0mself\u001b[0m\u001b[0;34m.\u001b[0m\u001b[0mbackend\u001b[0m\u001b[0;34m.\u001b[0m\u001b[0minterface\u001b[0m\u001b[0;34m.\u001b[0m\u001b[0mpublish_resume\u001b[0m\u001b[0;34m(\u001b[0m\u001b[0;34m)\u001b[0m\u001b[0;34m\u001b[0m\u001b[0;34m\u001b[0m\u001b[0m\n\u001b[0m\u001b[1;32m    260\u001b[0m \u001b[0;34m\u001b[0m\u001b[0m\n\u001b[1;32m    261\u001b[0m     \u001b[0;32mdef\u001b[0m \u001b[0m_jupyter_teardown\u001b[0m\u001b[0;34m(\u001b[0m\u001b[0mself\u001b[0m\u001b[0;34m)\u001b[0m\u001b[0;34m:\u001b[0m\u001b[0;34m\u001b[0m\u001b[0;34m\u001b[0m\u001b[0m\n",
            "\u001b[0;32m/usr/local/lib/python3.7/dist-packages/wandb/sdk/interface/interface.py\u001b[0m in \u001b[0;36mpublish_resume\u001b[0;34m(self)\u001b[0m\n\u001b[1;32m    603\u001b[0m         \u001b[0mresume\u001b[0m \u001b[0;34m=\u001b[0m \u001b[0mpb\u001b[0m\u001b[0;34m.\u001b[0m\u001b[0mResumeRequest\u001b[0m\u001b[0;34m(\u001b[0m\u001b[0;34m)\u001b[0m\u001b[0;34m\u001b[0m\u001b[0;34m\u001b[0m\u001b[0m\n\u001b[1;32m    604\u001b[0m         \u001b[0mrec\u001b[0m \u001b[0;34m=\u001b[0m \u001b[0mself\u001b[0m\u001b[0;34m.\u001b[0m\u001b[0m_make_request\u001b[0m\u001b[0;34m(\u001b[0m\u001b[0mresume\u001b[0m\u001b[0;34m=\u001b[0m\u001b[0mresume\u001b[0m\u001b[0;34m)\u001b[0m\u001b[0;34m\u001b[0m\u001b[0;34m\u001b[0m\u001b[0m\n\u001b[0;32m--> 605\u001b[0;31m         \u001b[0mself\u001b[0m\u001b[0;34m.\u001b[0m\u001b[0m_publish\u001b[0m\u001b[0;34m(\u001b[0m\u001b[0mrec\u001b[0m\u001b[0;34m)\u001b[0m\u001b[0;34m\u001b[0m\u001b[0;34m\u001b[0m\u001b[0m\n\u001b[0m\u001b[1;32m    606\u001b[0m \u001b[0;34m\u001b[0m\u001b[0m\n\u001b[1;32m    607\u001b[0m     \u001b[0;32mdef\u001b[0m \u001b[0m_publish_run\u001b[0m\u001b[0;34m(\u001b[0m\u001b[0mself\u001b[0m\u001b[0;34m,\u001b[0m \u001b[0mrun\u001b[0m\u001b[0;34m:\u001b[0m \u001b[0mpb\u001b[0m\u001b[0;34m.\u001b[0m\u001b[0mRunRecord\u001b[0m\u001b[0;34m)\u001b[0m \u001b[0;34m->\u001b[0m \u001b[0;32mNone\u001b[0m\u001b[0;34m:\u001b[0m\u001b[0;34m\u001b[0m\u001b[0;34m\u001b[0m\u001b[0m\n",
            "\u001b[0;32m/usr/local/lib/python3.7/dist-packages/wandb/sdk/interface/interface.py\u001b[0m in \u001b[0;36m_publish\u001b[0;34m(self, record, local)\u001b[0m\n\u001b[1;32m    534\u001b[0m     \u001b[0;32mdef\u001b[0m \u001b[0m_publish\u001b[0m\u001b[0;34m(\u001b[0m\u001b[0mself\u001b[0m\u001b[0;34m,\u001b[0m \u001b[0mrecord\u001b[0m\u001b[0;34m:\u001b[0m \u001b[0mpb\u001b[0m\u001b[0;34m.\u001b[0m\u001b[0mRecord\u001b[0m\u001b[0;34m,\u001b[0m \u001b[0mlocal\u001b[0m\u001b[0;34m:\u001b[0m \u001b[0mbool\u001b[0m \u001b[0;34m=\u001b[0m \u001b[0;32mNone\u001b[0m\u001b[0;34m)\u001b[0m \u001b[0;34m->\u001b[0m \u001b[0;32mNone\u001b[0m\u001b[0;34m:\u001b[0m\u001b[0;34m\u001b[0m\u001b[0;34m\u001b[0m\u001b[0m\n\u001b[1;32m    535\u001b[0m         \u001b[0;32mif\u001b[0m \u001b[0mself\u001b[0m\u001b[0;34m.\u001b[0m\u001b[0m_process\u001b[0m \u001b[0;32mand\u001b[0m \u001b[0;32mnot\u001b[0m \u001b[0mself\u001b[0m\u001b[0;34m.\u001b[0m\u001b[0m_process\u001b[0m\u001b[0;34m.\u001b[0m\u001b[0mis_alive\u001b[0m\u001b[0;34m(\u001b[0m\u001b[0;34m)\u001b[0m\u001b[0;34m:\u001b[0m\u001b[0;34m\u001b[0m\u001b[0;34m\u001b[0m\u001b[0m\n\u001b[0;32m--> 536\u001b[0;31m             \u001b[0;32mraise\u001b[0m \u001b[0mException\u001b[0m\u001b[0;34m(\u001b[0m\u001b[0;34m\"The wandb backend process has shutdown\"\u001b[0m\u001b[0;34m)\u001b[0m\u001b[0;34m\u001b[0m\u001b[0;34m\u001b[0m\u001b[0m\n\u001b[0m\u001b[1;32m    537\u001b[0m         \u001b[0;32mif\u001b[0m \u001b[0mlocal\u001b[0m\u001b[0;34m:\u001b[0m\u001b[0;34m\u001b[0m\u001b[0;34m\u001b[0m\u001b[0m\n\u001b[1;32m    538\u001b[0m             \u001b[0mrecord\u001b[0m\u001b[0;34m.\u001b[0m\u001b[0mcontrol\u001b[0m\u001b[0;34m.\u001b[0m\u001b[0mlocal\u001b[0m \u001b[0;34m=\u001b[0m \u001b[0mlocal\u001b[0m\u001b[0;34m\u001b[0m\u001b[0;34m\u001b[0m\u001b[0m\n",
            "\u001b[0;31mException\u001b[0m: The wandb backend process has shutdown"
          ]
        },
        {
          "output_type": "stream",
          "text": [
            "1\n"
          ],
          "name": "stdout"
        },
        {
          "output_type": "stream",
          "text": [
            "/usr/local/lib/python3.7/dist-packages/sklearn/utils/validation.py:63: DataConversionWarning: A column-vector y was passed when a 1d array was expected. Please change the shape of y to (n_samples, ), for example using ravel().\n",
            "  return f(*args, **kwargs)\n",
            "/usr/local/lib/python3.7/dist-packages/sklearn/model_selection/_validation.py:598: DataConversionWarning: A column-vector y was passed when a 1d array was expected. Please change the shape of y to (n_samples,), for example using ravel().\n",
            "  estimator.fit(X_train, y_train, **fit_params)\n",
            "/usr/local/lib/python3.7/dist-packages/sklearn/model_selection/_validation.py:598: DataConversionWarning: A column-vector y was passed when a 1d array was expected. Please change the shape of y to (n_samples,), for example using ravel().\n",
            "  estimator.fit(X_train, y_train, **fit_params)\n",
            "/usr/local/lib/python3.7/dist-packages/sklearn/model_selection/_validation.py:598: DataConversionWarning: A column-vector y was passed when a 1d array was expected. Please change the shape of y to (n_samples,), for example using ravel().\n",
            "  estimator.fit(X_train, y_train, **fit_params)\n",
            "/usr/local/lib/python3.7/dist-packages/sklearn/model_selection/_validation.py:598: DataConversionWarning: A column-vector y was passed when a 1d array was expected. Please change the shape of y to (n_samples,), for example using ravel().\n",
            "  estimator.fit(X_train, y_train, **fit_params)\n",
            "/usr/local/lib/python3.7/dist-packages/sklearn/model_selection/_validation.py:598: DataConversionWarning: A column-vector y was passed when a 1d array was expected. Please change the shape of y to (n_samples,), for example using ravel().\n",
            "  estimator.fit(X_train, y_train, **fit_params)\n",
            "/usr/local/lib/python3.7/dist-packages/sklearn/model_selection/_search.py:880: DataConversionWarning: A column-vector y was passed when a 1d array was expected. Please change the shape of y to (n_samples,), for example using ravel().\n",
            "  self.best_estimator_.fit(X, y, **fit_params)\n"
          ],
          "name": "stderr"
        },
        {
          "output_type": "stream",
          "text": [
            "0.7771656528722342\n",
            "##############################\n",
            "##############################\n",
            "2\n"
          ],
          "name": "stdout"
        },
        {
          "output_type": "stream",
          "text": [
            "/usr/local/lib/python3.7/dist-packages/sklearn/utils/validation.py:63: DataConversionWarning: A column-vector y was passed when a 1d array was expected. Please change the shape of y to (n_samples, ), for example using ravel().\n",
            "  return f(*args, **kwargs)\n",
            "/usr/local/lib/python3.7/dist-packages/sklearn/model_selection/_validation.py:598: DataConversionWarning: A column-vector y was passed when a 1d array was expected. Please change the shape of y to (n_samples,), for example using ravel().\n",
            "  estimator.fit(X_train, y_train, **fit_params)\n",
            "/usr/local/lib/python3.7/dist-packages/sklearn/model_selection/_validation.py:598: DataConversionWarning: A column-vector y was passed when a 1d array was expected. Please change the shape of y to (n_samples,), for example using ravel().\n",
            "  estimator.fit(X_train, y_train, **fit_params)\n",
            "/usr/local/lib/python3.7/dist-packages/sklearn/model_selection/_validation.py:598: DataConversionWarning: A column-vector y was passed when a 1d array was expected. Please change the shape of y to (n_samples,), for example using ravel().\n",
            "  estimator.fit(X_train, y_train, **fit_params)\n",
            "/usr/local/lib/python3.7/dist-packages/sklearn/model_selection/_validation.py:598: DataConversionWarning: A column-vector y was passed when a 1d array was expected. Please change the shape of y to (n_samples,), for example using ravel().\n",
            "  estimator.fit(X_train, y_train, **fit_params)\n",
            "/usr/local/lib/python3.7/dist-packages/sklearn/model_selection/_validation.py:598: DataConversionWarning: A column-vector y was passed when a 1d array was expected. Please change the shape of y to (n_samples,), for example using ravel().\n",
            "  estimator.fit(X_train, y_train, **fit_params)\n",
            "/usr/local/lib/python3.7/dist-packages/sklearn/model_selection/_search.py:880: DataConversionWarning: A column-vector y was passed when a 1d array was expected. Please change the shape of y to (n_samples,), for example using ravel().\n",
            "  self.best_estimator_.fit(X, y, **fit_params)\n"
          ],
          "name": "stderr"
        },
        {
          "output_type": "stream",
          "text": [
            "0.8753972953566259\n",
            "##############################\n",
            "##############################\n",
            "3\n"
          ],
          "name": "stdout"
        },
        {
          "output_type": "stream",
          "text": [
            "/usr/local/lib/python3.7/dist-packages/sklearn/utils/validation.py:63: DataConversionWarning: A column-vector y was passed when a 1d array was expected. Please change the shape of y to (n_samples, ), for example using ravel().\n",
            "  return f(*args, **kwargs)\n",
            "/usr/local/lib/python3.7/dist-packages/sklearn/model_selection/_validation.py:598: DataConversionWarning: A column-vector y was passed when a 1d array was expected. Please change the shape of y to (n_samples,), for example using ravel().\n",
            "  estimator.fit(X_train, y_train, **fit_params)\n",
            "/usr/local/lib/python3.7/dist-packages/sklearn/model_selection/_validation.py:598: DataConversionWarning: A column-vector y was passed when a 1d array was expected. Please change the shape of y to (n_samples,), for example using ravel().\n",
            "  estimator.fit(X_train, y_train, **fit_params)\n",
            "/usr/local/lib/python3.7/dist-packages/sklearn/model_selection/_validation.py:598: DataConversionWarning: A column-vector y was passed when a 1d array was expected. Please change the shape of y to (n_samples,), for example using ravel().\n",
            "  estimator.fit(X_train, y_train, **fit_params)\n",
            "/usr/local/lib/python3.7/dist-packages/sklearn/model_selection/_validation.py:598: DataConversionWarning: A column-vector y was passed when a 1d array was expected. Please change the shape of y to (n_samples,), for example using ravel().\n",
            "  estimator.fit(X_train, y_train, **fit_params)\n",
            "/usr/local/lib/python3.7/dist-packages/sklearn/model_selection/_validation.py:598: DataConversionWarning: A column-vector y was passed when a 1d array was expected. Please change the shape of y to (n_samples,), for example using ravel().\n",
            "  estimator.fit(X_train, y_train, **fit_params)\n",
            "/usr/local/lib/python3.7/dist-packages/sklearn/model_selection/_search.py:880: DataConversionWarning: A column-vector y was passed when a 1d array was expected. Please change the shape of y to (n_samples,), for example using ravel().\n",
            "  self.best_estimator_.fit(X, y, **fit_params)\n"
          ],
          "name": "stderr"
        },
        {
          "output_type": "stream",
          "text": [
            "0.9331156097644432\n",
            "##############################\n",
            "##############################\n",
            "4\n"
          ],
          "name": "stdout"
        },
        {
          "output_type": "stream",
          "text": [
            "/usr/local/lib/python3.7/dist-packages/sklearn/utils/validation.py:63: DataConversionWarning: A column-vector y was passed when a 1d array was expected. Please change the shape of y to (n_samples, ), for example using ravel().\n",
            "  return f(*args, **kwargs)\n",
            "/usr/local/lib/python3.7/dist-packages/sklearn/model_selection/_validation.py:598: DataConversionWarning: A column-vector y was passed when a 1d array was expected. Please change the shape of y to (n_samples,), for example using ravel().\n",
            "  estimator.fit(X_train, y_train, **fit_params)\n",
            "/usr/local/lib/python3.7/dist-packages/sklearn/model_selection/_validation.py:598: DataConversionWarning: A column-vector y was passed when a 1d array was expected. Please change the shape of y to (n_samples,), for example using ravel().\n",
            "  estimator.fit(X_train, y_train, **fit_params)\n",
            "/usr/local/lib/python3.7/dist-packages/sklearn/model_selection/_validation.py:598: DataConversionWarning: A column-vector y was passed when a 1d array was expected. Please change the shape of y to (n_samples,), for example using ravel().\n",
            "  estimator.fit(X_train, y_train, **fit_params)\n",
            "/usr/local/lib/python3.7/dist-packages/sklearn/model_selection/_validation.py:598: DataConversionWarning: A column-vector y was passed when a 1d array was expected. Please change the shape of y to (n_samples,), for example using ravel().\n",
            "  estimator.fit(X_train, y_train, **fit_params)\n",
            "/usr/local/lib/python3.7/dist-packages/sklearn/model_selection/_validation.py:598: DataConversionWarning: A column-vector y was passed when a 1d array was expected. Please change the shape of y to (n_samples,), for example using ravel().\n",
            "  estimator.fit(X_train, y_train, **fit_params)\n",
            "/usr/local/lib/python3.7/dist-packages/sklearn/model_selection/_search.py:880: DataConversionWarning: A column-vector y was passed when a 1d array was expected. Please change the shape of y to (n_samples,), for example using ravel().\n",
            "  self.best_estimator_.fit(X, y, **fit_params)\n"
          ],
          "name": "stderr"
        },
        {
          "output_type": "stream",
          "text": [
            "0.9709375956946011\n",
            "##############################\n",
            "##############################\n",
            "5\n"
          ],
          "name": "stdout"
        },
        {
          "output_type": "stream",
          "text": [
            "/usr/local/lib/python3.7/dist-packages/sklearn/utils/validation.py:63: DataConversionWarning: A column-vector y was passed when a 1d array was expected. Please change the shape of y to (n_samples, ), for example using ravel().\n",
            "  return f(*args, **kwargs)\n",
            "/usr/local/lib/python3.7/dist-packages/sklearn/model_selection/_validation.py:598: DataConversionWarning: A column-vector y was passed when a 1d array was expected. Please change the shape of y to (n_samples,), for example using ravel().\n",
            "  estimator.fit(X_train, y_train, **fit_params)\n",
            "/usr/local/lib/python3.7/dist-packages/sklearn/model_selection/_validation.py:598: DataConversionWarning: A column-vector y was passed when a 1d array was expected. Please change the shape of y to (n_samples,), for example using ravel().\n",
            "  estimator.fit(X_train, y_train, **fit_params)\n",
            "/usr/local/lib/python3.7/dist-packages/sklearn/model_selection/_validation.py:598: DataConversionWarning: A column-vector y was passed when a 1d array was expected. Please change the shape of y to (n_samples,), for example using ravel().\n",
            "  estimator.fit(X_train, y_train, **fit_params)\n",
            "/usr/local/lib/python3.7/dist-packages/sklearn/model_selection/_validation.py:598: DataConversionWarning: A column-vector y was passed when a 1d array was expected. Please change the shape of y to (n_samples,), for example using ravel().\n",
            "  estimator.fit(X_train, y_train, **fit_params)\n",
            "/usr/local/lib/python3.7/dist-packages/sklearn/model_selection/_validation.py:598: DataConversionWarning: A column-vector y was passed when a 1d array was expected. Please change the shape of y to (n_samples,), for example using ravel().\n",
            "  estimator.fit(X_train, y_train, **fit_params)\n",
            "/usr/local/lib/python3.7/dist-packages/sklearn/model_selection/_search.py:880: DataConversionWarning: A column-vector y was passed when a 1d array was expected. Please change the shape of y to (n_samples,), for example using ravel().\n",
            "  self.best_estimator_.fit(X, y, **fit_params)\n"
          ],
          "name": "stderr"
        },
        {
          "output_type": "stream",
          "text": [
            "0.9918495344433117\n",
            "##############################\n",
            "##############################\n",
            "6\n"
          ],
          "name": "stdout"
        },
        {
          "output_type": "stream",
          "text": [
            "/usr/local/lib/python3.7/dist-packages/sklearn/utils/validation.py:63: DataConversionWarning: A column-vector y was passed when a 1d array was expected. Please change the shape of y to (n_samples, ), for example using ravel().\n",
            "  return f(*args, **kwargs)\n",
            "/usr/local/lib/python3.7/dist-packages/sklearn/model_selection/_validation.py:598: DataConversionWarning: A column-vector y was passed when a 1d array was expected. Please change the shape of y to (n_samples,), for example using ravel().\n",
            "  estimator.fit(X_train, y_train, **fit_params)\n",
            "/usr/local/lib/python3.7/dist-packages/sklearn/model_selection/_validation.py:598: DataConversionWarning: A column-vector y was passed when a 1d array was expected. Please change the shape of y to (n_samples,), for example using ravel().\n",
            "  estimator.fit(X_train, y_train, **fit_params)\n",
            "/usr/local/lib/python3.7/dist-packages/sklearn/model_selection/_validation.py:598: DataConversionWarning: A column-vector y was passed when a 1d array was expected. Please change the shape of y to (n_samples,), for example using ravel().\n",
            "  estimator.fit(X_train, y_train, **fit_params)\n",
            "/usr/local/lib/python3.7/dist-packages/sklearn/model_selection/_validation.py:598: DataConversionWarning: A column-vector y was passed when a 1d array was expected. Please change the shape of y to (n_samples,), for example using ravel().\n",
            "  estimator.fit(X_train, y_train, **fit_params)\n",
            "/usr/local/lib/python3.7/dist-packages/sklearn/model_selection/_validation.py:598: DataConversionWarning: A column-vector y was passed when a 1d array was expected. Please change the shape of y to (n_samples,), for example using ravel().\n",
            "  estimator.fit(X_train, y_train, **fit_params)\n",
            "/usr/local/lib/python3.7/dist-packages/sklearn/model_selection/_search.py:880: DataConversionWarning: A column-vector y was passed when a 1d array was expected. Please change the shape of y to (n_samples,), for example using ravel().\n",
            "  self.best_estimator_.fit(X, y, **fit_params)\n"
          ],
          "name": "stderr"
        },
        {
          "output_type": "stream",
          "text": [
            "0.9987951929242945\n",
            "##############################\n",
            "##############################\n",
            "7\n"
          ],
          "name": "stdout"
        },
        {
          "output_type": "stream",
          "text": [
            "/usr/local/lib/python3.7/dist-packages/sklearn/utils/validation.py:63: DataConversionWarning: A column-vector y was passed when a 1d array was expected. Please change the shape of y to (n_samples, ), for example using ravel().\n",
            "  return f(*args, **kwargs)\n",
            "/usr/local/lib/python3.7/dist-packages/sklearn/model_selection/_validation.py:598: DataConversionWarning: A column-vector y was passed when a 1d array was expected. Please change the shape of y to (n_samples,), for example using ravel().\n",
            "  estimator.fit(X_train, y_train, **fit_params)\n",
            "/usr/local/lib/python3.7/dist-packages/sklearn/model_selection/_validation.py:598: DataConversionWarning: A column-vector y was passed when a 1d array was expected. Please change the shape of y to (n_samples,), for example using ravel().\n",
            "  estimator.fit(X_train, y_train, **fit_params)\n",
            "/usr/local/lib/python3.7/dist-packages/sklearn/model_selection/_validation.py:598: DataConversionWarning: A column-vector y was passed when a 1d array was expected. Please change the shape of y to (n_samples,), for example using ravel().\n",
            "  estimator.fit(X_train, y_train, **fit_params)\n",
            "/usr/local/lib/python3.7/dist-packages/sklearn/model_selection/_validation.py:598: DataConversionWarning: A column-vector y was passed when a 1d array was expected. Please change the shape of y to (n_samples,), for example using ravel().\n",
            "  estimator.fit(X_train, y_train, **fit_params)\n",
            "/usr/local/lib/python3.7/dist-packages/sklearn/model_selection/_validation.py:598: DataConversionWarning: A column-vector y was passed when a 1d array was expected. Please change the shape of y to (n_samples,), for example using ravel().\n",
            "  estimator.fit(X_train, y_train, **fit_params)\n",
            "/usr/local/lib/python3.7/dist-packages/sklearn/model_selection/_search.py:880: DataConversionWarning: A column-vector y was passed when a 1d array was expected. Please change the shape of y to (n_samples,), for example using ravel().\n",
            "  self.best_estimator_.fit(X, y, **fit_params)\n"
          ],
          "name": "stderr"
        },
        {
          "output_type": "stream",
          "text": [
            "0.9999112280356864\n",
            "##############################\n",
            "##############################\n",
            "8\n"
          ],
          "name": "stdout"
        },
        {
          "output_type": "stream",
          "text": [
            "/usr/local/lib/python3.7/dist-packages/sklearn/utils/validation.py:63: DataConversionWarning: A column-vector y was passed when a 1d array was expected. Please change the shape of y to (n_samples, ), for example using ravel().\n",
            "  return f(*args, **kwargs)\n",
            "/usr/local/lib/python3.7/dist-packages/sklearn/model_selection/_validation.py:598: DataConversionWarning: A column-vector y was passed when a 1d array was expected. Please change the shape of y to (n_samples,), for example using ravel().\n",
            "  estimator.fit(X_train, y_train, **fit_params)\n",
            "/usr/local/lib/python3.7/dist-packages/sklearn/model_selection/_validation.py:598: DataConversionWarning: A column-vector y was passed when a 1d array was expected. Please change the shape of y to (n_samples,), for example using ravel().\n",
            "  estimator.fit(X_train, y_train, **fit_params)\n",
            "/usr/local/lib/python3.7/dist-packages/sklearn/model_selection/_validation.py:598: DataConversionWarning: A column-vector y was passed when a 1d array was expected. Please change the shape of y to (n_samples,), for example using ravel().\n",
            "  estimator.fit(X_train, y_train, **fit_params)\n",
            "/usr/local/lib/python3.7/dist-packages/sklearn/model_selection/_validation.py:598: DataConversionWarning: A column-vector y was passed when a 1d array was expected. Please change the shape of y to (n_samples,), for example using ravel().\n",
            "  estimator.fit(X_train, y_train, **fit_params)\n",
            "/usr/local/lib/python3.7/dist-packages/sklearn/model_selection/_validation.py:598: DataConversionWarning: A column-vector y was passed when a 1d array was expected. Please change the shape of y to (n_samples,), for example using ravel().\n",
            "  estimator.fit(X_train, y_train, **fit_params)\n",
            "/usr/local/lib/python3.7/dist-packages/sklearn/model_selection/_search.py:880: DataConversionWarning: A column-vector y was passed when a 1d array was expected. Please change the shape of y to (n_samples,), for example using ravel().\n",
            "  self.best_estimator_.fit(X, y, **fit_params)\n"
          ],
          "name": "stderr"
        },
        {
          "output_type": "stream",
          "text": [
            "0.9999995467686138\n",
            "##############################\n",
            "##############################\n"
          ],
          "name": "stdout"
        },
        {
          "output_type": "display_data",
          "data": {
            "image/png": "[encoded data removed]",
            "text/plain": [
              "<Figure size 432x288 with 1 Axes>"
            ]
          },
          "metadata": {
            "tags": []
          }
        },
        {
          "output_type": "display_data",
          "data": {
            "image/png": "[encoded data removed]",
            "text/plain": [
              "<Figure size 432x288 with 1 Axes>"
            ]
          },
          "metadata": {
            "tags": []
          }
        },
        {
          "output_type": "stream",
          "text": [
            "Error in callback <bound method _WandbInit._pause_backend of <wandb.sdk.wandb_init._WandbInit object at 0x7fb8ac59cfd0>> (for post_run_cell):\n"
          ],
          "name": "stdout"
        },
        {
          "output_type": "error",
          "ename": "Exception",
          "evalue": "ignored",
          "traceback": [
            "\u001b[0;31m---------------------------------------------------------------------------\u001b[0m",
            "\u001b[0;31mException\u001b[0m                                 Traceback (most recent call last)",
            "\u001b[0;32m/usr/local/lib/python3.7/dist-packages/wandb/sdk/wandb_init.py\u001b[0m in \u001b[0;36m_pause_backend\u001b[0;34m(self)\u001b[0m\n\u001b[1;32m    252\u001b[0m                 \u001b[0mres\u001b[0m \u001b[0;34m=\u001b[0m \u001b[0mself\u001b[0m\u001b[0;34m.\u001b[0m\u001b[0mrun\u001b[0m\u001b[0;34m.\u001b[0m\u001b[0mlog_code\u001b[0m\u001b[0;34m(\u001b[0m\u001b[0mroot\u001b[0m\u001b[0;34m=\u001b[0m\u001b[0;32mNone\u001b[0m\u001b[0;34m)\u001b[0m\u001b[0;34m\u001b[0m\u001b[0;34m\u001b[0m\u001b[0m\n\u001b[1;32m    253\u001b[0m                 \u001b[0mlogger\u001b[0m\u001b[0;34m.\u001b[0m\u001b[0minfo\u001b[0m\u001b[0;34m(\u001b[0m\u001b[0;34m\"saved code: %s\"\u001b[0m\u001b[0;34m,\u001b[0m \u001b[0mres\u001b[0m\u001b[0;34m)\u001b[0m\u001b[0;34m\u001b[0m\u001b[0;34m\u001b[0m\u001b[0m\n\u001b[0;32m--> 254\u001b[0;31m             \u001b[0mself\u001b[0m\u001b[0;34m.\u001b[0m\u001b[0mbackend\u001b[0m\u001b[0;34m.\u001b[0m\u001b[0minterface\u001b[0m\u001b[0;34m.\u001b[0m\u001b[0mpublish_pause\u001b[0m\u001b[0;34m(\u001b[0m\u001b[0;34m)\u001b[0m\u001b[0;34m\u001b[0m\u001b[0;34m\u001b[0m\u001b[0m\n\u001b[0m\u001b[1;32m    255\u001b[0m \u001b[0;34m\u001b[0m\u001b[0m\n\u001b[1;32m    256\u001b[0m     \u001b[0;32mdef\u001b[0m \u001b[0m_resume_backend\u001b[0m\u001b[0;34m(\u001b[0m\u001b[0mself\u001b[0m\u001b[0;34m)\u001b[0m\u001b[0;34m:\u001b[0m\u001b[0;34m\u001b[0m\u001b[0;34m\u001b[0m\u001b[0m\n",
            "\u001b[0;32m/usr/local/lib/python3.7/dist-packages/wandb/sdk/interface/interface.py\u001b[0m in \u001b[0;36mpublish_pause\u001b[0;34m(self)\u001b[0m\n\u001b[1;32m    598\u001b[0m         \u001b[0mpause\u001b[0m \u001b[0;34m=\u001b[0m \u001b[0mpb\u001b[0m\u001b[0;34m.\u001b[0m\u001b[0mPauseRequest\u001b[0m\u001b[0;34m(\u001b[0m\u001b[0;34m)\u001b[0m\u001b[0;34m\u001b[0m\u001b[0;34m\u001b[0m\u001b[0m\n\u001b[1;32m    599\u001b[0m         \u001b[0mrec\u001b[0m \u001b[0;34m=\u001b[0m \u001b[0mself\u001b[0m\u001b[0;34m.\u001b[0m\u001b[0m_make_request\u001b[0m\u001b[0;34m(\u001b[0m\u001b[0mpause\u001b[0m\u001b[0;34m=\u001b[0m\u001b[0mpause\u001b[0m\u001b[0;34m)\u001b[0m\u001b[0;34m\u001b[0m\u001b[0;34m\u001b[0m\u001b[0m\n\u001b[0;32m--> 600\u001b[0;31m         \u001b[0mself\u001b[0m\u001b[0;34m.\u001b[0m\u001b[0m_publish\u001b[0m\u001b[0;34m(\u001b[0m\u001b[0mrec\u001b[0m\u001b[0;34m)\u001b[0m\u001b[0;34m\u001b[0m\u001b[0;34m\u001b[0m\u001b[0m\n\u001b[0m\u001b[1;32m    601\u001b[0m \u001b[0;34m\u001b[0m\u001b[0m\n\u001b[1;32m    602\u001b[0m     \u001b[0;32mdef\u001b[0m \u001b[0mpublish_resume\u001b[0m\u001b[0;34m(\u001b[0m\u001b[0mself\u001b[0m\u001b[0;34m)\u001b[0m \u001b[0;34m->\u001b[0m \u001b[0;32mNone\u001b[0m\u001b[0;34m:\u001b[0m\u001b[0;34m\u001b[0m\u001b[0;34m\u001b[0m\u001b[0m\n",
            "\u001b[0;32m/usr/local/lib/python3.7/dist-packages/wandb/sdk/interface/interface.py\u001b[0m in \u001b[0;36m_publish\u001b[0;34m(self, record, local)\u001b[0m\n\u001b[1;32m    534\u001b[0m     \u001b[0;32mdef\u001b[0m \u001b[0m_publish\u001b[0m\u001b[0;34m(\u001b[0m\u001b[0mself\u001b[0m\u001b[0;34m,\u001b[0m \u001b[0mrecord\u001b[0m\u001b[0;34m:\u001b[0m \u001b[0mpb\u001b[0m\u001b[0;34m.\u001b[0m\u001b[0mRecord\u001b[0m\u001b[0;34m,\u001b[0m \u001b[0mlocal\u001b[0m\u001b[0;34m:\u001b[0m \u001b[0mbool\u001b[0m \u001b[0;34m=\u001b[0m \u001b[0;32mNone\u001b[0m\u001b[0;34m)\u001b[0m \u001b[0;34m->\u001b[0m \u001b[0;32mNone\u001b[0m\u001b[0;34m:\u001b[0m\u001b[0;34m\u001b[0m\u001b[0;34m\u001b[0m\u001b[0m\n\u001b[1;32m    535\u001b[0m         \u001b[0;32mif\u001b[0m \u001b[0mself\u001b[0m\u001b[0;34m.\u001b[0m\u001b[0m_process\u001b[0m \u001b[0;32mand\u001b[0m \u001b[0;32mnot\u001b[0m \u001b[0mself\u001b[0m\u001b[0;34m.\u001b[0m\u001b[0m_process\u001b[0m\u001b[0;34m.\u001b[0m\u001b[0mis_alive\u001b[0m\u001b[0;34m(\u001b[0m\u001b[0;34m)\u001b[0m\u001b[0;34m:\u001b[0m\u001b[0;34m\u001b[0m\u001b[0;34m\u001b[0m\u001b[0m\n\u001b[0;32m--> 536\u001b[0;31m             \u001b[0;32mraise\u001b[0m \u001b[0mException\u001b[0m\u001b[0;34m(\u001b[0m\u001b[0;34m\"The wandb backend process has shutdown\"\u001b[0m\u001b[0;34m)\u001b[0m\u001b[0;34m\u001b[0m\u001b[0;34m\u001b[0m\u001b[0m\n\u001b[0m\u001b[1;32m    537\u001b[0m         \u001b[0;32mif\u001b[0m \u001b[0mlocal\u001b[0m\u001b[0;34m:\u001b[0m\u001b[0;34m\u001b[0m\u001b[0;34m\u001b[0m\u001b[0m\n\u001b[1;32m    538\u001b[0m             \u001b[0mrecord\u001b[0m\u001b[0;34m.\u001b[0m\u001b[0mcontrol\u001b[0m\u001b[0;34m.\u001b[0m\u001b[0mlocal\u001b[0m \u001b[0;34m=\u001b[0m \u001b[0mlocal\u001b[0m\u001b[0;34m\u001b[0m\u001b[0;34m\u001b[0m\u001b[0m\n",
            "\u001b[0;31mException\u001b[0m: The wandb backend process has shutdown"
          ]
        }
      ]
    },
    {
      "cell_type": "markdown",
      "metadata": {
        "id": "D0Jql1K5l5cW"
      },
      "source": [
        "KMeans"
      ]
    },
    {
      "cell_type": "code",
      "metadata": {
        "id": "KVFQPiH5l66O",
        "colab": {
          "base_uri": "https://localhost:8080/",
          "height": 1000
        },
        "outputId": "4208a0b6-31dd-4e22-9356-3683ef8dfa6c"
      },
      "source": [
        "scoreridge = []\n",
        "scoreNu = []\n",
        "rf = RandomForestRegressor()\n",
        "param_grid = {'n_estimators': [47],\n",
        "              \"max_depth\": [6],\n",
        "              \"max_features\" : ['auto'],\n",
        "              \"min_samples_split\" : [15],\n",
        "              \"min_samples_leaf\" : [13]}\n",
        "\n",
        "\n",
        "search = HalvingGridSearchCV(rf, param_grid, random_state=42)\n",
        "scorerf = []\n",
        "for i in range(1,9) :\n",
        "  print(i)\n",
        "  j = i * 10\n",
        "  X_new = SelectKBest(mutual_info_regression, k=j).fit_transform(the_real_one, y_full)\n",
        "  print(X_new)\n",
        "  X_train, X_test, y_train, y_test = train_test_split(X_new, y_full, test_size=0.25, random_state=22)\n",
        "  rr = Ridge(alpha=0.0001)\n",
        "  rr.fit(X_train, y_train) \n",
        "  CC = rr.predict(X_test)\n",
        "  CC\n",
        "  y_true = y_test['score'].tolist()\n",
        "  scoreridge.append(r2_score(y_true, CC))\n",
        "\n",
        "  reg = NuSVR()\n",
        "  reg.fit(X_train, y_train)\n",
        "  CC = reg.predict(X_test)\n",
        "  CC\n",
        "  y_true = y_test['score'].tolist()\n",
        "  scoreNu.append(r2_score(y_true, CC))\n",
        "\n",
        "  search.fit(X_train, y_train)\n",
        "  CC = search.predict(X_test)\n",
        "  CC\n",
        "  y_true = y_test['score'].tolist()\n",
        "  scorerf.append(r2_score(y_true, CC))\n",
        "  #print(r2_score(y_true, CC))\n",
        "  \n",
        "  print(r2_score(y_true, CC))\n",
        "  print(\"##############################\")\n",
        "  print(\"##############################\")\n",
        "\n",
        "\n",
        "plt.figure(0)\n",
        "sns.set()\n",
        "plt.title(\"Kbest Features and R^2 Score\")\n",
        "plt.xlabel(\"Number of Features X10\")\n",
        "plt.ylabel(\"R^2 Score\")\n",
        "plt.plot(range(1, 9), scoreridge)\n",
        "plt.plot(range(1, 9), scoreNu)\n",
        "plt.plot(range(1, 9), scorerf)\n",
        "plt.legend(['Ridge', 'NuSVR', 'RandomForest'])\n",
        "plt.savefig('KbestVSmodels.png')"
      ],
      "execution_count": null,
      "outputs": [
        {
          "output_type": "stream",
          "text": [
            "1\n"
          ],
          "name": "stdout"
        },
        {
          "output_type": "stream",
          "text": [
            "/usr/local/lib/python3.7/dist-packages/sklearn/utils/validation.py:63: DataConversionWarning: A column-vector y was passed when a 1d array was expected. Please change the shape of y to (n_samples, ), for example using ravel().\n",
            "  return f(*args, **kwargs)\n"
          ],
          "name": "stderr"
        },
        {
          "output_type": "stream",
          "text": [
            "[[2.50000000e+01 1.00000000e+00 0.00000000e+00 ... 1.80000000e+01\n",
            "  6.28971557e+00 6.28971557e+00]\n",
            " [6.90000000e+01 1.00000000e+00 3.64963504e-03 ... 6.90000000e+01\n",
            "  1.19905686e+01 1.19905686e+01]\n",
            " [4.40000000e+01 1.00000000e+00 7.29927007e-02 ... 5.00000000e+01\n",
            "  9.70832389e+00 9.70832389e+00]\n",
            " ...\n",
            " [5.70000000e+01 6.61538462e-01 3.72262774e-01 ... 5.60000000e+01\n",
            "  1.22798899e+01 1.22798899e+01]\n",
            " [5.00000000e+00 6.61538462e-01 1.09489051e-02 ... 1.70000000e+01\n",
            "  7.82003799e+00 7.82003799e+00]\n",
            " [3.80000000e+01 6.61538462e-01 1.00000000e+00 ... 4.40000000e+01\n",
            "  1.13092781e+01 1.13092781e+01]]\n"
          ],
          "name": "stdout"
        },
        {
          "output_type": "stream",
          "text": [
            "/usr/local/lib/python3.7/dist-packages/sklearn/utils/validation.py:63: DataConversionWarning: A column-vector y was passed when a 1d array was expected. Please change the shape of y to (n_samples, ), for example using ravel().\n",
            "  return f(*args, **kwargs)\n",
            "/usr/local/lib/python3.7/dist-packages/sklearn/model_selection/_validation.py:598: DataConversionWarning: A column-vector y was passed when a 1d array was expected. Please change the shape of y to (n_samples,), for example using ravel().\n",
            "  estimator.fit(X_train, y_train, **fit_params)\n",
            "/usr/local/lib/python3.7/dist-packages/sklearn/model_selection/_validation.py:598: DataConversionWarning: A column-vector y was passed when a 1d array was expected. Please change the shape of y to (n_samples,), for example using ravel().\n",
            "  estimator.fit(X_train, y_train, **fit_params)\n",
            "/usr/local/lib/python3.7/dist-packages/sklearn/model_selection/_validation.py:598: DataConversionWarning: A column-vector y was passed when a 1d array was expected. Please change the shape of y to (n_samples,), for example using ravel().\n",
            "  estimator.fit(X_train, y_train, **fit_params)\n",
            "/usr/local/lib/python3.7/dist-packages/sklearn/model_selection/_validation.py:598: DataConversionWarning: A column-vector y was passed when a 1d array was expected. Please change the shape of y to (n_samples,), for example using ravel().\n",
            "  estimator.fit(X_train, y_train, **fit_params)\n",
            "/usr/local/lib/python3.7/dist-packages/sklearn/model_selection/_validation.py:598: DataConversionWarning: A column-vector y was passed when a 1d array was expected. Please change the shape of y to (n_samples,), for example using ravel().\n",
            "  estimator.fit(X_train, y_train, **fit_params)\n",
            "/usr/local/lib/python3.7/dist-packages/sklearn/model_selection/_search.py:880: DataConversionWarning: A column-vector y was passed when a 1d array was expected. Please change the shape of y to (n_samples,), for example using ravel().\n",
            "  self.best_estimator_.fit(X, y, **fit_params)\n"
          ],
          "name": "stderr"
        },
        {
          "output_type": "stream",
          "text": [
            "0.08808753389746049\n",
            "##############################\n",
            "##############################\n",
            "2\n"
          ],
          "name": "stdout"
        },
        {
          "output_type": "stream",
          "text": [
            "/usr/local/lib/python3.7/dist-packages/sklearn/utils/validation.py:63: DataConversionWarning: A column-vector y was passed when a 1d array was expected. Please change the shape of y to (n_samples, ), for example using ravel().\n",
            "  return f(*args, **kwargs)\n"
          ],
          "name": "stderr"
        },
        {
          "output_type": "stream",
          "text": [
            "[[2.50000000e+01 5.04481193e-02 1.00000000e+00 ... 1.80000000e+01\n",
            "  6.28971557e+00 6.28971557e+00]\n",
            " [6.90000000e+01 7.35041134e-02 1.00000000e+00 ... 6.90000000e+01\n",
            "  1.19905686e+01 1.19905686e+01]\n",
            " [4.40000000e+01 3.10125109e-01 1.00000000e+00 ... 5.00000000e+01\n",
            "  9.70832389e+00 9.70832389e+00]\n",
            " ...\n",
            " [5.70000000e+01 6.39826686e-02 6.61538462e-01 ... 5.60000000e+01\n",
            "  1.22798899e+01 1.22798899e+01]\n",
            " [5.00000000e+00 6.07860639e-02 6.61538462e-01 ... 1.70000000e+01\n",
            "  7.82003799e+00 7.82003799e+00]\n",
            " [3.80000000e+01 6.63028010e-02 6.61538462e-01 ... 4.40000000e+01\n",
            "  1.13092781e+01 1.13092781e+01]]\n"
          ],
          "name": "stdout"
        },
        {
          "output_type": "stream",
          "text": [
            "/usr/local/lib/python3.7/dist-packages/sklearn/utils/validation.py:63: DataConversionWarning: A column-vector y was passed when a 1d array was expected. Please change the shape of y to (n_samples, ), for example using ravel().\n",
            "  return f(*args, **kwargs)\n",
            "/usr/local/lib/python3.7/dist-packages/sklearn/model_selection/_validation.py:598: DataConversionWarning: A column-vector y was passed when a 1d array was expected. Please change the shape of y to (n_samples,), for example using ravel().\n",
            "  estimator.fit(X_train, y_train, **fit_params)\n",
            "/usr/local/lib/python3.7/dist-packages/sklearn/model_selection/_validation.py:598: DataConversionWarning: A column-vector y was passed when a 1d array was expected. Please change the shape of y to (n_samples,), for example using ravel().\n",
            "  estimator.fit(X_train, y_train, **fit_params)\n",
            "/usr/local/lib/python3.7/dist-packages/sklearn/model_selection/_validation.py:598: DataConversionWarning: A column-vector y was passed when a 1d array was expected. Please change the shape of y to (n_samples,), for example using ravel().\n",
            "  estimator.fit(X_train, y_train, **fit_params)\n",
            "/usr/local/lib/python3.7/dist-packages/sklearn/model_selection/_validation.py:598: DataConversionWarning: A column-vector y was passed when a 1d array was expected. Please change the shape of y to (n_samples,), for example using ravel().\n",
            "  estimator.fit(X_train, y_train, **fit_params)\n",
            "/usr/local/lib/python3.7/dist-packages/sklearn/model_selection/_validation.py:598: DataConversionWarning: A column-vector y was passed when a 1d array was expected. Please change the shape of y to (n_samples,), for example using ravel().\n",
            "  estimator.fit(X_train, y_train, **fit_params)\n",
            "/usr/local/lib/python3.7/dist-packages/sklearn/model_selection/_search.py:880: DataConversionWarning: A column-vector y was passed when a 1d array was expected. Please change the shape of y to (n_samples,), for example using ravel().\n",
            "  self.best_estimator_.fit(X, y, **fit_params)\n"
          ],
          "name": "stderr"
        },
        {
          "output_type": "stream",
          "text": [
            "0.10077796244837078\n",
            "##############################\n",
            "##############################\n",
            "3\n"
          ],
          "name": "stdout"
        },
        {
          "output_type": "stream",
          "text": [
            "/usr/local/lib/python3.7/dist-packages/sklearn/utils/validation.py:63: DataConversionWarning: A column-vector y was passed when a 1d array was expected. Please change the shape of y to (n_samples, ), for example using ravel().\n",
            "  return f(*args, **kwargs)\n"
          ],
          "name": "stderr"
        },
        {
          "output_type": "stream",
          "text": [
            "[[2.50000000e+01 3.73831776e-02 5.04481193e-02 ... 0.00000000e+00\n",
            "  0.00000000e+00 1.00000000e+01]\n",
            " [6.90000000e+01 7.00934579e-02 7.35041134e-02 ... 0.00000000e+00\n",
            "  0.00000000e+00 0.00000000e+00]\n",
            " [4.40000000e+01 2.33644860e-01 3.10125109e-01 ... 1.92307692e+00\n",
            "  3.84615385e+00 1.92307692e+00]\n",
            " ...\n",
            " [5.70000000e+01 3.73831776e-02 6.39826686e-02 ... 2.00000000e+01\n",
            "  1.00000000e+01 0.00000000e+00]\n",
            " [5.00000000e+00 4.67289720e-02 6.07860639e-02 ... 0.00000000e+00\n",
            "  8.33333333e+00 0.00000000e+00]\n",
            " [3.80000000e+01 6.07476636e-02 6.63028010e-02 ... 2.00000000e+01\n",
            "  6.66666667e+00 0.00000000e+00]]\n"
          ],
          "name": "stdout"
        },
        {
          "output_type": "stream",
          "text": [
            "/usr/local/lib/python3.7/dist-packages/sklearn/utils/validation.py:63: DataConversionWarning: A column-vector y was passed when a 1d array was expected. Please change the shape of y to (n_samples, ), for example using ravel().\n",
            "  return f(*args, **kwargs)\n",
            "/usr/local/lib/python3.7/dist-packages/sklearn/model_selection/_validation.py:598: DataConversionWarning: A column-vector y was passed when a 1d array was expected. Please change the shape of y to (n_samples,), for example using ravel().\n",
            "  estimator.fit(X_train, y_train, **fit_params)\n",
            "/usr/local/lib/python3.7/dist-packages/sklearn/model_selection/_validation.py:598: DataConversionWarning: A column-vector y was passed when a 1d array was expected. Please change the shape of y to (n_samples,), for example using ravel().\n",
            "  estimator.fit(X_train, y_train, **fit_params)\n",
            "/usr/local/lib/python3.7/dist-packages/sklearn/model_selection/_validation.py:598: DataConversionWarning: A column-vector y was passed when a 1d array was expected. Please change the shape of y to (n_samples,), for example using ravel().\n",
            "  estimator.fit(X_train, y_train, **fit_params)\n",
            "/usr/local/lib/python3.7/dist-packages/sklearn/model_selection/_validation.py:598: DataConversionWarning: A column-vector y was passed when a 1d array was expected. Please change the shape of y to (n_samples,), for example using ravel().\n",
            "  estimator.fit(X_train, y_train, **fit_params)\n",
            "/usr/local/lib/python3.7/dist-packages/sklearn/model_selection/_validation.py:598: DataConversionWarning: A column-vector y was passed when a 1d array was expected. Please change the shape of y to (n_samples,), for example using ravel().\n",
            "  estimator.fit(X_train, y_train, **fit_params)\n",
            "/usr/local/lib/python3.7/dist-packages/sklearn/model_selection/_search.py:880: DataConversionWarning: A column-vector y was passed when a 1d array was expected. Please change the shape of y to (n_samples,), for example using ravel().\n",
            "  self.best_estimator_.fit(X, y, **fit_params)\n"
          ],
          "name": "stderr"
        },
        {
          "output_type": "stream",
          "text": [
            "0.10104303829806194\n",
            "##############################\n",
            "##############################\n",
            "4\n"
          ],
          "name": "stdout"
        },
        {
          "output_type": "stream",
          "text": [
            "/usr/local/lib/python3.7/dist-packages/sklearn/utils/validation.py:63: DataConversionWarning: A column-vector y was passed when a 1d array was expected. Please change the shape of y to (n_samples, ), for example using ravel().\n",
            "  return f(*args, **kwargs)\n"
          ],
          "name": "stderr"
        },
        {
          "output_type": "stream",
          "text": [
            "[[2.50000000e+01 3.73831776e-02 5.04481193e-02 ... 0.00000000e+00\n",
            "  1.00000000e+01 0.00000000e+00]\n",
            " [6.90000000e+01 7.00934579e-02 7.35041134e-02 ... 0.00000000e+00\n",
            "  0.00000000e+00 0.00000000e+00]\n",
            " [4.40000000e+01 2.33644860e-01 3.10125109e-01 ... 3.84615385e+00\n",
            "  1.92307692e+00 9.61538462e+00]\n",
            " ...\n",
            " [5.70000000e+01 3.73831776e-02 6.39826686e-02 ... 1.00000000e+01\n",
            "  0.00000000e+00 0.00000000e+00]\n",
            " [5.00000000e+00 4.67289720e-02 6.07860639e-02 ... 8.33333333e+00\n",
            "  0.00000000e+00 0.00000000e+00]\n",
            " [3.80000000e+01 6.07476636e-02 6.63028010e-02 ... 6.66666667e+00\n",
            "  0.00000000e+00 0.00000000e+00]]\n"
          ],
          "name": "stdout"
        },
        {
          "output_type": "stream",
          "text": [
            "/usr/local/lib/python3.7/dist-packages/sklearn/utils/validation.py:63: DataConversionWarning: A column-vector y was passed when a 1d array was expected. Please change the shape of y to (n_samples, ), for example using ravel().\n",
            "  return f(*args, **kwargs)\n",
            "/usr/local/lib/python3.7/dist-packages/sklearn/model_selection/_validation.py:598: DataConversionWarning: A column-vector y was passed when a 1d array was expected. Please change the shape of y to (n_samples,), for example using ravel().\n",
            "  estimator.fit(X_train, y_train, **fit_params)\n",
            "/usr/local/lib/python3.7/dist-packages/sklearn/model_selection/_validation.py:598: DataConversionWarning: A column-vector y was passed when a 1d array was expected. Please change the shape of y to (n_samples,), for example using ravel().\n",
            "  estimator.fit(X_train, y_train, **fit_params)\n",
            "/usr/local/lib/python3.7/dist-packages/sklearn/model_selection/_validation.py:598: DataConversionWarning: A column-vector y was passed when a 1d array was expected. Please change the shape of y to (n_samples,), for example using ravel().\n",
            "  estimator.fit(X_train, y_train, **fit_params)\n",
            "/usr/local/lib/python3.7/dist-packages/sklearn/model_selection/_validation.py:598: DataConversionWarning: A column-vector y was passed when a 1d array was expected. Please change the shape of y to (n_samples,), for example using ravel().\n",
            "  estimator.fit(X_train, y_train, **fit_params)\n",
            "/usr/local/lib/python3.7/dist-packages/sklearn/model_selection/_validation.py:598: DataConversionWarning: A column-vector y was passed when a 1d array was expected. Please change the shape of y to (n_samples,), for example using ravel().\n",
            "  estimator.fit(X_train, y_train, **fit_params)\n",
            "/usr/local/lib/python3.7/dist-packages/sklearn/model_selection/_search.py:880: DataConversionWarning: A column-vector y was passed when a 1d array was expected. Please change the shape of y to (n_samples,), for example using ravel().\n",
            "  self.best_estimator_.fit(X, y, **fit_params)\n"
          ],
          "name": "stderr"
        },
        {
          "output_type": "stream",
          "text": [
            "0.10092550304473702\n",
            "##############################\n",
            "##############################\n",
            "5\n"
          ],
          "name": "stdout"
        },
        {
          "output_type": "stream",
          "text": [
            "/usr/local/lib/python3.7/dist-packages/sklearn/utils/validation.py:63: DataConversionWarning: A column-vector y was passed when a 1d array was expected. Please change the shape of y to (n_samples, ), for example using ravel().\n",
            "  return f(*args, **kwargs)\n"
          ],
          "name": "stderr"
        },
        {
          "output_type": "stream",
          "text": [
            "[[2.50000000e+01 3.73831776e-02 5.04481193e-02 ... 0.00000000e+00\n",
            "  0.00000000e+00 1.00000000e+01]\n",
            " [6.90000000e+01 7.00934579e-02 7.35041134e-02 ... 0.00000000e+00\n",
            "  0.00000000e+00 0.00000000e+00]\n",
            " [4.40000000e+01 2.33644860e-01 3.10125109e-01 ... 1.92307692e+00\n",
            "  3.84615385e+00 1.92307692e+00]\n",
            " ...\n",
            " [5.70000000e+01 3.73831776e-02 6.39826686e-02 ... 2.00000000e+01\n",
            "  1.00000000e+01 0.00000000e+00]\n",
            " [5.00000000e+00 4.67289720e-02 6.07860639e-02 ... 0.00000000e+00\n",
            "  8.33333333e+00 0.00000000e+00]\n",
            " [3.80000000e+01 6.07476636e-02 6.63028010e-02 ... 2.00000000e+01\n",
            "  6.66666667e+00 0.00000000e+00]]\n"
          ],
          "name": "stdout"
        },
        {
          "output_type": "stream",
          "text": [
            "/usr/local/lib/python3.7/dist-packages/sklearn/utils/validation.py:63: DataConversionWarning: A column-vector y was passed when a 1d array was expected. Please change the shape of y to (n_samples, ), for example using ravel().\n",
            "  return f(*args, **kwargs)\n",
            "/usr/local/lib/python3.7/dist-packages/sklearn/model_selection/_validation.py:598: DataConversionWarning: A column-vector y was passed when a 1d array was expected. Please change the shape of y to (n_samples,), for example using ravel().\n",
            "  estimator.fit(X_train, y_train, **fit_params)\n",
            "/usr/local/lib/python3.7/dist-packages/sklearn/model_selection/_validation.py:598: DataConversionWarning: A column-vector y was passed when a 1d array was expected. Please change the shape of y to (n_samples,), for example using ravel().\n",
            "  estimator.fit(X_train, y_train, **fit_params)\n",
            "/usr/local/lib/python3.7/dist-packages/sklearn/model_selection/_validation.py:598: DataConversionWarning: A column-vector y was passed when a 1d array was expected. Please change the shape of y to (n_samples,), for example using ravel().\n",
            "  estimator.fit(X_train, y_train, **fit_params)\n",
            "/usr/local/lib/python3.7/dist-packages/sklearn/model_selection/_validation.py:598: DataConversionWarning: A column-vector y was passed when a 1d array was expected. Please change the shape of y to (n_samples,), for example using ravel().\n",
            "  estimator.fit(X_train, y_train, **fit_params)\n",
            "/usr/local/lib/python3.7/dist-packages/sklearn/model_selection/_validation.py:598: DataConversionWarning: A column-vector y was passed when a 1d array was expected. Please change the shape of y to (n_samples,), for example using ravel().\n",
            "  estimator.fit(X_train, y_train, **fit_params)\n",
            "/usr/local/lib/python3.7/dist-packages/sklearn/model_selection/_search.py:880: DataConversionWarning: A column-vector y was passed when a 1d array was expected. Please change the shape of y to (n_samples,), for example using ravel().\n",
            "  self.best_estimator_.fit(X, y, **fit_params)\n"
          ],
          "name": "stderr"
        },
        {
          "output_type": "stream",
          "text": [
            "0.10166840234650709\n",
            "##############################\n",
            "##############################\n",
            "6\n"
          ],
          "name": "stdout"
        },
        {
          "output_type": "stream",
          "text": [
            "/usr/local/lib/python3.7/dist-packages/sklearn/utils/validation.py:63: DataConversionWarning: A column-vector y was passed when a 1d array was expected. Please change the shape of y to (n_samples, ), for example using ravel().\n",
            "  return f(*args, **kwargs)\n"
          ],
          "name": "stderr"
        },
        {
          "output_type": "stream",
          "text": [
            "[[2.50000000e+01 3.73831776e-02 5.04481193e-02 ... 0.00000000e+00\n",
            "  1.00000000e+01 0.00000000e+00]\n",
            " [6.90000000e+01 7.00934579e-02 7.35041134e-02 ... 0.00000000e+00\n",
            "  0.00000000e+00 0.00000000e+00]\n",
            " [4.40000000e+01 2.33644860e-01 3.10125109e-01 ... 3.84615385e+00\n",
            "  1.92307692e+00 9.61538462e+00]\n",
            " ...\n",
            " [5.70000000e+01 3.73831776e-02 6.39826686e-02 ... 1.00000000e+01\n",
            "  0.00000000e+00 0.00000000e+00]\n",
            " [5.00000000e+00 4.67289720e-02 6.07860639e-02 ... 8.33333333e+00\n",
            "  0.00000000e+00 0.00000000e+00]\n",
            " [3.80000000e+01 6.07476636e-02 6.63028010e-02 ... 6.66666667e+00\n",
            "  0.00000000e+00 0.00000000e+00]]\n"
          ],
          "name": "stdout"
        },
        {
          "output_type": "stream",
          "text": [
            "/usr/local/lib/python3.7/dist-packages/sklearn/utils/validation.py:63: DataConversionWarning: A column-vector y was passed when a 1d array was expected. Please change the shape of y to (n_samples, ), for example using ravel().\n",
            "  return f(*args, **kwargs)\n",
            "/usr/local/lib/python3.7/dist-packages/sklearn/model_selection/_validation.py:598: DataConversionWarning: A column-vector y was passed when a 1d array was expected. Please change the shape of y to (n_samples,), for example using ravel().\n",
            "  estimator.fit(X_train, y_train, **fit_params)\n",
            "/usr/local/lib/python3.7/dist-packages/sklearn/model_selection/_validation.py:598: DataConversionWarning: A column-vector y was passed when a 1d array was expected. Please change the shape of y to (n_samples,), for example using ravel().\n",
            "  estimator.fit(X_train, y_train, **fit_params)\n",
            "/usr/local/lib/python3.7/dist-packages/sklearn/model_selection/_validation.py:598: DataConversionWarning: A column-vector y was passed when a 1d array was expected. Please change the shape of y to (n_samples,), for example using ravel().\n",
            "  estimator.fit(X_train, y_train, **fit_params)\n",
            "/usr/local/lib/python3.7/dist-packages/sklearn/model_selection/_validation.py:598: DataConversionWarning: A column-vector y was passed when a 1d array was expected. Please change the shape of y to (n_samples,), for example using ravel().\n",
            "  estimator.fit(X_train, y_train, **fit_params)\n",
            "/usr/local/lib/python3.7/dist-packages/sklearn/model_selection/_validation.py:598: DataConversionWarning: A column-vector y was passed when a 1d array was expected. Please change the shape of y to (n_samples,), for example using ravel().\n",
            "  estimator.fit(X_train, y_train, **fit_params)\n",
            "/usr/local/lib/python3.7/dist-packages/sklearn/model_selection/_search.py:880: DataConversionWarning: A column-vector y was passed when a 1d array was expected. Please change the shape of y to (n_samples,), for example using ravel().\n",
            "  self.best_estimator_.fit(X, y, **fit_params)\n"
          ],
          "name": "stderr"
        },
        {
          "output_type": "stream",
          "text": [
            "0.10521481430485224\n",
            "##############################\n",
            "##############################\n",
            "7\n"
          ],
          "name": "stdout"
        },
        {
          "output_type": "stream",
          "text": [
            "/usr/local/lib/python3.7/dist-packages/sklearn/utils/validation.py:63: DataConversionWarning: A column-vector y was passed when a 1d array was expected. Please change the shape of y to (n_samples, ), for example using ravel().\n",
            "  return f(*args, **kwargs)\n"
          ],
          "name": "stderr"
        },
        {
          "output_type": "stream",
          "text": [
            "[[2.50000000e+01 3.73831776e-02 5.04481193e-02 ... 0.00000000e+00\n",
            "  1.00000000e+01 0.00000000e+00]\n",
            " [6.90000000e+01 7.00934579e-02 7.35041134e-02 ... 0.00000000e+00\n",
            "  0.00000000e+00 0.00000000e+00]\n",
            " [4.40000000e+01 2.33644860e-01 3.10125109e-01 ... 7.69230769e+00\n",
            "  1.92307692e+00 9.61538462e+00]\n",
            " ...\n",
            " [5.70000000e+01 3.73831776e-02 6.39826686e-02 ... 0.00000000e+00\n",
            "  0.00000000e+00 0.00000000e+00]\n",
            " [5.00000000e+00 4.67289720e-02 6.07860639e-02 ... 1.66666667e+01\n",
            "  0.00000000e+00 0.00000000e+00]\n",
            " [3.80000000e+01 6.07476636e-02 6.63028010e-02 ... 1.33333333e+01\n",
            "  0.00000000e+00 0.00000000e+00]]\n"
          ],
          "name": "stdout"
        },
        {
          "output_type": "stream",
          "text": [
            "/usr/local/lib/python3.7/dist-packages/sklearn/utils/validation.py:63: DataConversionWarning: A column-vector y was passed when a 1d array was expected. Please change the shape of y to (n_samples, ), for example using ravel().\n",
            "  return f(*args, **kwargs)\n",
            "/usr/local/lib/python3.7/dist-packages/sklearn/model_selection/_validation.py:598: DataConversionWarning: A column-vector y was passed when a 1d array was expected. Please change the shape of y to (n_samples,), for example using ravel().\n",
            "  estimator.fit(X_train, y_train, **fit_params)\n",
            "/usr/local/lib/python3.7/dist-packages/sklearn/model_selection/_validation.py:598: DataConversionWarning: A column-vector y was passed when a 1d array was expected. Please change the shape of y to (n_samples,), for example using ravel().\n",
            "  estimator.fit(X_train, y_train, **fit_params)\n",
            "/usr/local/lib/python3.7/dist-packages/sklearn/model_selection/_validation.py:598: DataConversionWarning: A column-vector y was passed when a 1d array was expected. Please change the shape of y to (n_samples,), for example using ravel().\n",
            "  estimator.fit(X_train, y_train, **fit_params)\n",
            "/usr/local/lib/python3.7/dist-packages/sklearn/model_selection/_validation.py:598: DataConversionWarning: A column-vector y was passed when a 1d array was expected. Please change the shape of y to (n_samples,), for example using ravel().\n",
            "  estimator.fit(X_train, y_train, **fit_params)\n",
            "/usr/local/lib/python3.7/dist-packages/sklearn/model_selection/_validation.py:598: DataConversionWarning: A column-vector y was passed when a 1d array was expected. Please change the shape of y to (n_samples,), for example using ravel().\n",
            "  estimator.fit(X_train, y_train, **fit_params)\n",
            "/usr/local/lib/python3.7/dist-packages/sklearn/model_selection/_search.py:880: DataConversionWarning: A column-vector y was passed when a 1d array was expected. Please change the shape of y to (n_samples,), for example using ravel().\n",
            "  self.best_estimator_.fit(X, y, **fit_params)\n"
          ],
          "name": "stderr"
        },
        {
          "output_type": "stream",
          "text": [
            "0.10419980448106259\n",
            "##############################\n",
            "##############################\n",
            "8\n"
          ],
          "name": "stdout"
        },
        {
          "output_type": "stream",
          "text": [
            "/usr/local/lib/python3.7/dist-packages/sklearn/utils/validation.py:63: DataConversionWarning: A column-vector y was passed when a 1d array was expected. Please change the shape of y to (n_samples, ), for example using ravel().\n",
            "  return f(*args, **kwargs)\n"
          ],
          "name": "stderr"
        },
        {
          "output_type": "stream",
          "text": [
            "[[2.50000000e+01 3.73831776e-02 5.04481193e-02 ... 0.00000000e+00\n",
            "  1.00000000e+01 0.00000000e+00]\n",
            " [6.90000000e+01 7.00934579e-02 7.35041134e-02 ... 0.00000000e+00\n",
            "  0.00000000e+00 0.00000000e+00]\n",
            " [4.40000000e+01 2.33644860e-01 3.10125109e-01 ... 3.84615385e+00\n",
            "  1.92307692e+00 9.61538462e+00]\n",
            " ...\n",
            " [5.70000000e+01 3.73831776e-02 6.39826686e-02 ... 1.00000000e+01\n",
            "  0.00000000e+00 0.00000000e+00]\n",
            " [5.00000000e+00 4.67289720e-02 6.07860639e-02 ... 8.33333333e+00\n",
            "  0.00000000e+00 0.00000000e+00]\n",
            " [3.80000000e+01 6.07476636e-02 6.63028010e-02 ... 6.66666667e+00\n",
            "  0.00000000e+00 0.00000000e+00]]\n"
          ],
          "name": "stdout"
        },
        {
          "output_type": "stream",
          "text": [
            "/usr/local/lib/python3.7/dist-packages/sklearn/utils/validation.py:63: DataConversionWarning: A column-vector y was passed when a 1d array was expected. Please change the shape of y to (n_samples, ), for example using ravel().\n",
            "  return f(*args, **kwargs)\n",
            "/usr/local/lib/python3.7/dist-packages/sklearn/model_selection/_validation.py:598: DataConversionWarning: A column-vector y was passed when a 1d array was expected. Please change the shape of y to (n_samples,), for example using ravel().\n",
            "  estimator.fit(X_train, y_train, **fit_params)\n",
            "/usr/local/lib/python3.7/dist-packages/sklearn/model_selection/_validation.py:598: DataConversionWarning: A column-vector y was passed when a 1d array was expected. Please change the shape of y to (n_samples,), for example using ravel().\n",
            "  estimator.fit(X_train, y_train, **fit_params)\n",
            "/usr/local/lib/python3.7/dist-packages/sklearn/model_selection/_validation.py:598: DataConversionWarning: A column-vector y was passed when a 1d array was expected. Please change the shape of y to (n_samples,), for example using ravel().\n",
            "  estimator.fit(X_train, y_train, **fit_params)\n",
            "/usr/local/lib/python3.7/dist-packages/sklearn/model_selection/_validation.py:598: DataConversionWarning: A column-vector y was passed when a 1d array was expected. Please change the shape of y to (n_samples,), for example using ravel().\n",
            "  estimator.fit(X_train, y_train, **fit_params)\n",
            "/usr/local/lib/python3.7/dist-packages/sklearn/model_selection/_validation.py:598: DataConversionWarning: A column-vector y was passed when a 1d array was expected. Please change the shape of y to (n_samples,), for example using ravel().\n",
            "  estimator.fit(X_train, y_train, **fit_params)\n",
            "/usr/local/lib/python3.7/dist-packages/sklearn/model_selection/_search.py:880: DataConversionWarning: A column-vector y was passed when a 1d array was expected. Please change the shape of y to (n_samples,), for example using ravel().\n",
            "  self.best_estimator_.fit(X, y, **fit_params)\n"
          ],
          "name": "stderr"
        },
        {
          "output_type": "stream",
          "text": [
            "0.10058469169333817\n",
            "##############################\n",
            "##############################\n"
          ],
          "name": "stdout"
        },
        {
          "output_type": "display_data",
          "data": {
            "image/png": "[encoded data removed]",
            "text/plain": [
              "<Figure size 432x288 with 1 Axes>"
            ]
          },
          "metadata": {
            "tags": []
          }
        }
      ]
    },
    {
      "cell_type": "code",
      "metadata": {
        "colab": {
          "base_uri": "https://localhost:8080/"
        },
        "id": "IT4EEw3cXnPu",
        "outputId": "f4624268-ec5a-4833-a83d-3cea8d38c114"
      },
      "source": [
        "X_new = SelectKBest(mutual_info_regression, k=2).fit_transform(the_real_one, y_full)\n",
        "X_new"
      ],
      "execution_count": null,
      "outputs": [
        {
          "output_type": "stream",
          "text": [
            "/usr/local/lib/python3.7/dist-packages/sklearn/utils/validation.py:63: DataConversionWarning: A column-vector y was passed when a 1d array was expected. Please change the shape of y to (n_samples, ), for example using ravel().\n",
            "  return f(*args, **kwargs)\n"
          ],
          "name": "stderr"
        },
        {
          "output_type": "execute_result",
          "data": {
            "text/plain": [
              "array([[7.5, 3. ],\n",
              "       [7.7, 4. ],\n",
              "       [6.5, 1. ],\n",
              "       ...,\n",
              "       [9.3, 5. ],\n",
              "       [8.1, 5. ],\n",
              "       [7.4, 3. ]])"
            ]
          },
          "metadata": {
            "tags": []
          },
          "execution_count": 6
        }
      ]
    },
    {
      "cell_type": "code",
      "metadata": {
        "colab": {
          "base_uri": "https://localhost:8080/"
        },
        "id": "rAhrGgu7mf6u",
        "outputId": "bc88d234-2c9c-4617-abdb-b4401f938e62"
      },
      "source": [
        "X_new"
      ],
      "execution_count": null,
      "outputs": [
        {
          "output_type": "execute_result",
          "data": {
            "text/plain": [
              "array([[7.50000e+00, 2.02100e+03, 5.38000e+02, 5.38000e+02, 7.00000e+00],\n",
              "       [7.70000e+00, 2.02100e+03, 1.61226e+05, 1.61226e+05, 8.00000e+00],\n",
              "       [6.50000e+00, 2.02100e+03, 1.64530e+04, 1.64530e+04, 6.00000e+00],\n",
              "       ...,\n",
              "       [9.30000e+00, 1.99900e+03, 2.15321e+05, 2.15321e+05, 9.00000e+00],\n",
              "       [8.10000e+00, 1.99900e+03, 2.48900e+03, 2.48900e+03, 8.00000e+00],\n",
              "       [7.40000e+00, 1.99900e+03, 8.15740e+04, 8.15740e+04, 7.00000e+00]])"
            ]
          },
          "metadata": {
            "tags": []
          },
          "execution_count": 18
        }
      ]
    },
    {
      "cell_type": "markdown",
      "metadata": {
        "id": "yGUyoeBil7RK"
      },
      "source": [
        "ICA"
      ]
    },
    {
      "cell_type": "code",
      "metadata": {
        "id": "SssgUzFsl7se",
        "colab": {
          "base_uri": "https://localhost:8080/",
          "height": 1000
        },
        "outputId": "95d569bc-5406-42c4-ef22-0df9828c17b5"
      },
      "source": [
        "\n",
        "scoreridge = []\n",
        "scoreNu = []\n",
        "rf = RandomForestRegressor()\n",
        "param_grid = {'n_estimators': [47],\n",
        "              \"max_depth\": [6],\n",
        "              \"max_features\" : ['auto'],\n",
        "              \"min_samples_split\" : [15],\n",
        "              \"min_samples_leaf\" : [13]}\n",
        "\n",
        "\n",
        "search = HalvingGridSearchCV(rf, param_grid, random_state=42)\n",
        "scorerf = []\n",
        "for i in range(1,9) :\n",
        "  print(i)\n",
        "  j = i * 10\n",
        "  ica = FastICA(n_components=j)\n",
        "  S_ica_ = ica.fit_transform(the_real_one)\n",
        "  X_train, X_test, y_train, y_test = train_test_split(S_ica_, y_full, test_size=0.25, random_state=22)\n",
        "  rr = Ridge(alpha=0.0001)\n",
        "  rr.fit(X_train, y_train) \n",
        "  CC = rr.predict(X_test)\n",
        "  CC\n",
        "  y_true = y_test['score'].tolist()\n",
        "  scoreridge.append(r2_score(y_true, CC))\n",
        "\n",
        "  reg = NuSVR()\n",
        "  reg.fit(X_train, y_train)\n",
        "  CC = reg.predict(X_test)\n",
        "  CC\n",
        "  y_true = y_test['score'].tolist()\n",
        "  scoreNu.append(r2_score(y_true, CC))\n",
        "\n",
        "\n",
        "  search.fit(X_train, y_train)\n",
        "  CC = search.predict(X_test)\n",
        "  CC\n",
        "  y_true = y_test['score'].tolist()\n",
        "  scorerf.append(r2_score(y_true, CC))\n",
        "\n",
        "  #print(r2_score(y_true, CC))\n",
        "  \n",
        "  print(r2_score(y_true, CC))\n",
        "  print(\"##############################\")\n",
        "  print(\"##############################\")\n",
        "\n",
        "\n",
        "plt.figure(0)\n",
        "sns.set()\n",
        "plt.title(\"ICA and R^2 Score\")\n",
        "plt.xlabel(\"Number of ICA Features X 10\")\n",
        "plt.ylabel(\"R^2 Score\")\n",
        "plt.plot(range(1, 9), scoreridge)\n",
        "plt.plot(range(1, 9), scoreNu)\n",
        "plt.plot(range(1, 9), scorerf)\n",
        "plt.legend(['Ridge', 'NuSVR', 'RandomForest'])\n",
        "plt.savefig('ICAVSmodels.png')"
      ],
      "execution_count": null,
      "outputs": [
        {
          "output_type": "stream",
          "text": [
            "Error in callback <bound method _WandbInit._resume_backend of <wandb.sdk.wandb_init._WandbInit object at 0x7fb8ac59cfd0>> (for pre_run_cell):\n"
          ],
          "name": "stdout"
        },
        {
          "output_type": "error",
          "ename": "Exception",
          "evalue": "ignored",
          "traceback": [
            "\u001b[0;31m---------------------------------------------------------------------------\u001b[0m",
            "\u001b[0;31mException\u001b[0m                                 Traceback (most recent call last)",
            "\u001b[0;32m/usr/local/lib/python3.7/dist-packages/wandb/sdk/wandb_init.py\u001b[0m in \u001b[0;36m_resume_backend\u001b[0;34m(self)\u001b[0m\n\u001b[1;32m    257\u001b[0m         \u001b[0;32mif\u001b[0m \u001b[0mself\u001b[0m\u001b[0;34m.\u001b[0m\u001b[0mbackend\u001b[0m \u001b[0;32mis\u001b[0m \u001b[0;32mnot\u001b[0m \u001b[0;32mNone\u001b[0m\u001b[0;34m:\u001b[0m\u001b[0;34m\u001b[0m\u001b[0;34m\u001b[0m\u001b[0m\n\u001b[1;32m    258\u001b[0m             \u001b[0mlogger\u001b[0m\u001b[0;34m.\u001b[0m\u001b[0minfo\u001b[0m\u001b[0;34m(\u001b[0m\u001b[0;34m\"resuming backend\"\u001b[0m\u001b[0;34m)\u001b[0m\u001b[0;34m\u001b[0m\u001b[0;34m\u001b[0m\u001b[0m\n\u001b[0;32m--> 259\u001b[0;31m             \u001b[0mself\u001b[0m\u001b[0;34m.\u001b[0m\u001b[0mbackend\u001b[0m\u001b[0;34m.\u001b[0m\u001b[0minterface\u001b[0m\u001b[0;34m.\u001b[0m\u001b[0mpublish_resume\u001b[0m\u001b[0;34m(\u001b[0m\u001b[0;34m)\u001b[0m\u001b[0;34m\u001b[0m\u001b[0;34m\u001b[0m\u001b[0m\n\u001b[0m\u001b[1;32m    260\u001b[0m \u001b[0;34m\u001b[0m\u001b[0m\n\u001b[1;32m    261\u001b[0m     \u001b[0;32mdef\u001b[0m \u001b[0m_jupyter_teardown\u001b[0m\u001b[0;34m(\u001b[0m\u001b[0mself\u001b[0m\u001b[0;34m)\u001b[0m\u001b[0;34m:\u001b[0m\u001b[0;34m\u001b[0m\u001b[0;34m\u001b[0m\u001b[0m\n",
            "\u001b[0;32m/usr/local/lib/python3.7/dist-packages/wandb/sdk/interface/interface.py\u001b[0m in \u001b[0;36mpublish_resume\u001b[0;34m(self)\u001b[0m\n\u001b[1;32m    603\u001b[0m         \u001b[0mresume\u001b[0m \u001b[0;34m=\u001b[0m \u001b[0mpb\u001b[0m\u001b[0;34m.\u001b[0m\u001b[0mResumeRequest\u001b[0m\u001b[0;34m(\u001b[0m\u001b[0;34m)\u001b[0m\u001b[0;34m\u001b[0m\u001b[0;34m\u001b[0m\u001b[0m\n\u001b[1;32m    604\u001b[0m         \u001b[0mrec\u001b[0m \u001b[0;34m=\u001b[0m \u001b[0mself\u001b[0m\u001b[0;34m.\u001b[0m\u001b[0m_make_request\u001b[0m\u001b[0;34m(\u001b[0m\u001b[0mresume\u001b[0m\u001b[0;34m=\u001b[0m\u001b[0mresume\u001b[0m\u001b[0;34m)\u001b[0m\u001b[0;34m\u001b[0m\u001b[0;34m\u001b[0m\u001b[0m\n\u001b[0;32m--> 605\u001b[0;31m         \u001b[0mself\u001b[0m\u001b[0;34m.\u001b[0m\u001b[0m_publish\u001b[0m\u001b[0;34m(\u001b[0m\u001b[0mrec\u001b[0m\u001b[0;34m)\u001b[0m\u001b[0;34m\u001b[0m\u001b[0;34m\u001b[0m\u001b[0m\n\u001b[0m\u001b[1;32m    606\u001b[0m \u001b[0;34m\u001b[0m\u001b[0m\n\u001b[1;32m    607\u001b[0m     \u001b[0;32mdef\u001b[0m \u001b[0m_publish_run\u001b[0m\u001b[0;34m(\u001b[0m\u001b[0mself\u001b[0m\u001b[0;34m,\u001b[0m \u001b[0mrun\u001b[0m\u001b[0;34m:\u001b[0m \u001b[0mpb\u001b[0m\u001b[0;34m.\u001b[0m\u001b[0mRunRecord\u001b[0m\u001b[0;34m)\u001b[0m \u001b[0;34m->\u001b[0m \u001b[0;32mNone\u001b[0m\u001b[0;34m:\u001b[0m\u001b[0;34m\u001b[0m\u001b[0;34m\u001b[0m\u001b[0m\n",
            "\u001b[0;32m/usr/local/lib/python3.7/dist-packages/wandb/sdk/interface/interface.py\u001b[0m in \u001b[0;36m_publish\u001b[0;34m(self, record, local)\u001b[0m\n\u001b[1;32m    534\u001b[0m     \u001b[0;32mdef\u001b[0m \u001b[0m_publish\u001b[0m\u001b[0;34m(\u001b[0m\u001b[0mself\u001b[0m\u001b[0;34m,\u001b[0m \u001b[0mrecord\u001b[0m\u001b[0;34m:\u001b[0m \u001b[0mpb\u001b[0m\u001b[0;34m.\u001b[0m\u001b[0mRecord\u001b[0m\u001b[0;34m,\u001b[0m \u001b[0mlocal\u001b[0m\u001b[0;34m:\u001b[0m \u001b[0mbool\u001b[0m \u001b[0;34m=\u001b[0m \u001b[0;32mNone\u001b[0m\u001b[0;34m)\u001b[0m \u001b[0;34m->\u001b[0m \u001b[0;32mNone\u001b[0m\u001b[0;34m:\u001b[0m\u001b[0;34m\u001b[0m\u001b[0;34m\u001b[0m\u001b[0m\n\u001b[1;32m    535\u001b[0m         \u001b[0;32mif\u001b[0m \u001b[0mself\u001b[0m\u001b[0;34m.\u001b[0m\u001b[0m_process\u001b[0m \u001b[0;32mand\u001b[0m \u001b[0;32mnot\u001b[0m \u001b[0mself\u001b[0m\u001b[0;34m.\u001b[0m\u001b[0m_process\u001b[0m\u001b[0;34m.\u001b[0m\u001b[0mis_alive\u001b[0m\u001b[0;34m(\u001b[0m\u001b[0;34m)\u001b[0m\u001b[0;34m:\u001b[0m\u001b[0;34m\u001b[0m\u001b[0;34m\u001b[0m\u001b[0m\n\u001b[0;32m--> 536\u001b[0;31m             \u001b[0;32mraise\u001b[0m \u001b[0mException\u001b[0m\u001b[0;34m(\u001b[0m\u001b[0;34m\"The wandb backend process has shutdown\"\u001b[0m\u001b[0;34m)\u001b[0m\u001b[0;34m\u001b[0m\u001b[0;34m\u001b[0m\u001b[0m\n\u001b[0m\u001b[1;32m    537\u001b[0m         \u001b[0;32mif\u001b[0m \u001b[0mlocal\u001b[0m\u001b[0;34m:\u001b[0m\u001b[0;34m\u001b[0m\u001b[0;34m\u001b[0m\u001b[0m\n\u001b[1;32m    538\u001b[0m             \u001b[0mrecord\u001b[0m\u001b[0;34m.\u001b[0m\u001b[0mcontrol\u001b[0m\u001b[0;34m.\u001b[0m\u001b[0mlocal\u001b[0m \u001b[0;34m=\u001b[0m \u001b[0mlocal\u001b[0m\u001b[0;34m\u001b[0m\u001b[0;34m\u001b[0m\u001b[0m\n",
            "\u001b[0;31mException\u001b[0m: The wandb backend process has shutdown"
          ]
        },
        {
          "output_type": "stream",
          "text": [
            "1\n"
          ],
          "name": "stdout"
        },
        {
          "output_type": "stream",
          "text": [
            "/usr/local/lib/python3.7/dist-packages/sklearn/decomposition/_fastica.py:120: ConvergenceWarning: FastICA did not converge. Consider increasing tolerance or the maximum number of iterations.\n",
            "  ConvergenceWarning)\n",
            "/usr/local/lib/python3.7/dist-packages/sklearn/utils/validation.py:63: DataConversionWarning: A column-vector y was passed when a 1d array was expected. Please change the shape of y to (n_samples, ), for example using ravel().\n",
            "  return f(*args, **kwargs)\n",
            "/usr/local/lib/python3.7/dist-packages/sklearn/model_selection/_validation.py:598: DataConversionWarning: A column-vector y was passed when a 1d array was expected. Please change the shape of y to (n_samples,), for example using ravel().\n",
            "  estimator.fit(X_train, y_train, **fit_params)\n",
            "/usr/local/lib/python3.7/dist-packages/sklearn/model_selection/_validation.py:598: DataConversionWarning: A column-vector y was passed when a 1d array was expected. Please change the shape of y to (n_samples,), for example using ravel().\n",
            "  estimator.fit(X_train, y_train, **fit_params)\n",
            "/usr/local/lib/python3.7/dist-packages/sklearn/model_selection/_validation.py:598: DataConversionWarning: A column-vector y was passed when a 1d array was expected. Please change the shape of y to (n_samples,), for example using ravel().\n",
            "  estimator.fit(X_train, y_train, **fit_params)\n",
            "/usr/local/lib/python3.7/dist-packages/sklearn/model_selection/_validation.py:598: DataConversionWarning: A column-vector y was passed when a 1d array was expected. Please change the shape of y to (n_samples,), for example using ravel().\n",
            "  estimator.fit(X_train, y_train, **fit_params)\n",
            "/usr/local/lib/python3.7/dist-packages/sklearn/model_selection/_validation.py:598: DataConversionWarning: A column-vector y was passed when a 1d array was expected. Please change the shape of y to (n_samples,), for example using ravel().\n",
            "  estimator.fit(X_train, y_train, **fit_params)\n",
            "/usr/local/lib/python3.7/dist-packages/sklearn/model_selection/_search.py:880: DataConversionWarning: A column-vector y was passed when a 1d array was expected. Please change the shape of y to (n_samples,), for example using ravel().\n",
            "  self.best_estimator_.fit(X, y, **fit_params)\n"
          ],
          "name": "stderr"
        },
        {
          "output_type": "stream",
          "text": [
            "0.03781343957113781\n",
            "##############################\n",
            "##############################\n",
            "2\n"
          ],
          "name": "stdout"
        },
        {
          "output_type": "stream",
          "text": [
            "/usr/local/lib/python3.7/dist-packages/sklearn/utils/validation.py:63: DataConversionWarning: A column-vector y was passed when a 1d array was expected. Please change the shape of y to (n_samples, ), for example using ravel().\n",
            "  return f(*args, **kwargs)\n",
            "/usr/local/lib/python3.7/dist-packages/sklearn/model_selection/_validation.py:598: DataConversionWarning: A column-vector y was passed when a 1d array was expected. Please change the shape of y to (n_samples,), for example using ravel().\n",
            "  estimator.fit(X_train, y_train, **fit_params)\n",
            "/usr/local/lib/python3.7/dist-packages/sklearn/model_selection/_validation.py:598: DataConversionWarning: A column-vector y was passed when a 1d array was expected. Please change the shape of y to (n_samples,), for example using ravel().\n",
            "  estimator.fit(X_train, y_train, **fit_params)\n",
            "/usr/local/lib/python3.7/dist-packages/sklearn/model_selection/_validation.py:598: DataConversionWarning: A column-vector y was passed when a 1d array was expected. Please change the shape of y to (n_samples,), for example using ravel().\n",
            "  estimator.fit(X_train, y_train, **fit_params)\n",
            "/usr/local/lib/python3.7/dist-packages/sklearn/model_selection/_validation.py:598: DataConversionWarning: A column-vector y was passed when a 1d array was expected. Please change the shape of y to (n_samples,), for example using ravel().\n",
            "  estimator.fit(X_train, y_train, **fit_params)\n",
            "/usr/local/lib/python3.7/dist-packages/sklearn/model_selection/_validation.py:598: DataConversionWarning: A column-vector y was passed when a 1d array was expected. Please change the shape of y to (n_samples,), for example using ravel().\n",
            "  estimator.fit(X_train, y_train, **fit_params)\n",
            "/usr/local/lib/python3.7/dist-packages/sklearn/model_selection/_search.py:880: DataConversionWarning: A column-vector y was passed when a 1d array was expected. Please change the shape of y to (n_samples,), for example using ravel().\n",
            "  self.best_estimator_.fit(X, y, **fit_params)\n"
          ],
          "name": "stderr"
        },
        {
          "output_type": "stream",
          "text": [
            "0.04647365953690308\n",
            "##############################\n",
            "##############################\n",
            "3\n"
          ],
          "name": "stdout"
        },
        {
          "output_type": "stream",
          "text": [
            "/usr/local/lib/python3.7/dist-packages/sklearn/utils/validation.py:63: DataConversionWarning: A column-vector y was passed when a 1d array was expected. Please change the shape of y to (n_samples, ), for example using ravel().\n",
            "  return f(*args, **kwargs)\n",
            "/usr/local/lib/python3.7/dist-packages/sklearn/model_selection/_validation.py:598: DataConversionWarning: A column-vector y was passed when a 1d array was expected. Please change the shape of y to (n_samples,), for example using ravel().\n",
            "  estimator.fit(X_train, y_train, **fit_params)\n",
            "/usr/local/lib/python3.7/dist-packages/sklearn/model_selection/_validation.py:598: DataConversionWarning: A column-vector y was passed when a 1d array was expected. Please change the shape of y to (n_samples,), for example using ravel().\n",
            "  estimator.fit(X_train, y_train, **fit_params)\n",
            "/usr/local/lib/python3.7/dist-packages/sklearn/model_selection/_validation.py:598: DataConversionWarning: A column-vector y was passed when a 1d array was expected. Please change the shape of y to (n_samples,), for example using ravel().\n",
            "  estimator.fit(X_train, y_train, **fit_params)\n",
            "/usr/local/lib/python3.7/dist-packages/sklearn/model_selection/_validation.py:598: DataConversionWarning: A column-vector y was passed when a 1d array was expected. Please change the shape of y to (n_samples,), for example using ravel().\n",
            "  estimator.fit(X_train, y_train, **fit_params)\n",
            "/usr/local/lib/python3.7/dist-packages/sklearn/model_selection/_validation.py:598: DataConversionWarning: A column-vector y was passed when a 1d array was expected. Please change the shape of y to (n_samples,), for example using ravel().\n",
            "  estimator.fit(X_train, y_train, **fit_params)\n",
            "/usr/local/lib/python3.7/dist-packages/sklearn/model_selection/_search.py:880: DataConversionWarning: A column-vector y was passed when a 1d array was expected. Please change the shape of y to (n_samples,), for example using ravel().\n",
            "  self.best_estimator_.fit(X, y, **fit_params)\n"
          ],
          "name": "stderr"
        },
        {
          "output_type": "stream",
          "text": [
            "0.04492302565445838\n",
            "##############################\n",
            "##############################\n",
            "4\n"
          ],
          "name": "stdout"
        },
        {
          "output_type": "stream",
          "text": [
            "/usr/local/lib/python3.7/dist-packages/sklearn/utils/validation.py:63: DataConversionWarning: A column-vector y was passed when a 1d array was expected. Please change the shape of y to (n_samples, ), for example using ravel().\n",
            "  return f(*args, **kwargs)\n",
            "/usr/local/lib/python3.7/dist-packages/sklearn/model_selection/_validation.py:598: DataConversionWarning: A column-vector y was passed when a 1d array was expected. Please change the shape of y to (n_samples,), for example using ravel().\n",
            "  estimator.fit(X_train, y_train, **fit_params)\n",
            "/usr/local/lib/python3.7/dist-packages/sklearn/model_selection/_validation.py:598: DataConversionWarning: A column-vector y was passed when a 1d array was expected. Please change the shape of y to (n_samples,), for example using ravel().\n",
            "  estimator.fit(X_train, y_train, **fit_params)\n",
            "/usr/local/lib/python3.7/dist-packages/sklearn/model_selection/_validation.py:598: DataConversionWarning: A column-vector y was passed when a 1d array was expected. Please change the shape of y to (n_samples,), for example using ravel().\n",
            "  estimator.fit(X_train, y_train, **fit_params)\n",
            "/usr/local/lib/python3.7/dist-packages/sklearn/model_selection/_validation.py:598: DataConversionWarning: A column-vector y was passed when a 1d array was expected. Please change the shape of y to (n_samples,), for example using ravel().\n",
            "  estimator.fit(X_train, y_train, **fit_params)\n",
            "/usr/local/lib/python3.7/dist-packages/sklearn/model_selection/_validation.py:598: DataConversionWarning: A column-vector y was passed when a 1d array was expected. Please change the shape of y to (n_samples,), for example using ravel().\n",
            "  estimator.fit(X_train, y_train, **fit_params)\n",
            "/usr/local/lib/python3.7/dist-packages/sklearn/model_selection/_search.py:880: DataConversionWarning: A column-vector y was passed when a 1d array was expected. Please change the shape of y to (n_samples,), for example using ravel().\n",
            "  self.best_estimator_.fit(X, y, **fit_params)\n"
          ],
          "name": "stderr"
        },
        {
          "output_type": "stream",
          "text": [
            "0.040625952343753546\n",
            "##############################\n",
            "##############################\n",
            "5\n"
          ],
          "name": "stdout"
        },
        {
          "output_type": "stream",
          "text": [
            "/usr/local/lib/python3.7/dist-packages/sklearn/utils/validation.py:63: DataConversionWarning: A column-vector y was passed when a 1d array was expected. Please change the shape of y to (n_samples, ), for example using ravel().\n",
            "  return f(*args, **kwargs)\n",
            "/usr/local/lib/python3.7/dist-packages/sklearn/model_selection/_validation.py:598: DataConversionWarning: A column-vector y was passed when a 1d array was expected. Please change the shape of y to (n_samples,), for example using ravel().\n",
            "  estimator.fit(X_train, y_train, **fit_params)\n",
            "/usr/local/lib/python3.7/dist-packages/sklearn/model_selection/_validation.py:598: DataConversionWarning: A column-vector y was passed when a 1d array was expected. Please change the shape of y to (n_samples,), for example using ravel().\n",
            "  estimator.fit(X_train, y_train, **fit_params)\n",
            "/usr/local/lib/python3.7/dist-packages/sklearn/model_selection/_validation.py:598: DataConversionWarning: A column-vector y was passed when a 1d array was expected. Please change the shape of y to (n_samples,), for example using ravel().\n",
            "  estimator.fit(X_train, y_train, **fit_params)\n",
            "/usr/local/lib/python3.7/dist-packages/sklearn/model_selection/_validation.py:598: DataConversionWarning: A column-vector y was passed when a 1d array was expected. Please change the shape of y to (n_samples,), for example using ravel().\n",
            "  estimator.fit(X_train, y_train, **fit_params)\n",
            "/usr/local/lib/python3.7/dist-packages/sklearn/model_selection/_validation.py:598: DataConversionWarning: A column-vector y was passed when a 1d array was expected. Please change the shape of y to (n_samples,), for example using ravel().\n",
            "  estimator.fit(X_train, y_train, **fit_params)\n",
            "/usr/local/lib/python3.7/dist-packages/sklearn/model_selection/_search.py:880: DataConversionWarning: A column-vector y was passed when a 1d array was expected. Please change the shape of y to (n_samples,), for example using ravel().\n",
            "  self.best_estimator_.fit(X, y, **fit_params)\n"
          ],
          "name": "stderr"
        },
        {
          "output_type": "stream",
          "text": [
            "0.04248409343415804\n",
            "##############################\n",
            "##############################\n",
            "6\n"
          ],
          "name": "stdout"
        },
        {
          "output_type": "stream",
          "text": [
            "/usr/local/lib/python3.7/dist-packages/sklearn/utils/validation.py:63: DataConversionWarning: A column-vector y was passed when a 1d array was expected. Please change the shape of y to (n_samples, ), for example using ravel().\n",
            "  return f(*args, **kwargs)\n",
            "/usr/local/lib/python3.7/dist-packages/sklearn/model_selection/_validation.py:598: DataConversionWarning: A column-vector y was passed when a 1d array was expected. Please change the shape of y to (n_samples,), for example using ravel().\n",
            "  estimator.fit(X_train, y_train, **fit_params)\n",
            "/usr/local/lib/python3.7/dist-packages/sklearn/model_selection/_validation.py:598: DataConversionWarning: A column-vector y was passed when a 1d array was expected. Please change the shape of y to (n_samples,), for example using ravel().\n",
            "  estimator.fit(X_train, y_train, **fit_params)\n",
            "/usr/local/lib/python3.7/dist-packages/sklearn/model_selection/_validation.py:598: DataConversionWarning: A column-vector y was passed when a 1d array was expected. Please change the shape of y to (n_samples,), for example using ravel().\n",
            "  estimator.fit(X_train, y_train, **fit_params)\n",
            "/usr/local/lib/python3.7/dist-packages/sklearn/model_selection/_validation.py:598: DataConversionWarning: A column-vector y was passed when a 1d array was expected. Please change the shape of y to (n_samples,), for example using ravel().\n",
            "  estimator.fit(X_train, y_train, **fit_params)\n",
            "/usr/local/lib/python3.7/dist-packages/sklearn/model_selection/_validation.py:598: DataConversionWarning: A column-vector y was passed when a 1d array was expected. Please change the shape of y to (n_samples,), for example using ravel().\n",
            "  estimator.fit(X_train, y_train, **fit_params)\n",
            "/usr/local/lib/python3.7/dist-packages/sklearn/model_selection/_search.py:880: DataConversionWarning: A column-vector y was passed when a 1d array was expected. Please change the shape of y to (n_samples,), for example using ravel().\n",
            "  self.best_estimator_.fit(X, y, **fit_params)\n"
          ],
          "name": "stderr"
        },
        {
          "output_type": "stream",
          "text": [
            "0.0606283943252397\n",
            "##############################\n",
            "##############################\n",
            "7\n"
          ],
          "name": "stdout"
        },
        {
          "output_type": "stream",
          "text": [
            "/usr/local/lib/python3.7/dist-packages/sklearn/utils/validation.py:63: DataConversionWarning: A column-vector y was passed when a 1d array was expected. Please change the shape of y to (n_samples, ), for example using ravel().\n",
            "  return f(*args, **kwargs)\n",
            "/usr/local/lib/python3.7/dist-packages/sklearn/model_selection/_validation.py:598: DataConversionWarning: A column-vector y was passed when a 1d array was expected. Please change the shape of y to (n_samples,), for example using ravel().\n",
            "  estimator.fit(X_train, y_train, **fit_params)\n",
            "/usr/local/lib/python3.7/dist-packages/sklearn/model_selection/_validation.py:598: DataConversionWarning: A column-vector y was passed when a 1d array was expected. Please change the shape of y to (n_samples,), for example using ravel().\n",
            "  estimator.fit(X_train, y_train, **fit_params)\n",
            "/usr/local/lib/python3.7/dist-packages/sklearn/model_selection/_validation.py:598: DataConversionWarning: A column-vector y was passed when a 1d array was expected. Please change the shape of y to (n_samples,), for example using ravel().\n",
            "  estimator.fit(X_train, y_train, **fit_params)\n",
            "/usr/local/lib/python3.7/dist-packages/sklearn/model_selection/_validation.py:598: DataConversionWarning: A column-vector y was passed when a 1d array was expected. Please change the shape of y to (n_samples,), for example using ravel().\n",
            "  estimator.fit(X_train, y_train, **fit_params)\n",
            "/usr/local/lib/python3.7/dist-packages/sklearn/model_selection/_validation.py:598: DataConversionWarning: A column-vector y was passed when a 1d array was expected. Please change the shape of y to (n_samples,), for example using ravel().\n",
            "  estimator.fit(X_train, y_train, **fit_params)\n",
            "/usr/local/lib/python3.7/dist-packages/sklearn/model_selection/_search.py:880: DataConversionWarning: A column-vector y was passed when a 1d array was expected. Please change the shape of y to (n_samples,), for example using ravel().\n",
            "  self.best_estimator_.fit(X, y, **fit_params)\n"
          ],
          "name": "stderr"
        },
        {
          "output_type": "stream",
          "text": [
            "0.05790457191977039\n",
            "##############################\n",
            "##############################\n",
            "8\n"
          ],
          "name": "stdout"
        },
        {
          "output_type": "stream",
          "text": [
            "/usr/local/lib/python3.7/dist-packages/sklearn/utils/validation.py:63: DataConversionWarning: A column-vector y was passed when a 1d array was expected. Please change the shape of y to (n_samples, ), for example using ravel().\n",
            "  return f(*args, **kwargs)\n",
            "/usr/local/lib/python3.7/dist-packages/sklearn/model_selection/_validation.py:598: DataConversionWarning: A column-vector y was passed when a 1d array was expected. Please change the shape of y to (n_samples,), for example using ravel().\n",
            "  estimator.fit(X_train, y_train, **fit_params)\n",
            "/usr/local/lib/python3.7/dist-packages/sklearn/model_selection/_validation.py:598: DataConversionWarning: A column-vector y was passed when a 1d array was expected. Please change the shape of y to (n_samples,), for example using ravel().\n",
            "  estimator.fit(X_train, y_train, **fit_params)\n",
            "/usr/local/lib/python3.7/dist-packages/sklearn/model_selection/_validation.py:598: DataConversionWarning: A column-vector y was passed when a 1d array was expected. Please change the shape of y to (n_samples,), for example using ravel().\n",
            "  estimator.fit(X_train, y_train, **fit_params)\n",
            "/usr/local/lib/python3.7/dist-packages/sklearn/model_selection/_validation.py:598: DataConversionWarning: A column-vector y was passed when a 1d array was expected. Please change the shape of y to (n_samples,), for example using ravel().\n",
            "  estimator.fit(X_train, y_train, **fit_params)\n",
            "/usr/local/lib/python3.7/dist-packages/sklearn/model_selection/_validation.py:598: DataConversionWarning: A column-vector y was passed when a 1d array was expected. Please change the shape of y to (n_samples,), for example using ravel().\n",
            "  estimator.fit(X_train, y_train, **fit_params)\n",
            "/usr/local/lib/python3.7/dist-packages/sklearn/model_selection/_search.py:880: DataConversionWarning: A column-vector y was passed when a 1d array was expected. Please change the shape of y to (n_samples,), for example using ravel().\n",
            "  self.best_estimator_.fit(X, y, **fit_params)\n"
          ],
          "name": "stderr"
        },
        {
          "output_type": "stream",
          "text": [
            "0.08817786167526886\n",
            "##############################\n",
            "##############################\n"
          ],
          "name": "stdout"
        },
        {
          "output_type": "display_data",
          "data": {
            "image/png": "[encoded data removed]",
            "text/plain": [
              "<Figure size 432x288 with 1 Axes>"
            ]
          },
          "metadata": {
            "tags": []
          }
        },
        {
          "output_type": "stream",
          "text": [
            "Error in callback <bound method _WandbInit._pause_backend of <wandb.sdk.wandb_init._WandbInit object at 0x7fb8ac59cfd0>> (for post_run_cell):\n"
          ],
          "name": "stdout"
        },
        {
          "output_type": "error",
          "ename": "Exception",
          "evalue": "ignored",
          "traceback": [
            "\u001b[0;31m---------------------------------------------------------------------------\u001b[0m",
            "\u001b[0;31mException\u001b[0m                                 Traceback (most recent call last)",
            "\u001b[0;32m/usr/local/lib/python3.7/dist-packages/wandb/sdk/wandb_init.py\u001b[0m in \u001b[0;36m_pause_backend\u001b[0;34m(self)\u001b[0m\n\u001b[1;32m    252\u001b[0m                 \u001b[0mres\u001b[0m \u001b[0;34m=\u001b[0m \u001b[0mself\u001b[0m\u001b[0;34m.\u001b[0m\u001b[0mrun\u001b[0m\u001b[0;34m.\u001b[0m\u001b[0mlog_code\u001b[0m\u001b[0;34m(\u001b[0m\u001b[0mroot\u001b[0m\u001b[0;34m=\u001b[0m\u001b[0;32mNone\u001b[0m\u001b[0;34m)\u001b[0m\u001b[0;34m\u001b[0m\u001b[0;34m\u001b[0m\u001b[0m\n\u001b[1;32m    253\u001b[0m                 \u001b[0mlogger\u001b[0m\u001b[0;34m.\u001b[0m\u001b[0minfo\u001b[0m\u001b[0;34m(\u001b[0m\u001b[0;34m\"saved code: %s\"\u001b[0m\u001b[0;34m,\u001b[0m \u001b[0mres\u001b[0m\u001b[0;34m)\u001b[0m\u001b[0;34m\u001b[0m\u001b[0;34m\u001b[0m\u001b[0m\n\u001b[0;32m--> 254\u001b[0;31m             \u001b[0mself\u001b[0m\u001b[0;34m.\u001b[0m\u001b[0mbackend\u001b[0m\u001b[0;34m.\u001b[0m\u001b[0minterface\u001b[0m\u001b[0;34m.\u001b[0m\u001b[0mpublish_pause\u001b[0m\u001b[0;34m(\u001b[0m\u001b[0;34m)\u001b[0m\u001b[0;34m\u001b[0m\u001b[0;34m\u001b[0m\u001b[0m\n\u001b[0m\u001b[1;32m    255\u001b[0m \u001b[0;34m\u001b[0m\u001b[0m\n\u001b[1;32m    256\u001b[0m     \u001b[0;32mdef\u001b[0m \u001b[0m_resume_backend\u001b[0m\u001b[0;34m(\u001b[0m\u001b[0mself\u001b[0m\u001b[0;34m)\u001b[0m\u001b[0;34m:\u001b[0m\u001b[0;34m\u001b[0m\u001b[0;34m\u001b[0m\u001b[0m\n",
            "\u001b[0;32m/usr/local/lib/python3.7/dist-packages/wandb/sdk/interface/interface.py\u001b[0m in \u001b[0;36mpublish_pause\u001b[0;34m(self)\u001b[0m\n\u001b[1;32m    598\u001b[0m         \u001b[0mpause\u001b[0m \u001b[0;34m=\u001b[0m \u001b[0mpb\u001b[0m\u001b[0;34m.\u001b[0m\u001b[0mPauseRequest\u001b[0m\u001b[0;34m(\u001b[0m\u001b[0;34m)\u001b[0m\u001b[0;34m\u001b[0m\u001b[0;34m\u001b[0m\u001b[0m\n\u001b[1;32m    599\u001b[0m         \u001b[0mrec\u001b[0m \u001b[0;34m=\u001b[0m \u001b[0mself\u001b[0m\u001b[0;34m.\u001b[0m\u001b[0m_make_request\u001b[0m\u001b[0;34m(\u001b[0m\u001b[0mpause\u001b[0m\u001b[0;34m=\u001b[0m\u001b[0mpause\u001b[0m\u001b[0;34m)\u001b[0m\u001b[0;34m\u001b[0m\u001b[0;34m\u001b[0m\u001b[0m\n\u001b[0;32m--> 600\u001b[0;31m         \u001b[0mself\u001b[0m\u001b[0;34m.\u001b[0m\u001b[0m_publish\u001b[0m\u001b[0;34m(\u001b[0m\u001b[0mrec\u001b[0m\u001b[0;34m)\u001b[0m\u001b[0;34m\u001b[0m\u001b[0;34m\u001b[0m\u001b[0m\n\u001b[0m\u001b[1;32m    601\u001b[0m \u001b[0;34m\u001b[0m\u001b[0m\n\u001b[1;32m    602\u001b[0m     \u001b[0;32mdef\u001b[0m \u001b[0mpublish_resume\u001b[0m\u001b[0;34m(\u001b[0m\u001b[0mself\u001b[0m\u001b[0;34m)\u001b[0m \u001b[0;34m->\u001b[0m \u001b[0;32mNone\u001b[0m\u001b[0;34m:\u001b[0m\u001b[0;34m\u001b[0m\u001b[0;34m\u001b[0m\u001b[0m\n",
            "\u001b[0;32m/usr/local/lib/python3.7/dist-packages/wandb/sdk/interface/interface.py\u001b[0m in \u001b[0;36m_publish\u001b[0;34m(self, record, local)\u001b[0m\n\u001b[1;32m    534\u001b[0m     \u001b[0;32mdef\u001b[0m \u001b[0m_publish\u001b[0m\u001b[0;34m(\u001b[0m\u001b[0mself\u001b[0m\u001b[0;34m,\u001b[0m \u001b[0mrecord\u001b[0m\u001b[0;34m:\u001b[0m \u001b[0mpb\u001b[0m\u001b[0;34m.\u001b[0m\u001b[0mRecord\u001b[0m\u001b[0;34m,\u001b[0m \u001b[0mlocal\u001b[0m\u001b[0;34m:\u001b[0m \u001b[0mbool\u001b[0m \u001b[0;34m=\u001b[0m \u001b[0;32mNone\u001b[0m\u001b[0;34m)\u001b[0m \u001b[0;34m->\u001b[0m \u001b[0;32mNone\u001b[0m\u001b[0;34m:\u001b[0m\u001b[0;34m\u001b[0m\u001b[0;34m\u001b[0m\u001b[0m\n\u001b[1;32m    535\u001b[0m         \u001b[0;32mif\u001b[0m \u001b[0mself\u001b[0m\u001b[0;34m.\u001b[0m\u001b[0m_process\u001b[0m \u001b[0;32mand\u001b[0m \u001b[0;32mnot\u001b[0m \u001b[0mself\u001b[0m\u001b[0;34m.\u001b[0m\u001b[0m_process\u001b[0m\u001b[0;34m.\u001b[0m\u001b[0mis_alive\u001b[0m\u001b[0;34m(\u001b[0m\u001b[0;34m)\u001b[0m\u001b[0;34m:\u001b[0m\u001b[0;34m\u001b[0m\u001b[0;34m\u001b[0m\u001b[0m\n\u001b[0;32m--> 536\u001b[0;31m             \u001b[0;32mraise\u001b[0m \u001b[0mException\u001b[0m\u001b[0;34m(\u001b[0m\u001b[0;34m\"The wandb backend process has shutdown\"\u001b[0m\u001b[0;34m)\u001b[0m\u001b[0;34m\u001b[0m\u001b[0;34m\u001b[0m\u001b[0m\n\u001b[0m\u001b[1;32m    537\u001b[0m         \u001b[0;32mif\u001b[0m \u001b[0mlocal\u001b[0m\u001b[0;34m:\u001b[0m\u001b[0;34m\u001b[0m\u001b[0;34m\u001b[0m\u001b[0m\n\u001b[1;32m    538\u001b[0m             \u001b[0mrecord\u001b[0m\u001b[0;34m.\u001b[0m\u001b[0mcontrol\u001b[0m\u001b[0;34m.\u001b[0m\u001b[0mlocal\u001b[0m \u001b[0;34m=\u001b[0m \u001b[0mlocal\u001b[0m\u001b[0;34m\u001b[0m\u001b[0;34m\u001b[0m\u001b[0m\n",
            "\u001b[0;31mException\u001b[0m: The wandb backend process has shutdown"
          ]
        }
      ]
    },
    {
      "cell_type": "markdown",
      "metadata": {
        "id": "qgm6QOR8mQQG"
      },
      "source": [
        "Testing n Graphin"
      ]
    },
    {
      "cell_type": "code",
      "metadata": {
        "id": "Bv6AfbVWmRmP"
      },
      "source": [
        "\n",
        "#change this based on if you wanna do ICA, PCA, K means\n",
        "ica = FastICA(n_components=90)\n",
        "S_ica_ = ica.fit_transform(the_real_one_real) \n",
        "#####################################\n",
        "X_train, X_test, y_train, y_test = train_test_split(X_new, y_full, test_size=0.25, random_state=22)\n",
        "\n",
        "feature_names = list(the_real_one_real.columns)\n",
        "ax = plt.axes()\n",
        "ax.figure.set_size_inches(30, 30)\n",
        "im = ax.imshow(np.corrcoef(X_train.T), cmap=\"RdBu_r\", vmin=-1, vmax=1)\n",
        "\n",
        "ax.set_xticks(range(0,90))\n",
        "ax.set_xticklabels(feature_names, rotation=90)\n",
        "ax.set_yticks(range(0,90))\n",
        "ax.set_yticklabels(feature_names)\n",
        "plt.colorbar(im).ax.set_ylabel(\"$r$\", rotation=0)\n",
        "ax.set_title(\"Pitchfork feature correlation matrix\")\n",
        "\n",
        "\n",
        "\n",
        "\n",
        "\n",
        "reg = LinearRegression().fit(X_train, Y_train)\n",
        "y_true = Y_test['score'].tolist()\n",
        "CC = reg.predict(X_test)\n",
        "y_pred = CC[:,0]\n",
        "print(r2_score(y_true, CC))\n",
        "graphRegressionMetrics(y_true, CC, X_test)\n",
        "\n",
        "regr = ElasticNet()\n",
        "regr.fit(X_train, Y_train)\n",
        "ElasticNet(random_state=0)\n",
        "CC = regr.predict(X_test)\n",
        "CC\n",
        "y_true = Y_test['score'].tolist()\n",
        "\n",
        "print(r2_score(y_true, CC))\n",
        "graphRegressionMetrics(y_true, CC, X_test)\n",
        "\n",
        "rr = Ridge(alpha=0.0001)\n",
        "rr.fit(X_train, Y_train) \n",
        "CC = rr.predict(X_test)\n",
        "CC\n",
        "y_true = Y_test['score'].tolist()\n",
        "\n",
        "print(r2_score(y_true, CC))\n",
        "graphRegressionMetrics(y_true, CC, X_test)\n",
        "\n",
        "model_lasso = Lasso(alpha=0.01)\n",
        "model_lasso.fit(X_train, Y_train) \n",
        "CC = model_lasso.predict(X_test)\n",
        "CC\n",
        "y_true = Y_test['score'].tolist()\n",
        "\n",
        "print(r2_score(y_true, CC))\n",
        "graphRegressionMetrics(y_true, CC, X_test)\n",
        "\n",
        "reg = make_pipeline(StandardScaler(), SGDRegressor(max_iter=1000, tol=1e-3))\n",
        "reg.fit(X_train, Y_train)\n",
        "CC = reg.predict(X_test)\n",
        "CC\n",
        "y_true = Y_test['score'].tolist()\n",
        "\n",
        "print(r2_score(y_true, CC))\n",
        "graphRegressionMetrics(y_true, CC, X_test)\n",
        "\n",
        "reg = NuSVR()\n",
        "reg.fit(X_train, Y_train)\n",
        "CC = reg.predict(X_test)\n",
        "CC\n",
        "y_true = Y_test['score'].tolist()\n",
        "\n",
        "print(r2_score(y_true, CC))\n",
        "graphRegressionMetrics(y_true, CC, X_test)\n",
        "\n",
        "reg = SVR()\n",
        "reg.fit(X_train, Y_train)\n",
        "CC = reg.predict(X_test)\n",
        "CC\n",
        "y_true = Y_test['score'].tolist()\n",
        "\n",
        "print(r2_score(y_true, CC))\n",
        "graphRegressionMetrics(y_true, CC, X_test)\n",
        "\n",
        "reg = DecisionTreeRegressor()\n",
        "reg.fit(X_train, Y_train)\n",
        "CC = reg.predict(X_test)\n",
        "CC\n",
        "y_true = Y_test['score'].tolist()\n",
        "\n",
        "print(r2_score(y_true, CC))\n",
        "graphRegressionMetrics(y_true, CC, X_test)\n",
        "\n",
        "reg = ExtraTreeRegressor()\n",
        "reg.fit(X_train, Y_train)\n",
        "CC = reg.predict(X_test)\n",
        "CC\n",
        "y_true = Y_test['score'].tolist()\n",
        "\n",
        "print(r2_score(y_true, CC))\n",
        "graphRegressionMetrics(y_true, CC, X_test)\n",
        "\n",
        "reg = PoissonRegressor()\n",
        "\n",
        "reg.fit(X_train, Y_train)\n",
        "CC = reg.predict(X_test)\n",
        "CC\n",
        "y_true = Y_test['score'].tolist()\n",
        "\n",
        "print(r2_score(y_true, CC))\n",
        "graphRegressionMetrics(y_true, CC, X_test)\n",
        "\n",
        "reg = TweedieRegressor()\n",
        "\n",
        "reg.fit(X_train, Y_train)\n",
        "CC = reg.predict(X_test)\n",
        "CC\n",
        "y_true = Y_test['score'].tolist()\n",
        "\n",
        "print(r2_score(y_true, CC))\n",
        "graphRegressionMetrics(y_true, CC, X_test)"
      ],
      "execution_count": null,
      "outputs": []
    },
    {
      "cell_type": "code",
      "metadata": {
        "id": "TMvTHso1m7qF"
      },
      "source": [
        ""
      ],
      "execution_count": null,
      "outputs": []
    },
    {
      "cell_type": "markdown",
      "metadata": {
        "id": "Icn-mf49m4xK"
      },
      "source": [
        "## Creating FIgures for DA papee"
      ]
    },
    {
      "cell_type": "code",
      "metadata": {
        "colab": {
          "base_uri": "https://localhost:8080/",
          "height": 631
        },
        "id": "MYQft_sDzQoJ",
        "outputId": "3293c561-930d-4a5d-fcc5-935495532cae"
      },
      "source": [
        "!pip install wandb -qq\n",
        "from sklearn.datasets import load_boston\n",
        "from sklearn.model_selection import train_test_split\n",
        "from sklearn.ensemble import RandomForestClassifier\n",
        "from sklearn.svm import SVC\n",
        "from sklearn.linear_model import LinearRegression\n",
        "from sklearn.linear_model import Ridge\n",
        "from sklearn.tree import DecisionTreeClassifier\n",
        "import matplotlib.pyplot as plt\n",
        "import pandas as pd\n",
        "import wandb\n",
        "wandb.init(project=\"sklearn\")"
      ],
      "execution_count": null,
      "outputs": [
        {
          "output_type": "display_data",
          "data": {
            "text/html": [
              "Finishing last run (ID:3n4as37v) before initializing another..."
            ],
            "text/plain": [
              "<IPython.core.display.HTML object>"
            ]
          },
          "metadata": {
            "tags": []
          }
        },
        {
          "output_type": "display_data",
          "data": {
            "text/html": [
              "...Successfully finished last run (ID:3n4as37v). Initializing new run:<br/><br/>"
            ],
            "text/plain": [
              "<IPython.core.display.HTML object>"
            ]
          },
          "metadata": {
            "tags": []
          }
        },
        {
          "output_type": "display_data",
          "data": {
            "text/html": [
              "\n",
              "                Tracking run with wandb version 0.10.31<br/>\n",
              "                Syncing run <strong style=\"color:#cdcd00\">polished-water-34</strong> to <a href=\"https://wandb.ai\" target=\"_blank\">Weights & Biases</a> <a href=\"https://docs.wandb.com/integrations/jupyter.html\" target=\"_blank\">(Documentation)</a>.<br/>\n",
              "                Project page: <a href=\"https://wandb.ai/coka/sklearn\" target=\"_blank\">https://wandb.ai/coka/sklearn</a><br/>\n",
              "                Run page: <a href=\"https://wandb.ai/coka/sklearn/runs/1dbrlaoq\" target=\"_blank\">https://wandb.ai/coka/sklearn/runs/1dbrlaoq</a><br/>\n",
              "                Run data is saved locally in <code>/content/wandb/run-20210602_213348-1dbrlaoq</code><br/><br/>\n",
              "            "
            ],
            "text/plain": [
              "<IPython.core.display.HTML object>"
            ]
          },
          "metadata": {
            "tags": []
          }
        },
        {
          "output_type": "execute_result",
          "data": {
            "text/plain": [
              "<wandb.sdk.wandb_run.Run at 0x7fb8ac8941d0>"
            ],
            "text/html": [
              "<h1>Run(1dbrlaoq)</h1><iframe src=\"https://wandb.ai/coka/sklearn/runs/1dbrlaoq\" style=\"border:none;width:100%;height:400px\"></iframe>"
            ]
          },
          "metadata": {
            "tags": []
          },
          "execution_count": 26
        }
      ]
    },
    {
      "cell_type": "code",
      "metadata": {
        "colab": {
          "base_uri": "https://localhost:8080/"
        },
        "id": "auB-9a8Q4pok",
        "outputId": "74ef92ab-4928-442c-fb29-1dd1fb0f71ff"
      },
      "source": [
        "print(X_train.shape)\n",
        "print(y_train.squeeze().shape)\n",
        "print(X_test.shape)\n",
        "print(y_test.shape)"
      ],
      "execution_count": null,
      "outputs": [
        {
          "output_type": "stream",
          "text": [
            "(12331, 90)\n",
            "(12331,)\n",
            "(4111, 90)\n",
            "(4111, 1)\n"
          ],
          "name": "stdout"
        }
      ]
    },
    {
      "cell_type": "code",
      "metadata": {
        "colab": {
          "base_uri": "https://localhost:8080/",
          "height": 1000,
          "referenced_widgets": [
            "91d4606f80544b60873f431e1140061e",
            "53095616776f4d6f94fd23304c172ddd",
            "b0995249b13049ffae422822da230d74",
            "4f1b46a0398d492f96c85b03c8d28565",
            "a42217292ec249f7b9bc2cfa0a286ddb",
            "4d66325352ec47e1a28b4db94f3d6b32",
            "5f144c061abd41a18ff274c39e94e608",
            "6857f4acdd954e579f9a6d7cd6d6425d",
            "daaeed24019345ea9102f4491d33d0de",
            "e8e6f463bd18400cb866749de4167648",
            "215f515f46f241179d66ce0fe6053d02",
            "2872f58b982e4ce5b124fe2305bc5489",
            "18f2c1f0e2fa42eebc361f321b9c8b41",
            "d30bb3f33a5a4ea79daba1646ba4419c",
            "a7f969a5d8794bf48571b607f6045a23",
            "89020969cb334fc4855b1514553b0beb",
            "289aca20ae214782bfbaeef81828e27d",
            "538572b743e640f0995d304c47c9827a",
            "b9e04a5ecc6e463da3e8762f39f668ec",
            "3607d328fae14db883c2e9953166b6a4",
            "68cfaeed586a47e7bb3dcfd59195d1a5",
            "a253394db1514934bca5bdbc3040ddf4",
            "15bd5201f7d14d8aa74b2eb927d4ab04",
            "09088a5ac9f4454382e154668b685ce7"
          ]
        },
        "id": "tIGFw98bz48I",
        "outputId": "57a482ab-4bcb-4691-9dca-af94c59b40d9"
      },
      "source": [
        "wandb.sklearn.plot_regressor(search, X_train, X_test, y_train.squeeze(), y_test.squeeze())\n",
        "wandb.init(project=\"sklearn\")\n",
        "ica = FastICA(n_components=77)\n",
        "S_ica_ = ica.fit_transform(the_real_one)\n",
        "X_train, X_test, y_train, y_test = train_test_split(S_ica_, y_full, test_size=0.25, random_state=22)\n",
        "# Train model, get predictions\n",
        "rf = RandomForestRegressor()\n",
        "param_grid = {'n_estimators': [47],\n",
        "              \"max_depth\": [6],\n",
        "              \"max_features\" : ['auto'],\n",
        "              \"min_samples_split\" : [15],\n",
        "              \"min_samples_leaf\" : [13]}\n",
        "search = HalvingGridSearchCV(rf, param_grid, random_state=42)\n",
        "search.fit(X_train, y_train)\n",
        "y_pred = search.predict(X_test)\n",
        "#reg = NuSVR()\n",
        "#reg.fit(X_train, y_train)\n",
        "#y_pred = reg.predict(X_test)\n",
        "# Visualize all regression plots\n",
        "wandb.sklearn.plot_regressor(search, X_train, X_test, y_train.squeeze(), y_test.squeeze())\n",
        "wandb.init(project=\"sklearn\")\n",
        "pca = PCA(n_components=77)\n",
        "pca_ = pca.fit_transform(the_real_one)\n",
        "X_train, X_test, y_train, y_test = train_test_split(pca_, y_full, test_size=0.25, random_state=22)\n",
        "# Train model, get predictions\n",
        "rf = RandomForestRegressor()\n",
        "param_grid = {'n_estimators': [47],\n",
        "              \"max_depth\": [6],\n",
        "              \"max_features\" : ['auto'],\n",
        "              \"min_samples_split\" : [15],\n",
        "              \"min_samples_leaf\" : [13]}\n",
        "search = HalvingGridSearchCV(rf, param_grid, random_state=42)\n",
        "search.fit(X_train, y_train)\n",
        "y_pred = search.predict(X_test)\n",
        "#reg = NuSVR()\n",
        "#reg.fit(X_train, y_train)\n",
        "#y_pred = reg.predict(X_test)\n",
        "# Visualize all regression plots\n",
        "wandb.sklearn.plot_regressor(search, X_train, X_test, y_train.squeeze(), y_test.squeeze())"
      ],
      "execution_count": null,
      "outputs": [
        {
          "output_type": "display_data",
          "data": {
            "text/html": [
              "Finishing last run (ID:9qmxwjyc) before initializing another..."
            ],
            "text/plain": [
              "<IPython.core.display.HTML object>"
            ]
          },
          "metadata": {
            "tags": []
          }
        },
        {
          "output_type": "display_data",
          "data": {
            "text/html": [
              "<br/>Waiting for W&B process to finish, PID 1301<br/>Program ended successfully."
            ],
            "text/plain": [
              "<IPython.core.display.HTML object>"
            ]
          },
          "metadata": {
            "tags": []
          }
        },
        {
          "output_type": "display_data",
          "data": {
            "application/vnd.jupyter.widget-view+json": {
              "model_id": "91d4606f80544b60873f431e1140061e",
              "version_minor": 0,
              "version_major": 2
            },
            "text/plain": [
              "VBox(children=(Label(value=' 0.16MB of 0.16MB uploaded (0.00MB deduped)\\r'), FloatProgress(value=1.0, max=1.0)…"
            ]
          },
          "metadata": {
            "tags": []
          }
        },
        {
          "output_type": "display_data",
          "data": {
            "text/html": [
              "Find user logs for this run at: <code>/content/wandb/run-20210602_214610-9qmxwjyc/logs/debug.log</code>"
            ],
            "text/plain": [
              "<IPython.core.display.HTML object>"
            ]
          },
          "metadata": {
            "tags": []
          }
        },
        {
          "output_type": "display_data",
          "data": {
            "text/html": [
              "Find internal logs for this run at: <code>/content/wandb/run-20210602_214610-9qmxwjyc/logs/debug-internal.log</code>"
            ],
            "text/plain": [
              "<IPython.core.display.HTML object>"
            ]
          },
          "metadata": {
            "tags": []
          }
        },
        {
          "output_type": "display_data",
          "data": {
            "text/html": [
              "<h3>Run summary:</h3><br/><style>\n",
              "    table.wandb td:nth-child(1) { padding: 0 10px; text-align: right }\n",
              "    </style><table class=\"wandb\">\n",
              "<tr><td>_runtime</td><td>249</td></tr><tr><td>_timestamp</td><td>1622670623</td></tr><tr><td>_step</td><td>3</td></tr></table>"
            ],
            "text/plain": [
              "<IPython.core.display.HTML object>"
            ]
          },
          "metadata": {
            "tags": []
          }
        },
        {
          "output_type": "display_data",
          "data": {
            "text/html": [
              "<h3>Run history:</h3><br/><style>\n",
              "    table.wandb td:nth-child(1) { padding: 0 10px; text-align: right }\n",
              "    </style><table class=\"wandb\">\n",
              "<tr><td>_runtime</td><td>▁▆▇█</td></tr><tr><td>_timestamp</td><td>▁▆▇█</td></tr><tr><td>_step</td><td>▁▃▆█</td></tr></table><br/>"
            ],
            "text/plain": [
              "<IPython.core.display.HTML object>"
            ]
          },
          "metadata": {
            "tags": []
          }
        },
        {
          "output_type": "display_data",
          "data": {
            "text/html": [
              "Synced 5 W&B file(s), 4 media file(s), 4 artifact file(s) and 0 other file(s)"
            ],
            "text/plain": [
              "<IPython.core.display.HTML object>"
            ]
          },
          "metadata": {
            "tags": []
          }
        },
        {
          "output_type": "display_data",
          "data": {
            "text/html": [
              "\n",
              "                    <br/>Synced <strong style=\"color:#cdcd00\">desert-cherry-41</strong>: <a href=\"https://wandb.ai/coka/sklearn/runs/9qmxwjyc\" target=\"_blank\">https://wandb.ai/coka/sklearn/runs/9qmxwjyc</a><br/>\n",
              "                "
            ],
            "text/plain": [
              "<IPython.core.display.HTML object>"
            ]
          },
          "metadata": {
            "tags": []
          }
        },
        {
          "output_type": "display_data",
          "data": {
            "text/html": [
              "...Successfully finished last run (ID:9qmxwjyc). Initializing new run:<br/><br/>"
            ],
            "text/plain": [
              "<IPython.core.display.HTML object>"
            ]
          },
          "metadata": {
            "tags": []
          }
        },
        {
          "output_type": "display_data",
          "data": {
            "text/html": [
              "\n",
              "                Tracking run with wandb version 0.10.31<br/>\n",
              "                Syncing run <strong style=\"color:#cdcd00\">logical-dream-42</strong> to <a href=\"https://wandb.ai\" target=\"_blank\">Weights & Biases</a> <a href=\"https://docs.wandb.com/integrations/jupyter.html\" target=\"_blank\">(Documentation)</a>.<br/>\n",
              "                Project page: <a href=\"https://wandb.ai/coka/sklearn\" target=\"_blank\">https://wandb.ai/coka/sklearn</a><br/>\n",
              "                Run page: <a href=\"https://wandb.ai/coka/sklearn/runs/3kbjooab\" target=\"_blank\">https://wandb.ai/coka/sklearn/runs/3kbjooab</a><br/>\n",
              "                Run data is saved locally in <code>/content/wandb/run-20210602_215032-3kbjooab</code><br/><br/>\n",
              "            "
            ],
            "text/plain": [
              "<IPython.core.display.HTML object>"
            ]
          },
          "metadata": {
            "tags": []
          }
        },
        {
          "output_type": "stream",
          "text": [
            "/usr/local/lib/python3.7/dist-packages/sklearn/utils/validation.py:63: DataConversionWarning: A column-vector y was passed when a 1d array was expected. Please change the shape of y to (n_samples, ), for example using ravel().\n",
            "  return f(*args, **kwargs)\n"
          ],
          "name": "stderr"
        },
        {
          "output_type": "stream",
          "text": [
            "[[2.50000000e+01 3.73831776e-02 5.04481193e-02 ... 1.00000000e+01\n",
            "  1.00000000e+01 0.00000000e+00]\n",
            " [6.90000000e+01 7.00934579e-02 7.35041134e-02 ... 0.00000000e+00\n",
            "  0.00000000e+00 0.00000000e+00]\n",
            " [4.40000000e+01 2.33644860e-01 3.10125109e-01 ... 3.84615385e+00\n",
            "  1.92307692e+00 9.61538462e+00]\n",
            " ...\n",
            " [5.70000000e+01 3.73831776e-02 6.39826686e-02 ... 1.00000000e+01\n",
            "  0.00000000e+00 0.00000000e+00]\n",
            " [5.00000000e+00 4.67289720e-02 6.07860639e-02 ... 1.66666667e+01\n",
            "  0.00000000e+00 0.00000000e+00]\n",
            " [3.80000000e+01 6.07476636e-02 6.63028010e-02 ... 0.00000000e+00\n",
            "  0.00000000e+00 0.00000000e+00]]\n"
          ],
          "name": "stdout"
        },
        {
          "output_type": "stream",
          "text": [
            "/usr/local/lib/python3.7/dist-packages/sklearn/model_selection/_validation.py:598: DataConversionWarning: A column-vector y was passed when a 1d array was expected. Please change the shape of y to (n_samples,), for example using ravel().\n",
            "  estimator.fit(X_train, y_train, **fit_params)\n",
            "/usr/local/lib/python3.7/dist-packages/sklearn/model_selection/_validation.py:598: DataConversionWarning: A column-vector y was passed when a 1d array was expected. Please change the shape of y to (n_samples,), for example using ravel().\n",
            "  estimator.fit(X_train, y_train, **fit_params)\n",
            "/usr/local/lib/python3.7/dist-packages/sklearn/model_selection/_validation.py:598: DataConversionWarning: A column-vector y was passed when a 1d array was expected. Please change the shape of y to (n_samples,), for example using ravel().\n",
            "  estimator.fit(X_train, y_train, **fit_params)\n",
            "/usr/local/lib/python3.7/dist-packages/sklearn/model_selection/_validation.py:598: DataConversionWarning: A column-vector y was passed when a 1d array was expected. Please change the shape of y to (n_samples,), for example using ravel().\n",
            "  estimator.fit(X_train, y_train, **fit_params)\n",
            "/usr/local/lib/python3.7/dist-packages/sklearn/model_selection/_validation.py:598: DataConversionWarning: A column-vector y was passed when a 1d array was expected. Please change the shape of y to (n_samples,), for example using ravel().\n",
            "  estimator.fit(X_train, y_train, **fit_params)\n",
            "/usr/local/lib/python3.7/dist-packages/sklearn/model_selection/_search.py:880: DataConversionWarning: A column-vector y was passed when a 1d array was expected. Please change the shape of y to (n_samples,), for example using ravel().\n",
            "  self.best_estimator_.fit(X, y, **fit_params)\n",
            "\u001b[34m\u001b[1mwandb\u001b[0m: \n",
            "\u001b[34m\u001b[1mwandb\u001b[0m: Plotting Regressor.\n",
            "\u001b[34m\u001b[1mwandb\u001b[0m: Logged summary metrics.\n",
            "\u001b[34m\u001b[1mwandb\u001b[0m: Logged learning curve.\n",
            "\u001b[34m\u001b[1mwandb\u001b[0m: \u001b[33mWARNING\u001b[0m wandb uses only the first 10000 datapoints to create the plots.\n",
            "\u001b[34m\u001b[1mwandb\u001b[0m: Logged outlier candidates.\n",
            "\u001b[34m\u001b[1mwandb\u001b[0m: \u001b[33mWARNING\u001b[0m wandb uses only the first 10000 datapoints to create the plots.\n",
            "\u001b[34m\u001b[1mwandb\u001b[0m: \u001b[33mWARNING\u001b[0m wandb uses only the first 10000 datapoints to create the plots.\n",
            "\u001b[34m\u001b[1mwandb\u001b[0m: Logged residuals.\n"
          ],
          "name": "stderr"
        },
        {
          "output_type": "display_data",
          "data": {
            "text/html": [
              "Finishing last run (ID:3kbjooab) before initializing another..."
            ],
            "text/plain": [
              "<IPython.core.display.HTML object>"
            ]
          },
          "metadata": {
            "tags": []
          }
        },
        {
          "output_type": "display_data",
          "data": {
            "text/html": [
              "<br/>Waiting for W&B process to finish, PID 1374<br/>Program ended successfully."
            ],
            "text/plain": [
              "<IPython.core.display.HTML object>"
            ]
          },
          "metadata": {
            "tags": []
          }
        },
        {
          "output_type": "display_data",
          "data": {
            "application/vnd.jupyter.widget-view+json": {
              "model_id": "daaeed24019345ea9102f4491d33d0de",
              "version_minor": 0,
              "version_major": 2
            },
            "text/plain": [
              "VBox(children=(Label(value=' 0.16MB of 0.16MB uploaded (0.00MB deduped)\\r'), FloatProgress(value=1.0, max=1.0)…"
            ]
          },
          "metadata": {
            "tags": []
          }
        },
        {
          "output_type": "display_data",
          "data": {
            "text/html": [
              "Find user logs for this run at: <code>/content/wandb/run-20210602_215032-3kbjooab/logs/debug.log</code>"
            ],
            "text/plain": [
              "<IPython.core.display.HTML object>"
            ]
          },
          "metadata": {
            "tags": []
          }
        },
        {
          "output_type": "display_data",
          "data": {
            "text/html": [
              "Find internal logs for this run at: <code>/content/wandb/run-20210602_215032-3kbjooab/logs/debug-internal.log</code>"
            ],
            "text/plain": [
              "<IPython.core.display.HTML object>"
            ]
          },
          "metadata": {
            "tags": []
          }
        },
        {
          "output_type": "display_data",
          "data": {
            "text/html": [
              "<h3>Run summary:</h3><br/><style>\n",
              "    table.wandb td:nth-child(1) { padding: 0 10px; text-align: right }\n",
              "    </style><table class=\"wandb\">\n",
              "<tr><td>_runtime</td><td>528</td></tr><tr><td>_timestamp</td><td>1622671163</td></tr><tr><td>_step</td><td>3</td></tr></table>"
            ],
            "text/plain": [
              "<IPython.core.display.HTML object>"
            ]
          },
          "metadata": {
            "tags": []
          }
        },
        {
          "output_type": "display_data",
          "data": {
            "text/html": [
              "<h3>Run history:</h3><br/><style>\n",
              "    table.wandb td:nth-child(1) { padding: 0 10px; text-align: right }\n",
              "    </style><table class=\"wandb\">\n",
              "<tr><td>_runtime</td><td>▁▇██</td></tr><tr><td>_timestamp</td><td>▁▇██</td></tr><tr><td>_step</td><td>▁▃▆█</td></tr></table><br/>"
            ],
            "text/plain": [
              "<IPython.core.display.HTML object>"
            ]
          },
          "metadata": {
            "tags": []
          }
        },
        {
          "output_type": "display_data",
          "data": {
            "text/html": [
              "Synced 5 W&B file(s), 4 media file(s), 4 artifact file(s) and 0 other file(s)"
            ],
            "text/plain": [
              "<IPython.core.display.HTML object>"
            ]
          },
          "metadata": {
            "tags": []
          }
        },
        {
          "output_type": "display_data",
          "data": {
            "text/html": [
              "\n",
              "                    <br/>Synced <strong style=\"color:#cdcd00\">logical-dream-42</strong>: <a href=\"https://wandb.ai/coka/sklearn/runs/3kbjooab\" target=\"_blank\">https://wandb.ai/coka/sklearn/runs/3kbjooab</a><br/>\n",
              "                "
            ],
            "text/plain": [
              "<IPython.core.display.HTML object>"
            ]
          },
          "metadata": {
            "tags": []
          }
        },
        {
          "output_type": "display_data",
          "data": {
            "text/html": [
              "...Successfully finished last run (ID:3kbjooab). Initializing new run:<br/><br/>"
            ],
            "text/plain": [
              "<IPython.core.display.HTML object>"
            ]
          },
          "metadata": {
            "tags": []
          }
        },
        {
          "output_type": "display_data",
          "data": {
            "text/html": [
              "\n",
              "                Tracking run with wandb version 0.10.31<br/>\n",
              "                Syncing run <strong style=\"color:#cdcd00\">peach-spaceship-43</strong> to <a href=\"https://wandb.ai\" target=\"_blank\">Weights & Biases</a> <a href=\"https://docs.wandb.com/integrations/jupyter.html\" target=\"_blank\">(Documentation)</a>.<br/>\n",
              "                Project page: <a href=\"https://wandb.ai/coka/sklearn\" target=\"_blank\">https://wandb.ai/coka/sklearn</a><br/>\n",
              "                Run page: <a href=\"https://wandb.ai/coka/sklearn/runs/2ngye5ma\" target=\"_blank\">https://wandb.ai/coka/sklearn/runs/2ngye5ma</a><br/>\n",
              "                Run data is saved locally in <code>/content/wandb/run-20210602_215924-2ngye5ma</code><br/><br/>\n",
              "            "
            ],
            "text/plain": [
              "<IPython.core.display.HTML object>"
            ]
          },
          "metadata": {
            "tags": []
          }
        },
        {
          "output_type": "stream",
          "text": [
            "/usr/local/lib/python3.7/dist-packages/sklearn/model_selection/_validation.py:598: DataConversionWarning: A column-vector y was passed when a 1d array was expected. Please change the shape of y to (n_samples,), for example using ravel().\n",
            "  estimator.fit(X_train, y_train, **fit_params)\n",
            "/usr/local/lib/python3.7/dist-packages/sklearn/model_selection/_validation.py:598: DataConversionWarning: A column-vector y was passed when a 1d array was expected. Please change the shape of y to (n_samples,), for example using ravel().\n",
            "  estimator.fit(X_train, y_train, **fit_params)\n",
            "/usr/local/lib/python3.7/dist-packages/sklearn/model_selection/_validation.py:598: DataConversionWarning: A column-vector y was passed when a 1d array was expected. Please change the shape of y to (n_samples,), for example using ravel().\n",
            "  estimator.fit(X_train, y_train, **fit_params)\n",
            "/usr/local/lib/python3.7/dist-packages/sklearn/model_selection/_validation.py:598: DataConversionWarning: A column-vector y was passed when a 1d array was expected. Please change the shape of y to (n_samples,), for example using ravel().\n",
            "  estimator.fit(X_train, y_train, **fit_params)\n",
            "/usr/local/lib/python3.7/dist-packages/sklearn/model_selection/_validation.py:598: DataConversionWarning: A column-vector y was passed when a 1d array was expected. Please change the shape of y to (n_samples,), for example using ravel().\n",
            "  estimator.fit(X_train, y_train, **fit_params)\n",
            "/usr/local/lib/python3.7/dist-packages/sklearn/model_selection/_search.py:880: DataConversionWarning: A column-vector y was passed when a 1d array was expected. Please change the shape of y to (n_samples,), for example using ravel().\n",
            "  self.best_estimator_.fit(X, y, **fit_params)\n",
            "\u001b[34m\u001b[1mwandb\u001b[0m: \n",
            "\u001b[34m\u001b[1mwandb\u001b[0m: Plotting Regressor.\n",
            "\u001b[34m\u001b[1mwandb\u001b[0m: Logged summary metrics.\n",
            "\u001b[34m\u001b[1mwandb\u001b[0m: Logged learning curve.\n",
            "\u001b[34m\u001b[1mwandb\u001b[0m: \u001b[33mWARNING\u001b[0m wandb uses only the first 10000 datapoints to create the plots.\n",
            "\u001b[34m\u001b[1mwandb\u001b[0m: Logged outlier candidates.\n",
            "\u001b[34m\u001b[1mwandb\u001b[0m: \u001b[33mWARNING\u001b[0m wandb uses only the first 10000 datapoints to create the plots.\n",
            "\u001b[34m\u001b[1mwandb\u001b[0m: \u001b[33mWARNING\u001b[0m wandb uses only the first 10000 datapoints to create the plots.\n",
            "\u001b[34m\u001b[1mwandb\u001b[0m: Logged residuals.\n"
          ],
          "name": "stderr"
        },
        {
          "output_type": "display_data",
          "data": {
            "text/html": [
              "Finishing last run (ID:2ngye5ma) before initializing another..."
            ],
            "text/plain": [
              "<IPython.core.display.HTML object>"
            ]
          },
          "metadata": {
            "tags": []
          }
        },
        {
          "output_type": "display_data",
          "data": {
            "text/html": [
              "<br/>Waiting for W&B process to finish, PID 1520<br/>Program ended successfully."
            ],
            "text/plain": [
              "<IPython.core.display.HTML object>"
            ]
          },
          "metadata": {
            "tags": []
          }
        },
        {
          "output_type": "display_data",
          "data": {
            "application/vnd.jupyter.widget-view+json": {
              "model_id": "289aca20ae214782bfbaeef81828e27d",
              "version_minor": 0,
              "version_major": 2
            },
            "text/plain": [
              "VBox(children=(Label(value=' 0.16MB of 0.16MB uploaded (0.00MB deduped)\\r'), FloatProgress(value=1.0, max=1.0)…"
            ]
          },
          "metadata": {
            "tags": []
          }
        },
        {
          "output_type": "display_data",
          "data": {
            "text/html": [
              "Find user logs for this run at: <code>/content/wandb/run-20210602_215924-2ngye5ma/logs/debug.log</code>"
            ],
            "text/plain": [
              "<IPython.core.display.HTML object>"
            ]
          },
          "metadata": {
            "tags": []
          }
        },
        {
          "output_type": "display_data",
          "data": {
            "text/html": [
              "Find internal logs for this run at: <code>/content/wandb/run-20210602_215924-2ngye5ma/logs/debug-internal.log</code>"
            ],
            "text/plain": [
              "<IPython.core.display.HTML object>"
            ]
          },
          "metadata": {
            "tags": []
          }
        },
        {
          "output_type": "display_data",
          "data": {
            "text/html": [
              "<h3>Run summary:</h3><br/><style>\n",
              "    table.wandb td:nth-child(1) { padding: 0 10px; text-align: right }\n",
              "    </style><table class=\"wandb\">\n",
              "<tr><td>_runtime</td><td>1136</td></tr><tr><td>_timestamp</td><td>1622672303</td></tr><tr><td>_step</td><td>3</td></tr></table>"
            ],
            "text/plain": [
              "<IPython.core.display.HTML object>"
            ]
          },
          "metadata": {
            "tags": []
          }
        },
        {
          "output_type": "display_data",
          "data": {
            "text/html": [
              "<h3>Run history:</h3><br/><style>\n",
              "    table.wandb td:nth-child(1) { padding: 0 10px; text-align: right }\n",
              "    </style><table class=\"wandb\">\n",
              "<tr><td>_runtime</td><td>▁▇██</td></tr><tr><td>_timestamp</td><td>▁▇██</td></tr><tr><td>_step</td><td>▁▃▆█</td></tr></table><br/>"
            ],
            "text/plain": [
              "<IPython.core.display.HTML object>"
            ]
          },
          "metadata": {
            "tags": []
          }
        },
        {
          "output_type": "display_data",
          "data": {
            "text/html": [
              "Synced 5 W&B file(s), 4 media file(s), 4 artifact file(s) and 0 other file(s)"
            ],
            "text/plain": [
              "<IPython.core.display.HTML object>"
            ]
          },
          "metadata": {
            "tags": []
          }
        },
        {
          "output_type": "display_data",
          "data": {
            "text/html": [
              "\n",
              "                    <br/>Synced <strong style=\"color:#cdcd00\">peach-spaceship-43</strong>: <a href=\"https://wandb.ai/coka/sklearn/runs/2ngye5ma\" target=\"_blank\">https://wandb.ai/coka/sklearn/runs/2ngye5ma</a><br/>\n",
              "                "
            ],
            "text/plain": [
              "<IPython.core.display.HTML object>"
            ]
          },
          "metadata": {
            "tags": []
          }
        },
        {
          "output_type": "display_data",
          "data": {
            "text/html": [
              "...Successfully finished last run (ID:2ngye5ma). Initializing new run:<br/><br/>"
            ],
            "text/plain": [
              "<IPython.core.display.HTML object>"
            ]
          },
          "metadata": {
            "tags": []
          }
        },
        {
          "output_type": "display_data",
          "data": {
            "text/html": [
              "\n",
              "                Tracking run with wandb version 0.10.31<br/>\n",
              "                Syncing run <strong style=\"color:#cdcd00\">lilac-resonance-44</strong> to <a href=\"https://wandb.ai\" target=\"_blank\">Weights & Biases</a> <a href=\"https://docs.wandb.com/integrations/jupyter.html\" target=\"_blank\">(Documentation)</a>.<br/>\n",
              "                Project page: <a href=\"https://wandb.ai/coka/sklearn\" target=\"_blank\">https://wandb.ai/coka/sklearn</a><br/>\n",
              "                Run page: <a href=\"https://wandb.ai/coka/sklearn/runs/60z19ms5\" target=\"_blank\">https://wandb.ai/coka/sklearn/runs/60z19ms5</a><br/>\n",
              "                Run data is saved locally in <code>/content/wandb/run-20210602_221824-60z19ms5</code><br/><br/>\n",
              "            "
            ],
            "text/plain": [
              "<IPython.core.display.HTML object>"
            ]
          },
          "metadata": {
            "tags": []
          }
        },
        {
          "output_type": "stream",
          "text": [
            "/usr/local/lib/python3.7/dist-packages/sklearn/model_selection/_validation.py:598: DataConversionWarning: A column-vector y was passed when a 1d array was expected. Please change the shape of y to (n_samples,), for example using ravel().\n",
            "  estimator.fit(X_train, y_train, **fit_params)\n",
            "/usr/local/lib/python3.7/dist-packages/sklearn/model_selection/_validation.py:598: DataConversionWarning: A column-vector y was passed when a 1d array was expected. Please change the shape of y to (n_samples,), for example using ravel().\n",
            "  estimator.fit(X_train, y_train, **fit_params)\n",
            "/usr/local/lib/python3.7/dist-packages/sklearn/model_selection/_validation.py:598: DataConversionWarning: A column-vector y was passed when a 1d array was expected. Please change the shape of y to (n_samples,), for example using ravel().\n",
            "  estimator.fit(X_train, y_train, **fit_params)\n",
            "/usr/local/lib/python3.7/dist-packages/sklearn/model_selection/_validation.py:598: DataConversionWarning: A column-vector y was passed when a 1d array was expected. Please change the shape of y to (n_samples,), for example using ravel().\n",
            "  estimator.fit(X_train, y_train, **fit_params)\n",
            "/usr/local/lib/python3.7/dist-packages/sklearn/model_selection/_validation.py:598: DataConversionWarning: A column-vector y was passed when a 1d array was expected. Please change the shape of y to (n_samples,), for example using ravel().\n",
            "  estimator.fit(X_train, y_train, **fit_params)\n",
            "/usr/local/lib/python3.7/dist-packages/sklearn/model_selection/_search.py:880: DataConversionWarning: A column-vector y was passed when a 1d array was expected. Please change the shape of y to (n_samples,), for example using ravel().\n",
            "  self.best_estimator_.fit(X, y, **fit_params)\n",
            "\u001b[34m\u001b[1mwandb\u001b[0m: \n",
            "\u001b[34m\u001b[1mwandb\u001b[0m: Plotting Regressor.\n",
            "\u001b[34m\u001b[1mwandb\u001b[0m: Logged summary metrics.\n",
            "\u001b[34m\u001b[1mwandb\u001b[0m: Logged learning curve.\n",
            "\u001b[34m\u001b[1mwandb\u001b[0m: \u001b[33mWARNING\u001b[0m wandb uses only the first 10000 datapoints to create the plots.\n",
            "\u001b[34m\u001b[1mwandb\u001b[0m: Logged outlier candidates.\n",
            "\u001b[34m\u001b[1mwandb\u001b[0m: \u001b[33mWARNING\u001b[0m wandb uses only the first 10000 datapoints to create the plots.\n",
            "\u001b[34m\u001b[1mwandb\u001b[0m: \u001b[33mWARNING\u001b[0m wandb uses only the first 10000 datapoints to create the plots.\n",
            "\u001b[34m\u001b[1mwandb\u001b[0m: Logged residuals.\n"
          ],
          "name": "stderr"
        }
      ]
    },
    {
      "cell_type": "code",
      "metadata": {
        "colab": {
          "base_uri": "https://localhost:8080/"
        },
        "id": "SlBVnxEQUa9F",
        "outputId": "23ab6656-1a4e-4428-d69f-935d0d8325aa"
      },
      "source": [
        "r2scoresAfter = []\n",
        "names = []\n",
        "\n",
        "\n",
        "# Train model, get predictions\n",
        "rf = RandomForestRegressor()\n",
        "param_grid = {'n_estimators': [47],\n",
        "              \"max_depth\": [6],\n",
        "              \"max_features\" : ['auto'],\n",
        "              \"min_samples_split\" : [15],\n",
        "              \"min_samples_leaf\" : [13]}\n",
        "\n",
        "\n",
        "search = HalvingGridSearchCV(rf, param_grid, random_state=42)\n",
        "X_new = SelectKBest(mutual_info_regression, k=60).fit_transform(the_real_one, y_full)\n",
        "print(X_new)\n",
        "X_train, X_test, y_train, y_test = train_test_split(X_new, y_full, test_size=0.25, random_state=22)\n",
        "search.fit(X_train, y_train)\n",
        "CC = search.predict(X_test)\n",
        "y_true = y_test['score'].tolist()\n",
        "r2scoresAfter.append(r2_score(y_true, CC))\n",
        "names.append(\"RFKbest\")\n",
        "\n",
        "reg = NuSVR()\n",
        "reg.fit(X_train, y_train)\n",
        "CC = reg.predict(X_test)\n",
        "CC\n",
        "y_true = y_test['score'].tolist()\n",
        "r2scoresAfter.append(r2_score(y_true, CC))\n",
        "names.append(\"NuSVRKbest\")\n",
        "\n",
        "reg = Ridge()\n",
        "reg.fit(X_train, y_train)\n",
        "CC = reg.predict(X_test)\n",
        "CC\n",
        "y_true = y_test['score'].tolist()\n",
        "r2scoresAfter.append(r2_score(y_true, CC))\n",
        "names.append(\"RidgeKbest\")\n",
        "\n",
        "ica = FastICA(n_components=77)\n",
        "S_ica_ = ica.fit_transform(the_real_one)\n",
        "X_train, X_test, y_train, y_test = train_test_split(S_ica_, y_full, test_size=0.25, random_state=22)\n",
        "# Train model, get predictions\n",
        "rf = RandomForestRegressor()\n",
        "param_grid = {'n_estimators': [47],\n",
        "              \"max_depth\": [6],\n",
        "              \"max_features\" : ['auto'],\n",
        "              \"min_samples_split\" : [15],\n",
        "              \"min_samples_leaf\" : [13]}\n",
        "\n",
        "\n",
        "search = HalvingGridSearchCV(rf, param_grid, random_state=42)\n",
        "search.fit(X_train, y_train)\n",
        "CC = search.predict(X_test)\n",
        "y_true = y_test['score'].tolist()\n",
        "r2scoresAfter.append(r2_score(y_true, CC))\n",
        "names.append(\"RFICA\")\n",
        "\n",
        "reg = NuSVR()\n",
        "reg.fit(X_train, y_train)\n",
        "CC = reg.predict(X_test)\n",
        "CC\n",
        "y_true = y_test['score'].tolist()\n",
        "r2scoresAfter.append(r2_score(y_true, CC))\n",
        "names.append(\"NuSVRICA\")\n",
        "\n",
        "reg = Ridge()\n",
        "reg.fit(X_train, y_train)\n",
        "CC = reg.predict(X_test)\n",
        "CC\n",
        "y_true = y_test['score'].tolist()\n",
        "r2scoresAfter.append(r2_score(y_true, CC))\n",
        "names.append(\"RidgeICA\")\n",
        "\n",
        "pca = PCA(n_components=77)\n",
        "pca_ = pca.fit_transform(the_real_one)\n",
        "X_train, X_test, y_train, y_test = train_test_split(pca_, y_full, test_size=0.25, random_state=22)\n",
        "# Train model, get predictions\n",
        "rf = RandomForestRegressor()\n",
        "param_grid = {'n_estimators': [47],\n",
        "              \"max_depth\": [6],\n",
        "              \"max_features\" : ['auto'],\n",
        "              \"min_samples_split\" : [15],\n",
        "              \"min_samples_leaf\" : [13]}\n",
        "\n",
        "\n",
        "search = HalvingGridSearchCV(rf, param_grid, random_state=42)\n",
        "search.fit(X_train, y_train)\n",
        "CC = search.predict(X_test)\n",
        "y_true = y_test['score'].tolist()\n",
        "r2scoresAfter.append(r2_score(y_true, CC))\n",
        "names.append(\"RFPCA\")\n",
        "\n",
        "reg = NuSVR()\n",
        "reg.fit(X_train, y_train)\n",
        "CC = reg.predict(X_test)\n",
        "CC\n",
        "y_true = y_test['score'].tolist()\n",
        "r2scoresAfter.append(r2_score(y_true, CC))\n",
        "names.append(\"NuSVRPCA\")\n",
        "\n",
        "reg = Ridge()\n",
        "reg.fit(X_train, y_train)\n",
        "CC = reg.predict(X_test)\n",
        "CC\n",
        "y_true = y_test['score'].tolist()\n",
        "r2scoresAfter.append(r2_score(y_true, CC))\n",
        "names.append(\"RidgePCA\")\n"
      ],
      "execution_count": null,
      "outputs": [
        {
          "output_type": "stream",
          "text": [
            "/usr/local/lib/python3.7/dist-packages/sklearn/utils/validation.py:63: DataConversionWarning: A column-vector y was passed when a 1d array was expected. Please change the shape of y to (n_samples, ), for example using ravel().\n",
            "  return f(*args, **kwargs)\n"
          ],
          "name": "stderr"
        },
        {
          "output_type": "stream",
          "text": [
            "[[2.50000000e+01 3.73831776e-02 5.04481193e-02 ... 0.00000000e+00\n",
            "  1.00000000e+01 0.00000000e+00]\n",
            " [6.90000000e+01 7.00934579e-02 7.35041134e-02 ... 0.00000000e+00\n",
            "  0.00000000e+00 0.00000000e+00]\n",
            " [4.40000000e+01 2.33644860e-01 3.10125109e-01 ... 3.84615385e+00\n",
            "  1.92307692e+00 9.61538462e+00]\n",
            " ...\n",
            " [5.70000000e+01 3.73831776e-02 6.39826686e-02 ... 1.00000000e+01\n",
            "  0.00000000e+00 0.00000000e+00]\n",
            " [5.00000000e+00 4.67289720e-02 6.07860639e-02 ... 8.33333333e+00\n",
            "  0.00000000e+00 0.00000000e+00]\n",
            " [3.80000000e+01 6.07476636e-02 6.63028010e-02 ... 6.66666667e+00\n",
            "  0.00000000e+00 0.00000000e+00]]\n"
          ],
          "name": "stdout"
        },
        {
          "output_type": "stream",
          "text": [
            "/usr/local/lib/python3.7/dist-packages/sklearn/model_selection/_validation.py:598: DataConversionWarning: A column-vector y was passed when a 1d array was expected. Please change the shape of y to (n_samples,), for example using ravel().\n",
            "  estimator.fit(X_train, y_train, **fit_params)\n",
            "/usr/local/lib/python3.7/dist-packages/sklearn/model_selection/_validation.py:598: DataConversionWarning: A column-vector y was passed when a 1d array was expected. Please change the shape of y to (n_samples,), for example using ravel().\n",
            "  estimator.fit(X_train, y_train, **fit_params)\n",
            "/usr/local/lib/python3.7/dist-packages/sklearn/model_selection/_validation.py:598: DataConversionWarning: A column-vector y was passed when a 1d array was expected. Please change the shape of y to (n_samples,), for example using ravel().\n",
            "  estimator.fit(X_train, y_train, **fit_params)\n",
            "/usr/local/lib/python3.7/dist-packages/sklearn/model_selection/_validation.py:598: DataConversionWarning: A column-vector y was passed when a 1d array was expected. Please change the shape of y to (n_samples,), for example using ravel().\n",
            "  estimator.fit(X_train, y_train, **fit_params)\n",
            "/usr/local/lib/python3.7/dist-packages/sklearn/model_selection/_validation.py:598: DataConversionWarning: A column-vector y was passed when a 1d array was expected. Please change the shape of y to (n_samples,), for example using ravel().\n",
            "  estimator.fit(X_train, y_train, **fit_params)\n",
            "/usr/local/lib/python3.7/dist-packages/sklearn/model_selection/_search.py:880: DataConversionWarning: A column-vector y was passed when a 1d array was expected. Please change the shape of y to (n_samples,), for example using ravel().\n",
            "  self.best_estimator_.fit(X, y, **fit_params)\n",
            "/usr/local/lib/python3.7/dist-packages/sklearn/utils/validation.py:63: DataConversionWarning: A column-vector y was passed when a 1d array was expected. Please change the shape of y to (n_samples, ), for example using ravel().\n",
            "  return f(*args, **kwargs)\n",
            "/usr/local/lib/python3.7/dist-packages/sklearn/model_selection/_validation.py:598: DataConversionWarning: A column-vector y was passed when a 1d array was expected. Please change the shape of y to (n_samples,), for example using ravel().\n",
            "  estimator.fit(X_train, y_train, **fit_params)\n",
            "/usr/local/lib/python3.7/dist-packages/sklearn/model_selection/_validation.py:598: DataConversionWarning: A column-vector y was passed when a 1d array was expected. Please change the shape of y to (n_samples,), for example using ravel().\n",
            "  estimator.fit(X_train, y_train, **fit_params)\n",
            "/usr/local/lib/python3.7/dist-packages/sklearn/model_selection/_validation.py:598: DataConversionWarning: A column-vector y was passed when a 1d array was expected. Please change the shape of y to (n_samples,), for example using ravel().\n",
            "  estimator.fit(X_train, y_train, **fit_params)\n",
            "/usr/local/lib/python3.7/dist-packages/sklearn/model_selection/_validation.py:598: DataConversionWarning: A column-vector y was passed when a 1d array was expected. Please change the shape of y to (n_samples,), for example using ravel().\n",
            "  estimator.fit(X_train, y_train, **fit_params)\n",
            "/usr/local/lib/python3.7/dist-packages/sklearn/model_selection/_validation.py:598: DataConversionWarning: A column-vector y was passed when a 1d array was expected. Please change the shape of y to (n_samples,), for example using ravel().\n",
            "  estimator.fit(X_train, y_train, **fit_params)\n",
            "/usr/local/lib/python3.7/dist-packages/sklearn/model_selection/_search.py:880: DataConversionWarning: A column-vector y was passed when a 1d array was expected. Please change the shape of y to (n_samples,), for example using ravel().\n",
            "  self.best_estimator_.fit(X, y, **fit_params)\n",
            "/usr/local/lib/python3.7/dist-packages/sklearn/utils/validation.py:63: DataConversionWarning: A column-vector y was passed when a 1d array was expected. Please change the shape of y to (n_samples, ), for example using ravel().\n",
            "  return f(*args, **kwargs)\n",
            "/usr/local/lib/python3.7/dist-packages/sklearn/model_selection/_validation.py:598: DataConversionWarning: A column-vector y was passed when a 1d array was expected. Please change the shape of y to (n_samples,), for example using ravel().\n",
            "  estimator.fit(X_train, y_train, **fit_params)\n",
            "/usr/local/lib/python3.7/dist-packages/sklearn/model_selection/_validation.py:598: DataConversionWarning: A column-vector y was passed when a 1d array was expected. Please change the shape of y to (n_samples,), for example using ravel().\n",
            "  estimator.fit(X_train, y_train, **fit_params)\n",
            "/usr/local/lib/python3.7/dist-packages/sklearn/model_selection/_validation.py:598: DataConversionWarning: A column-vector y was passed when a 1d array was expected. Please change the shape of y to (n_samples,), for example using ravel().\n",
            "  estimator.fit(X_train, y_train, **fit_params)\n",
            "/usr/local/lib/python3.7/dist-packages/sklearn/model_selection/_validation.py:598: DataConversionWarning: A column-vector y was passed when a 1d array was expected. Please change the shape of y to (n_samples,), for example using ravel().\n",
            "  estimator.fit(X_train, y_train, **fit_params)\n",
            "/usr/local/lib/python3.7/dist-packages/sklearn/model_selection/_validation.py:598: DataConversionWarning: A column-vector y was passed when a 1d array was expected. Please change the shape of y to (n_samples,), for example using ravel().\n",
            "  estimator.fit(X_train, y_train, **fit_params)\n",
            "/usr/local/lib/python3.7/dist-packages/sklearn/model_selection/_search.py:880: DataConversionWarning: A column-vector y was passed when a 1d array was expected. Please change the shape of y to (n_samples,), for example using ravel().\n",
            "  self.best_estimator_.fit(X, y, **fit_params)\n",
            "/usr/local/lib/python3.7/dist-packages/sklearn/utils/validation.py:63: DataConversionWarning: A column-vector y was passed when a 1d array was expected. Please change the shape of y to (n_samples, ), for example using ravel().\n",
            "  return f(*args, **kwargs)\n"
          ],
          "name": "stderr"
        }
      ]
    },
    {
      "cell_type": "code",
      "metadata": {
        "colab": {
          "base_uri": "https://localhost:8080/",
          "height": 198
        },
        "id": "eqYt9QDoLDCd",
        "outputId": "2e85c6db-f051-4c3e-f79d-6dad21455582"
      },
      "source": [
        "wandb.init(project=\"sklearn\")\n",
        "model = SelectKBest()\n",
        "wandb.sklearn.plot_elbow_curve(model, X_train)"
      ],
      "execution_count": null,
      "outputs": [
        {
          "output_type": "error",
          "ename": "NameError",
          "evalue": "ignored",
          "traceback": [
            "\u001b[0;31m---------------------------------------------------------------------------\u001b[0m",
            "\u001b[0;31mNameError\u001b[0m                                 Traceback (most recent call last)",
            "\u001b[0;32m<ipython-input-78-b8cacb35fb88>\u001b[0m in \u001b[0;36m<module>\u001b[0;34m()\u001b[0m\n\u001b[0;32m----> 1\u001b[0;31m \u001b[0mwandb\u001b[0m\u001b[0;34m.\u001b[0m\u001b[0minit\u001b[0m\u001b[0;34m(\u001b[0m\u001b[0mproject\u001b[0m\u001b[0;34m=\u001b[0m\u001b[0;34m\"sklearn\"\u001b[0m\u001b[0;34m)\u001b[0m\u001b[0;34m\u001b[0m\u001b[0;34m\u001b[0m\u001b[0m\n\u001b[0m\u001b[1;32m      2\u001b[0m \u001b[0mmodel\u001b[0m \u001b[0;34m=\u001b[0m \u001b[0mSelectKBest\u001b[0m\u001b[0;34m(\u001b[0m\u001b[0;34m)\u001b[0m\u001b[0;34m\u001b[0m\u001b[0;34m\u001b[0m\u001b[0m\n\u001b[1;32m      3\u001b[0m \u001b[0mwandb\u001b[0m\u001b[0;34m.\u001b[0m\u001b[0msklearn\u001b[0m\u001b[0;34m.\u001b[0m\u001b[0mplot_elbow_curve\u001b[0m\u001b[0;34m(\u001b[0m\u001b[0mmodel\u001b[0m\u001b[0;34m,\u001b[0m \u001b[0mX_train\u001b[0m\u001b[0;34m)\u001b[0m\u001b[0;34m\u001b[0m\u001b[0;34m\u001b[0m\u001b[0m\n",
            "\u001b[0;31mNameError\u001b[0m: name 'wandb' is not defined"
          ]
        }
      ]
    },
    {
      "cell_type": "code",
      "metadata": {
        "colab": {
          "base_uri": "https://localhost:8080/",
          "height": 409
        },
        "id": "U4TeQw4e0W4G",
        "outputId": "7fc21fa5-d380-4987-c5e9-bc644223956d"
      },
      "source": [
        "wandb.sklearn.plot_regressor(reg, X_train, X_test, y_train, y_test, model_name='Ridge')\n",
        "wandb.sklearn.plot_summary_metrics(reg, X_train, X_test, y_train, y_test)"
      ],
      "execution_count": null,
      "outputs": [
        {
          "output_type": "error",
          "ename": "ValueError",
          "evalue": "ignored",
          "traceback": [
            "\u001b[0;31m---------------------------------------------------------------------------\u001b[0m",
            "\u001b[0;31mValueError\u001b[0m                                Traceback (most recent call last)",
            "\u001b[0;32m<ipython-input-45-ba14fcdbcdbf>\u001b[0m in \u001b[0;36m<module>\u001b[0;34m()\u001b[0m\n\u001b[1;32m      1\u001b[0m \u001b[0;31m#wandb.sklearn.plot_regressor(reg, X_train, X_test, y_train, y_test, model_name='Ridge')\u001b[0m\u001b[0;34m\u001b[0m\u001b[0;34m\u001b[0m\u001b[0;34m\u001b[0m\u001b[0m\n\u001b[0;32m----> 2\u001b[0;31m \u001b[0mwandb\u001b[0m\u001b[0;34m.\u001b[0m\u001b[0msklearn\u001b[0m\u001b[0;34m.\u001b[0m\u001b[0mplot_summary_metrics\u001b[0m\u001b[0;34m(\u001b[0m\u001b[0mreg\u001b[0m\u001b[0;34m,\u001b[0m \u001b[0mX_train\u001b[0m\u001b[0;34m,\u001b[0m \u001b[0mX_test\u001b[0m\u001b[0;34m,\u001b[0m \u001b[0my_train\u001b[0m\u001b[0;34m,\u001b[0m \u001b[0my_test\u001b[0m\u001b[0;34m)\u001b[0m\u001b[0;34m\u001b[0m\u001b[0;34m\u001b[0m\u001b[0m\n\u001b[0m",
            "\u001b[0;32m/usr/local/lib/python3.7/dist-packages/wandb/sklearn/__init__.py\u001b[0m in \u001b[0;36mplot_summary_metrics\u001b[0;34m(model, X, y, X_test, y_test)\u001b[0m\n\u001b[1;32m    291\u001b[0m         \u001b[0mwandb\u001b[0m\u001b[0;34m.\u001b[0m\u001b[0msklearn\u001b[0m\u001b[0;34m.\u001b[0m\u001b[0mplot_summary_metrics\u001b[0m\u001b[0;34m(\u001b[0m\u001b[0mmodel\u001b[0m\u001b[0;34m,\u001b[0m \u001b[0mX_train\u001b[0m\u001b[0;34m,\u001b[0m \u001b[0my_train\u001b[0m\u001b[0;34m,\u001b[0m \u001b[0mX_test\u001b[0m\u001b[0;34m,\u001b[0m \u001b[0my_test\u001b[0m\u001b[0;34m)\u001b[0m\u001b[0;34m\u001b[0m\u001b[0;34m\u001b[0m\u001b[0m\n\u001b[1;32m    292\u001b[0m     \"\"\"\n\u001b[0;32m--> 293\u001b[0;31m     \u001b[0mwandb\u001b[0m\u001b[0;34m.\u001b[0m\u001b[0mlog\u001b[0m\u001b[0;34m(\u001b[0m\u001b[0;34m{\u001b[0m\u001b[0;34m\"summary_metrics\"\u001b[0m\u001b[0;34m:\u001b[0m \u001b[0msummary_metrics\u001b[0m\u001b[0;34m(\u001b[0m\u001b[0mmodel\u001b[0m\u001b[0;34m,\u001b[0m \u001b[0mX\u001b[0m\u001b[0;34m,\u001b[0m \u001b[0my\u001b[0m\u001b[0;34m,\u001b[0m \u001b[0mX_test\u001b[0m\u001b[0;34m,\u001b[0m \u001b[0my_test\u001b[0m\u001b[0;34m)\u001b[0m\u001b[0;34m}\u001b[0m\u001b[0;34m)\u001b[0m\u001b[0;34m\u001b[0m\u001b[0;34m\u001b[0m\u001b[0m\n\u001b[0m\u001b[1;32m    294\u001b[0m \u001b[0;34m\u001b[0m\u001b[0m\n\u001b[1;32m    295\u001b[0m \u001b[0;34m\u001b[0m\u001b[0m\n",
            "\u001b[0;32m/usr/local/lib/python3.7/dist-packages/wandb/sklearn/__init__.py\u001b[0m in \u001b[0;36msummary_metrics\u001b[0;34m(model, X, y, X_test, y_test)\u001b[0m\n\u001b[1;32m    246\u001b[0m         \u001b[0;31m# Regression Metrics\u001b[0m\u001b[0;34m\u001b[0m\u001b[0;34m\u001b[0m\u001b[0;34m\u001b[0m\u001b[0m\n\u001b[1;32m    247\u001b[0m         \u001b[0;32melif\u001b[0m \u001b[0msklearn\u001b[0m\u001b[0;34m.\u001b[0m\u001b[0mbase\u001b[0m\u001b[0;34m.\u001b[0m\u001b[0mis_regressor\u001b[0m\u001b[0;34m(\u001b[0m\u001b[0mmodel\u001b[0m\u001b[0;34m)\u001b[0m\u001b[0;34m:\u001b[0m\u001b[0;34m\u001b[0m\u001b[0;34m\u001b[0m\u001b[0m\n\u001b[0;32m--> 248\u001b[0;31m             \u001b[0my_pred\u001b[0m \u001b[0;34m=\u001b[0m \u001b[0mmodel\u001b[0m\u001b[0;34m.\u001b[0m\u001b[0mpredict\u001b[0m\u001b[0;34m(\u001b[0m\u001b[0mX_test\u001b[0m\u001b[0;34m)\u001b[0m\u001b[0;34m\u001b[0m\u001b[0;34m\u001b[0m\u001b[0m\n\u001b[0m\u001b[1;32m    249\u001b[0m \u001b[0;34m\u001b[0m\u001b[0m\n\u001b[1;32m    250\u001b[0m             \u001b[0mmetric_name\u001b[0m\u001b[0;34m.\u001b[0m\u001b[0mappend\u001b[0m\u001b[0;34m(\u001b[0m\u001b[0;34m\"mae\"\u001b[0m\u001b[0;34m)\u001b[0m\u001b[0;34m\u001b[0m\u001b[0;34m\u001b[0m\u001b[0m\n",
            "\u001b[0;32m/usr/local/lib/python3.7/dist-packages/sklearn/linear_model/_base.py\u001b[0m in \u001b[0;36mpredict\u001b[0;34m(self, X)\u001b[0m\n\u001b[1;32m    236\u001b[0m             \u001b[0mReturns\u001b[0m \u001b[0mpredicted\u001b[0m \u001b[0mvalues\u001b[0m\u001b[0;34m.\u001b[0m\u001b[0;34m\u001b[0m\u001b[0;34m\u001b[0m\u001b[0m\n\u001b[1;32m    237\u001b[0m         \"\"\"\n\u001b[0;32m--> 238\u001b[0;31m         \u001b[0;32mreturn\u001b[0m \u001b[0mself\u001b[0m\u001b[0;34m.\u001b[0m\u001b[0m_decision_function\u001b[0m\u001b[0;34m(\u001b[0m\u001b[0mX\u001b[0m\u001b[0;34m)\u001b[0m\u001b[0;34m\u001b[0m\u001b[0;34m\u001b[0m\u001b[0m\n\u001b[0m\u001b[1;32m    239\u001b[0m \u001b[0;34m\u001b[0m\u001b[0m\n\u001b[1;32m    240\u001b[0m     \u001b[0m_preprocess_data\u001b[0m \u001b[0;34m=\u001b[0m \u001b[0mstaticmethod\u001b[0m\u001b[0;34m(\u001b[0m\u001b[0m_preprocess_data\u001b[0m\u001b[0;34m)\u001b[0m\u001b[0;34m\u001b[0m\u001b[0;34m\u001b[0m\u001b[0m\n",
            "\u001b[0;32m/usr/local/lib/python3.7/dist-packages/sklearn/linear_model/_base.py\u001b[0m in \u001b[0;36m_decision_function\u001b[0;34m(self, X)\u001b[0m\n\u001b[1;32m    218\u001b[0m         \u001b[0mcheck_is_fitted\u001b[0m\u001b[0;34m(\u001b[0m\u001b[0mself\u001b[0m\u001b[0;34m)\u001b[0m\u001b[0;34m\u001b[0m\u001b[0;34m\u001b[0m\u001b[0m\n\u001b[1;32m    219\u001b[0m \u001b[0;34m\u001b[0m\u001b[0m\n\u001b[0;32m--> 220\u001b[0;31m         \u001b[0mX\u001b[0m \u001b[0;34m=\u001b[0m \u001b[0mcheck_array\u001b[0m\u001b[0;34m(\u001b[0m\u001b[0mX\u001b[0m\u001b[0;34m,\u001b[0m \u001b[0maccept_sparse\u001b[0m\u001b[0;34m=\u001b[0m\u001b[0;34m[\u001b[0m\u001b[0;34m'csr'\u001b[0m\u001b[0;34m,\u001b[0m \u001b[0;34m'csc'\u001b[0m\u001b[0;34m,\u001b[0m \u001b[0;34m'coo'\u001b[0m\u001b[0;34m]\u001b[0m\u001b[0;34m)\u001b[0m\u001b[0;34m\u001b[0m\u001b[0;34m\u001b[0m\u001b[0m\n\u001b[0m\u001b[1;32m    221\u001b[0m         return safe_sparse_dot(X, self.coef_.T,\n\u001b[1;32m    222\u001b[0m                                dense_output=True) + self.intercept_\n",
            "\u001b[0;32m/usr/local/lib/python3.7/dist-packages/sklearn/utils/validation.py\u001b[0m in \u001b[0;36minner_f\u001b[0;34m(*args, **kwargs)\u001b[0m\n\u001b[1;32m     61\u001b[0m             \u001b[0mextra_args\u001b[0m \u001b[0;34m=\u001b[0m \u001b[0mlen\u001b[0m\u001b[0;34m(\u001b[0m\u001b[0margs\u001b[0m\u001b[0;34m)\u001b[0m \u001b[0;34m-\u001b[0m \u001b[0mlen\u001b[0m\u001b[0;34m(\u001b[0m\u001b[0mall_args\u001b[0m\u001b[0;34m)\u001b[0m\u001b[0;34m\u001b[0m\u001b[0;34m\u001b[0m\u001b[0m\n\u001b[1;32m     62\u001b[0m             \u001b[0;32mif\u001b[0m \u001b[0mextra_args\u001b[0m \u001b[0;34m<=\u001b[0m \u001b[0;36m0\u001b[0m\u001b[0;34m:\u001b[0m\u001b[0;34m\u001b[0m\u001b[0;34m\u001b[0m\u001b[0m\n\u001b[0;32m---> 63\u001b[0;31m                 \u001b[0;32mreturn\u001b[0m \u001b[0mf\u001b[0m\u001b[0;34m(\u001b[0m\u001b[0;34m*\u001b[0m\u001b[0margs\u001b[0m\u001b[0;34m,\u001b[0m \u001b[0;34m**\u001b[0m\u001b[0mkwargs\u001b[0m\u001b[0;34m)\u001b[0m\u001b[0;34m\u001b[0m\u001b[0;34m\u001b[0m\u001b[0m\n\u001b[0m\u001b[1;32m     64\u001b[0m \u001b[0;34m\u001b[0m\u001b[0m\n\u001b[1;32m     65\u001b[0m             \u001b[0;31m# extra_args > 0\u001b[0m\u001b[0;34m\u001b[0m\u001b[0;34m\u001b[0m\u001b[0;34m\u001b[0m\u001b[0m\n",
            "\u001b[0;32m/usr/local/lib/python3.7/dist-packages/sklearn/utils/validation.py\u001b[0m in \u001b[0;36mcheck_array\u001b[0;34m(array, accept_sparse, accept_large_sparse, dtype, order, copy, force_all_finite, ensure_2d, allow_nd, ensure_min_samples, ensure_min_features, estimator)\u001b[0m\n\u001b[1;32m    696\u001b[0m                     \u001b[0;34m\"Reshape your data either using array.reshape(-1, 1) if \"\u001b[0m\u001b[0;34m\u001b[0m\u001b[0;34m\u001b[0m\u001b[0m\n\u001b[1;32m    697\u001b[0m                     \u001b[0;34m\"your data has a single feature or array.reshape(1, -1) \"\u001b[0m\u001b[0;34m\u001b[0m\u001b[0;34m\u001b[0m\u001b[0m\n\u001b[0;32m--> 698\u001b[0;31m                     \"if it contains a single sample.\".format(array))\n\u001b[0m\u001b[1;32m    699\u001b[0m \u001b[0;34m\u001b[0m\u001b[0m\n\u001b[1;32m    700\u001b[0m         \u001b[0;31m# make sure we actually converted to numeric:\u001b[0m\u001b[0;34m\u001b[0m\u001b[0;34m\u001b[0m\u001b[0;34m\u001b[0m\u001b[0m\n",
            "\u001b[0;31mValueError\u001b[0m: Expected 2D array, got 1D array instead:\narray=[7.3 7.2 8.  ... 7.3 9.4 5.2].\nReshape your data either using array.reshape(-1, 1) if your data has a single feature or array.reshape(1, -1) if it contains a single sample."
          ]
        }
      ]
    },
    {
      "cell_type": "markdown",
      "metadata": {
        "id": "i7_Jbd0NHqnz"
      },
      "source": [
        "Ensemble Shiz"
      ]
    },
    {
      "cell_type": "code",
      "metadata": {
        "id": "TsIrsovQHuV8"
      },
      "source": [
        "import numpy as np \n",
        "import sklearn as sk\n",
        "from sklearn import datasets\n",
        "from sklearn import metrics\n",
        "from sklearn import svm\n",
        "from sklearn import linear_model\n",
        "from sklearn import cluster\n",
        "from sklearn import model_selection\n",
        "from sklearn.datasets import load_iris\n",
        "from sklearn.linear_model import LinearRegression, LogisticRegression, ElasticNet\n",
        "from sklearn.model_selection import train_test_split\n",
        "from sklearn.linear_model import PassiveAggressiveClassifier\n",
        "import pandas as pd\n",
        "from sklearn.metrics import accuracy_score\n",
        "from sklearn.metrics import explained_variance_score\n",
        "from sklearn.metrics import r2_score\n",
        "from sklearn.metrics import mean_squared_error\n",
        "from sklearn.linear_model import Ridge, Lasso, ARDRegression\n",
        "from sklearn.linear_model import SGDRegressor\n",
        "from sklearn.pipeline import make_pipeline\n",
        "from sklearn.preprocessing import StandardScaler\n",
        "from sklearn.svm import LinearSVC\n",
        "from sklearn.svm import NuSVR, SVR\n",
        "from sklearn.tree import DecisionTreeRegressor, ExtraTreeRegressor\n",
        "from sklearn.gaussian_process import GaussianProcessRegressor\n",
        "from sklearn.gaussian_process.kernels import DotProduct, WhiteKernel\n",
        "from sklearn.linear_model import TweedieRegressor, PoissonRegressor, GammaRegressor\n",
        "from sklearn.model_selection import validation_curve\n",
        "from sklearn.decomposition import PCA\n",
        "from sklearn.decomposition import FactorAnalysis, PCA\n",
        "from sklearn.preprocessing import StandardScaler\n",
        "import matplotlib.pyplot as plt\n",
        "from sklearn.feature_selection import SelectKBest\n",
        "from sklearn.feature_selection import chi2, mutual_info_regression\n",
        "from sklearn.ensemble import RandomForestRegressor, AdaBoostRegressor\n",
        "from sklearn import metrics\n",
        "from sklearn.model_selection import RandomizedSearchCV\n",
        "from sklearn.experimental import enable_halving_search_cv # noqa\n",
        "from sklearn.model_selection import HalvingGridSearchCV\n",
        "from sklearn.decomposition import FastICA"
      ],
      "execution_count": null,
      "outputs": []
    },
    {
      "cell_type": "code",
      "metadata": {
        "colab": {
          "base_uri": "https://localhost:8080/"
        },
        "id": "iDznW4S9Hsjn",
        "outputId": "90904621-9cb8-4bd2-c59c-dcb32acca1c6"
      },
      "source": [
        "rf = RandomForestRegressor()\n",
        "param_grid = {'n_estimators': [47],\n",
        "              \"max_depth\": [6],\n",
        "              \"max_features\" : ['auto'],\n",
        "              \"min_samples_split\" : [15],\n",
        "              \"min_samples_leaf\" : [13]}\n",
        "\n",
        "\n",
        "search = HalvingGridSearchCV(rf, param_grid, random_state=42)\n",
        "search.fit(X_train, y_train)\n",
        "y_pred = search.predict(X_test)\n",
        "\n",
        "\n",
        "rvalues.append(r2_score(y_true, CC))\n",
        "mae.append(mean_absolute_error(y_true, CC))\n",
        "mape.append(mean_absolute_percentage_error(y_true, CC))\n",
        "names.append(\"RandomForestRegressor\")\n",
        "# Visualize all regression plots"
      ],
      "execution_count": null,
      "outputs": [
        {
          "output_type": "stream",
          "text": [
            "/usr/local/lib/python3.7/dist-packages/sklearn/model_selection/_validation.py:598: DataConversionWarning: A column-vector y was passed when a 1d array was expected. Please change the shape of y to (n_samples,), for example using ravel().\n",
            "  estimator.fit(X_train, y_train, **fit_params)\n",
            "/usr/local/lib/python3.7/dist-packages/sklearn/model_selection/_validation.py:598: DataConversionWarning: A column-vector y was passed when a 1d array was expected. Please change the shape of y to (n_samples,), for example using ravel().\n",
            "  estimator.fit(X_train, y_train, **fit_params)\n",
            "/usr/local/lib/python3.7/dist-packages/sklearn/model_selection/_validation.py:598: DataConversionWarning: A column-vector y was passed when a 1d array was expected. Please change the shape of y to (n_samples,), for example using ravel().\n",
            "  estimator.fit(X_train, y_train, **fit_params)\n",
            "/usr/local/lib/python3.7/dist-packages/sklearn/model_selection/_validation.py:598: DataConversionWarning: A column-vector y was passed when a 1d array was expected. Please change the shape of y to (n_samples,), for example using ravel().\n",
            "  estimator.fit(X_train, y_train, **fit_params)\n",
            "/usr/local/lib/python3.7/dist-packages/sklearn/model_selection/_validation.py:598: DataConversionWarning: A column-vector y was passed when a 1d array was expected. Please change the shape of y to (n_samples,), for example using ravel().\n",
            "  estimator.fit(X_train, y_train, **fit_params)\n",
            "/usr/local/lib/python3.7/dist-packages/sklearn/model_selection/_search.py:880: DataConversionWarning: A column-vector y was passed when a 1d array was expected. Please change the shape of y to (n_samples,), for example using ravel().\n",
            "  self.best_estimator_.fit(X, y, **fit_params)\n"
          ],
          "name": "stderr"
        }
      ]
    },
    {
      "cell_type": "code",
      "metadata": {
        "colab": {
          "base_uri": "https://localhost:8080/"
        },
        "id": "H4YOVhNrxP4f",
        "outputId": "c6264087-c9bd-45a8-b18b-ee6f35c92d6e"
      },
      "source": [
        "print(rvalues)\n",
        "print(mae)\n",
        "print(mape)\n",
        "print(names)\n",
        "print(len(rvalues))\n",
        "print(len(mae))\n",
        "print(len(mape))\n",
        "print(len(names))"
      ],
      "execution_count": null,
      "outputs": [
        {
          "output_type": "stream",
          "text": [
            "[0.07449193625313755, 0.040179487660894186, 0.0744960045695392, 0.07219454240866297, 0.09798695243986666, 0.07414233396275371, -0.7553151480476215, -0.8082836271460718, 0.06703541041610728, 0.06639225075468291, 0.06639225075468291]\n",
            "[0.8617826580324999, 0.8719773818428059, 0.8617748767734641, 0.8604941291792909, 0.8199485267243471, 0.8205549506111469, 1.1837022622233033, 1.1975918268061299, 0.8622605258816143, 0.8618734189334644, 0.8618734189334644]\n",
            "[0.159354657860814, 0.16129325644553055, 0.15935369414123554, 0.1593235124010905, 0.15609246909762997, 0.1578410554507373, 0.20455329880743192, 0.20547852788302517, 0.15949138139032534, 0.1595471356077582, 0.1595471356077582]\n",
            "['LinearRegression', 'ElastcNet', 'Ridge', 'Lasso', 'NuSVR', 'SVR', 'DecisionTreeRegressor', 'ExtraTreeRegressor', 'PoissonRegressor', 'TweedRegressor', 'RandomForestRegressor']\n",
            "11\n",
            "11\n",
            "11\n",
            "11\n"
          ],
          "name": "stdout"
        }
      ]
    },
    {
      "cell_type": "code",
      "metadata": {
        "colab": {
          "base_uri": "https://localhost:8080/"
        },
        "id": "sOFtPvp-Q8Ga",
        "outputId": "213cfb5e-2e3e-4e56-d503-cb43a33a89a1"
      },
      "source": [
        "print(rvalues)\n",
        "print(names)\n",
        "res = {}\n",
        "for key in names:\n",
        "    for value in r2scoresAfter:\n",
        "        res[key] = value\n",
        "        r2scoresAfter.remove(value)\n",
        "        break  \n",
        "\n",
        "\n",
        "print(res)"
      ],
      "execution_count": null,
      "outputs": [
        {
          "output_type": "stream",
          "text": [
            "[]\n",
            "['RFKbest', 'NuSVRKbest', 'RidgeKbest', 'RFICA', 'NuSVRICA', 'RidgeICA', 'RFPCA', 'NuSVRPCA', 'RidgePCA']\n",
            "{'RFKbest': 0.10226284157195487, 'NuSVRKbest': 0.08361253441799732, 'RidgeKbest': 0.07143518823576112, 'RFICA': 0.06729270092505157, 'NuSVRICA': 0.06679533390043757, 'RidgeICA': 0.04534421699873781, 'RFPCA': 0.04858945765908551, 'NuSVRPCA': 0.07969604333518421, 'RidgePCA': 0.06501707926282263}\n"
          ],
          "name": "stdout"
        }
      ]
    },
    {
      "cell_type": "code",
      "metadata": {
        "colab": {
          "base_uri": "https://localhost:8080/"
        },
        "id": "lK9HpbfsS6x2",
        "outputId": "51cd8942-c483-423e-d95f-7f2c97e5fee1"
      },
      "source": [
        "sorted_dict = {}\n",
        "sorted_keys = sorted(res, key=res.get)  # [1, 3, 2]\n",
        "\n",
        "for w in sorted_keys:\n",
        "    sorted_dict[w] = res[w]\n",
        "\n",
        "print(sorted_dict)"
      ],
      "execution_count": null,
      "outputs": [
        {
          "output_type": "stream",
          "text": [
            "{'RidgeICA': 0.04534421699873781, 'RFPCA': 0.04858945765908551, 'RidgePCA': 0.06501707926282263, 'NuSVRICA': 0.06679533390043757, 'RFICA': 0.06729270092505157, 'RidgeKbest': 0.07143518823576112, 'NuSVRPCA': 0.07969604333518421, 'NuSVRKbest': 0.08361253441799732, 'RFKbest': 0.10226284157195487}\n"
          ],
          "name": "stdout"
        }
      ]
    },
    {
      "cell_type": "code",
      "metadata": {
        "id": "BimA5OA3S_mU"
      },
      "source": [
        "rvalues_sorted = []\n",
        "names_sorted = []\n",
        "for key, value in sorted_dict.items():\n",
        "    temp = [key,value]\n",
        "    names_sorted.append(key)\n",
        "    rvalues_sorted.append(value)"
      ],
      "execution_count": null,
      "outputs": []
    },
    {
      "cell_type": "code",
      "metadata": {
        "colab": {
          "base_uri": "https://localhost:8080/",
          "height": 535
        },
        "id": "Ty4cbaEmIDEo",
        "outputId": "6de87f74-cf6b-41e8-e0ad-161b7d64e566"
      },
      "source": [
        "print(len(rvalues_sorted))\n",
        "print(len(names_sorted))\n",
        "import seaborn as sns\n",
        "sns.set_theme(style=\"whitegrid\")\n",
        "\n",
        "plt.figure(figsize=(10,8))\n",
        "ax = sns.barplot(x=rvalues_sorted, y=names_sorted)\n",
        "ax.set_title(\"R^2 Values For Regression Models\")\n",
        "ax.figure.savefig('comparingREGmodels_REAL_BIG.png')"
      ],
      "execution_count": null,
      "outputs": [
        {
          "output_type": "stream",
          "text": [
            "9\n",
            "9\n"
          ],
          "name": "stdout"
        },
        {
          "output_type": "display_data",
          "data": {
            "image/png": "[encoded data removed]",
            "text/plain": [
              "<Figure size 720x576 with 1 Axes>"
            ]
          },
          "metadata": {
            "tags": []
          }
        }
      ]
    }
  ]
}