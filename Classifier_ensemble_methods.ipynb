{
  "nbformat": 4,
  "nbformat_minor": 0,
  "metadata": {
    "colab": {
      "name": "Classifier_ensemble_methods.ipynb",
      "provenance": [],
      "collapsed_sections": []
    },
    "kernelspec": {
      "name": "python3",
      "display_name": "Python 3"
    },
    "language_info": {
      "name": "python"
    }
  },
  "cells": [
    {
      "cell_type": "code",
      "metadata": {
        "colab": {
          "base_uri": "https://localhost:8080/"
        },
        "id": "XjA1Xbp2BKa4",
        "outputId": "32416619-2346-4d81-d55b-07e1b9d47939"
      },
      "source": [
        "!pip uninstall scikit-learn -y\n",
        "\n",
        "!pip install -U scikit-learn"
      ],
      "execution_count": null,
      "outputs": [
        {
          "output_type": "stream",
          "text": [
            "Uninstalling scikit-learn-0.22.2.post1:\n",
            "  Successfully uninstalled scikit-learn-0.22.2.post1\n",
            "Collecting scikit-learn\n",
            "\u001b[?25l  Downloading https://files.pythonhosted.org/packages/a8/eb/a48f25c967526b66d5f1fa7a984594f0bf0a5afafa94a8c4dbc317744620/scikit_learn-0.24.2-cp37-cp37m-manylinux2010_x86_64.whl (22.3MB)\n",
            "\u001b[K     |████████████████████████████████| 22.3MB 2.1MB/s \n",
            "\u001b[?25hRequirement already satisfied, skipping upgrade: joblib>=0.11 in /usr/local/lib/python3.7/dist-packages (from scikit-learn) (1.0.1)\n",
            "Requirement already satisfied, skipping upgrade: scipy>=0.19.1 in /usr/local/lib/python3.7/dist-packages (from scikit-learn) (1.4.1)\n",
            "Requirement already satisfied, skipping upgrade: numpy>=1.13.3 in /usr/local/lib/python3.7/dist-packages (from scikit-learn) (1.19.5)\n",
            "Collecting threadpoolctl>=2.0.0\n",
            "  Downloading https://files.pythonhosted.org/packages/f7/12/ec3f2e203afa394a149911729357aa48affc59c20e2c1c8297a60f33f133/threadpoolctl-2.1.0-py3-none-any.whl\n",
            "Installing collected packages: threadpoolctl, scikit-learn\n",
            "Successfully installed scikit-learn-0.24.2 threadpoolctl-2.1.0\n"
          ],
          "name": "stdout"
        }
      ]
    },
    {
      "cell_type": "code",
      "metadata": {
        "id": "Bn7GR680thaF"
      },
      "source": [
        "import numpy as np \n",
        "import sklearn as sk\n",
        "from sklearn import datasets\n",
        "from sklearn import metrics\n",
        "from sklearn import svm\n",
        "from sklearn import linear_model\n",
        "from sklearn import cluster\n",
        "from sklearn import model_selection\n",
        "from sklearn.datasets import load_iris\n",
        "from sklearn.linear_model import LogisticRegression\n",
        "from sklearn.model_selection import train_test_split\n",
        "from sklearn.linear_model import PassiveAggressiveClassifier\n",
        "from sklearn.linear_model import Perceptron\n",
        "from sklearn.linear_model import RidgeClassifier\n",
        "import pandas as pd\n",
        "from sklearn.metrics import accuracy_score\n",
        "from sklearn.metrics import explained_variance_score\n",
        "from sklearn.metrics import r2_score\n",
        "from sklearn.metrics import mean_squared_error\n",
        "from sklearn.linear_model import Ridge, Lasso, ARDRegression\n",
        "from sklearn.linear_model import SGDRegressor\n",
        "from sklearn.pipeline import make_pipeline\n",
        "from sklearn.preprocessing import StandardScaler\n",
        "from sklearn.svm import LinearSVC\n",
        "from sklearn.svm import NuSVR, SVR, SVC\n",
        "from sklearn.tree import DecisionTreeRegressor, ExtraTreeRegressor\n",
        "from sklearn.gaussian_process import GaussianProcessRegressor\n",
        "from sklearn.gaussian_process.kernels import DotProduct, WhiteKernel\n",
        "from sklearn.model_selection import validation_curve\n",
        "from sklearn.decomposition import PCA\n",
        "from sklearn.decomposition import FactorAnalysis, PCA\n",
        "from sklearn.decomposition import FastICA\n",
        "from sklearn.preprocessing import StandardScaler\n",
        "import matplotlib.pyplot as plt\n",
        "from sklearn.metrics import confusion_matrix, plot_confusion_matrix, ConfusionMatrixDisplay\n",
        "from sklearn.metrics import classification_report, confusion_matrix, accuracy_score, precision_recall_curve, roc_curve, accuracy_score\n",
        "from sklearn.naive_bayes import BernoulliNB, GaussianNB, MultinomialNB\n",
        "from sklearn.feature_selection import SelectKBest, chi2\n",
        "from sklearn.preprocessing import MinMaxScaler\n",
        "from sklearn.ensemble import AdaBoostClassifier, BaggingClassifier\n",
        "from sklearn.ensemble import ExtraTreesClassifier\n",
        "from sklearn.ensemble import GradientBoostingClassifier"
      ],
      "execution_count": null,
      "outputs": []
    },
    {
      "cell_type": "code",
      "metadata": {
        "id": "UA1L0eivwKLR"
      },
      "source": [
        "the_real_one_real = pd.read_csv('DA_BIG_MAN.csv')\n",
        "X_test = pd.read_csv('DA_BIG_MAN_X_TEST.csv')\n",
        "X_train = pd.read_csv('DA_BIG_MAN_X_TRAIN.csv')\n",
        "Y_test_3 = pd.read_csv('THE_REAL_ONE_Y_TEST_CLASSIFICATION_TRI.csv')\n",
        "Y_train_3 = pd.read_csv('THE_REAL_ONE_Y_TRAIN_CLASSIFICATION_TRI.csv')\n",
        "Y_test_ten = pd.read_csv('THE_REAL_ONE_Y_TEST_CLASSIFICATION.csv')\n",
        "Y_train_ten = pd.read_csv('THE_REAL_ONE_Y_TRAIN_CLASSIFICATION.csv')\n"
      ],
      "execution_count": null,
      "outputs": []
    },
    {
      "cell_type": "code",
      "metadata": {
        "id": "b5Qqzs7fwLGM"
      },
      "source": [
        "def classification_scores(y_preds, y_true, target_names, plot = False) :\n",
        "  class_rep = classification_report(y_true, y_preds, target_names=target_names)\n",
        "  print(class_rep)    \n",
        "  return class_rep"
      ],
      "execution_count": null,
      "outputs": []
    },
    {
      "cell_type": "markdown",
      "metadata": {
        "id": "LLw9yt24wLX4"
      },
      "source": [
        "ADA"
      ]
    },
    {
      "cell_type": "markdown",
      "metadata": {
        "id": "eFzrFSbNx-g5"
      },
      "source": [
        "3 buckets"
      ]
    },
    {
      "cell_type": "code",
      "metadata": {
        "colab": {
          "base_uri": "https://localhost:8080/"
        },
        "id": "o6WDE19lwMxa",
        "outputId": "26b65199-d9ed-440a-9524-5f7695bd18fb"
      },
      "source": [
        "clf = AdaBoostClassifier(n_estimators=100, random_state=0)\n",
        "clf.fit(X_train, Y_train_3)\n",
        "clf.predict(X_test)\n",
        "predictions = clf.predict(X_test)\n",
        "num_score = clf.score(X_test, Y_test_3)\n",
        "num_score"
      ],
      "execution_count": null,
      "outputs": [
        {
          "output_type": "stream",
          "text": [
            "/usr/local/lib/python3.7/dist-packages/sklearn/utils/validation.py:760: DataConversionWarning: A column-vector y was passed when a 1d array was expected. Please change the shape of y to (n_samples, ), for example using ravel().\n",
            "  y = column_or_1d(y, warn=True)\n"
          ],
          "name": "stderr"
        },
        {
          "output_type": "execute_result",
          "data": {
            "text/plain": [
              "0.4449039163220628"
            ]
          },
          "metadata": {
            "tags": []
          },
          "execution_count": 7
        }
      ]
    },
    {
      "cell_type": "code",
      "metadata": {
        "colab": {
          "base_uri": "https://localhost:8080/"
        },
        "id": "F2tjRT4HykGQ",
        "outputId": "750881b5-1acb-4d23-dc49-3bf08ebb560f"
      },
      "source": [
        "clf = AdaBoostClassifier(n_estimators=100, random_state=0)\n",
        "clf.fit(X_train, Y_train_ten)\n",
        "clf.predict(X_test)\n",
        "predictions = clf.predict(X_test)\n",
        "num_score = clf.score(X_test, Y_test_ten)\n",
        "num_score"
      ],
      "execution_count": null,
      "outputs": [
        {
          "output_type": "stream",
          "text": [
            "/usr/local/lib/python3.7/dist-packages/sklearn/utils/validation.py:760: DataConversionWarning: A column-vector y was passed when a 1d array was expected. Please change the shape of y to (n_samples, ), for example using ravel().\n",
            "  y = column_or_1d(y, warn=True)\n"
          ],
          "name": "stderr"
        },
        {
          "output_type": "execute_result",
          "data": {
            "text/plain": [
              "0.3928484553636585"
            ]
          },
          "metadata": {
            "tags": []
          },
          "execution_count": 8
        }
      ]
    },
    {
      "cell_type": "markdown",
      "metadata": {
        "id": "AIV67uwkyy9n"
      },
      "source": [
        "Bagging"
      ]
    },
    {
      "cell_type": "code",
      "metadata": {
        "colab": {
          "base_uri": "https://localhost:8080/"
        },
        "id": "-5UjSWOzy4bq",
        "outputId": "7d4d491e-dfaa-4200-bb07-58eca5117b4f"
      },
      "source": [
        "clf = BaggingClassifier(base_estimator=SVC(),\n",
        "                        n_estimators=10, random_state=0)\n",
        "clf.fit(X_train, Y_train_3)\n",
        "clf.predict(X_test)\n",
        "predictions = clf.predict(X_test)\n",
        "num_score = clf.score(X_test, Y_test_3)\n",
        "num_score"
      ],
      "execution_count": null,
      "outputs": [
        {
          "output_type": "stream",
          "text": [
            "/usr/local/lib/python3.7/dist-packages/sklearn/ensemble/_bagging.py:645: DataConversionWarning: A column-vector y was passed when a 1d array was expected. Please change the shape of y to (n_samples, ), for example using ravel().\n",
            "  y = column_or_1d(y, warn=True)\n"
          ],
          "name": "stderr"
        },
        {
          "output_type": "execute_result",
          "data": {
            "text/plain": [
              "0.4368766723424957"
            ]
          },
          "metadata": {
            "tags": []
          },
          "execution_count": 3
        }
      ]
    },
    {
      "cell_type": "code",
      "metadata": {
        "colab": {
          "base_uri": "https://localhost:8080/"
        },
        "id": "Z5xM-Dduy2bM",
        "outputId": "94d1a149-97b5-42f9-a38c-ac1f5d04c10c"
      },
      "source": [
        "clf = BaggingClassifier(base_estimator=SVC(),\n",
        "                        n_estimators=10, random_state=0)\n",
        "clf.fit(X_train, Y_train_ten)\n",
        "clf.predict(X_test)\n",
        "predictions = clf.predict(X_test)\n",
        "num_score = clf.score(X_test, Y_test_ten)\n",
        "num_score"
      ],
      "execution_count": null,
      "outputs": [
        {
          "output_type": "stream",
          "text": [
            "/usr/local/lib/python3.7/dist-packages/sklearn/ensemble/_bagging.py:645: DataConversionWarning: A column-vector y was passed when a 1d array was expected. Please change the shape of y to (n_samples, ), for example using ravel().\n",
            "  y = column_or_1d(y, warn=True)\n"
          ],
          "name": "stderr"
        },
        {
          "output_type": "execute_result",
          "data": {
            "text/plain": [
              "0.3891997081002189"
            ]
          },
          "metadata": {
            "tags": []
          },
          "execution_count": 4
        }
      ]
    },
    {
      "cell_type": "markdown",
      "metadata": {
        "id": "_vHM2uew2BeF"
      },
      "source": [
        "ExtraTreeClassifier"
      ]
    },
    {
      "cell_type": "code",
      "metadata": {
        "colab": {
          "base_uri": "https://localhost:8080/"
        },
        "id": "Crt-igIa2eVP",
        "outputId": "be6e02b4-7c49-4715-e675-6b82c2a5b678"
      },
      "source": [
        "clf = ExtraTreesClassifier(n_estimators=100, random_state=0)\n",
        "clf.fit(X_train, Y_train_3)\n",
        "clf.predict(X_test)\n",
        "predictions = clf.predict(X_test)\n",
        "num_score = clf.score(X_test, Y_test_3)\n",
        "num_score"
      ],
      "execution_count": null,
      "outputs": [
        {
          "output_type": "stream",
          "text": [
            "/usr/local/lib/python3.7/dist-packages/ipykernel_launcher.py:2: DataConversionWarning: A column-vector y was passed when a 1d array was expected. Please change the shape of y to (n_samples,), for example using ravel().\n",
            "  \n"
          ],
          "name": "stderr"
        },
        {
          "output_type": "execute_result",
          "data": {
            "text/plain": [
              "0.4483094137679397"
            ]
          },
          "metadata": {
            "tags": []
          },
          "execution_count": 5
        }
      ]
    },
    {
      "cell_type": "code",
      "metadata": {
        "colab": {
          "base_uri": "https://localhost:8080/"
        },
        "id": "ZRgNcdxW2Flq",
        "outputId": "9c2d3e98-f488-447b-8ac2-1ebb44fc7bb6"
      },
      "source": [
        "clf = ExtraTreesClassifier(n_estimators=100, random_state=0)\n",
        "clf.fit(X_train, Y_train_ten)\n",
        "clf.predict(X_test)\n",
        "predictions = clf.predict(X_test)\n",
        "num_score = clf.score(X_test, Y_test_ten)\n",
        "num_score"
      ],
      "execution_count": null,
      "outputs": [
        {
          "output_type": "stream",
          "text": [
            "/usr/local/lib/python3.7/dist-packages/ipykernel_launcher.py:2: DataConversionWarning: A column-vector y was passed when a 1d array was expected. Please change the shape of y to (n_samples,), for example using ravel().\n",
            "  \n"
          ],
          "name": "stderr"
        },
        {
          "output_type": "execute_result",
          "data": {
            "text/plain": [
              "0.39138895645828264"
            ]
          },
          "metadata": {
            "tags": []
          },
          "execution_count": 6
        }
      ]
    },
    {
      "cell_type": "markdown",
      "metadata": {
        "id": "82lUjOzc2kbn"
      },
      "source": [
        "Gradient Boosting "
      ]
    },
    {
      "cell_type": "code",
      "metadata": {
        "colab": {
          "base_uri": "https://localhost:8080/"
        },
        "id": "hPEjavdy2n3h",
        "outputId": "68898e7a-0afb-4c79-fb51-5dfa6158710c"
      },
      "source": [
        "clf = GradientBoostingClassifier(n_estimators=100, learning_rate=1.0,\n",
        "   max_depth=1, random_state=0)\n",
        "clf.fit(X_train, Y_train_3)\n",
        "clf.predict(X_test)\n",
        "predictions = clf.predict(X_test)\n",
        "num_score = clf.score(X_test, Y_test_3)\n",
        "num_score"
      ],
      "execution_count": null,
      "outputs": [
        {
          "output_type": "stream",
          "text": [
            "/usr/local/lib/python3.7/dist-packages/sklearn/ensemble/_gb.py:1454: DataConversionWarning: A column-vector y was passed when a 1d array was expected. Please change the shape of y to (n_samples, ), for example using ravel().\n",
            "  y = column_or_1d(y, warn=True)\n"
          ],
          "name": "stderr"
        },
        {
          "output_type": "execute_result",
          "data": {
            "text/plain": [
              "0.4490391632206276"
            ]
          },
          "metadata": {
            "tags": []
          },
          "execution_count": 8
        }
      ]
    },
    {
      "cell_type": "code",
      "metadata": {
        "colab": {
          "base_uri": "https://localhost:8080/"
        },
        "id": "uWvuz6mr2z1L",
        "outputId": "6e01b989-d8d3-4d1d-df5b-105de3c14305"
      },
      "source": [
        "clf = GradientBoostingClassifier(n_estimators=100, learning_rate=1.0,\n",
        "    max_depth=1, random_state=0)\n",
        "clf.fit(X_train, Y_train_ten)\n",
        "clf.predict(X_test)\n",
        "predictions = clf.predict(X_test)\n",
        "num_score = clf.score(X_test, Y_test_ten)\n",
        "num_score"
      ],
      "execution_count": null,
      "outputs": [
        {
          "output_type": "stream",
          "text": [
            "/usr/local/lib/python3.7/dist-packages/sklearn/ensemble/_gb.py:1454: DataConversionWarning: A column-vector y was passed when a 1d array was expected. Please change the shape of y to (n_samples, ), for example using ravel().\n",
            "  y = column_or_1d(y, warn=True)\n"
          ],
          "name": "stderr"
        },
        {
          "output_type": "execute_result",
          "data": {
            "text/plain": [
              "0.3901727073704695"
            ]
          },
          "metadata": {
            "tags": []
          },
          "execution_count": 9
        }
      ]
    },
    {
      "cell_type": "markdown",
      "metadata": {
        "id": "-QDpR7MHDwvy"
      },
      "source": [
        "Random Forst"
      ]
    },
    {
      "cell_type": "code",
      "metadata": {
        "id": "gt_Lmkg-DzED"
      },
      "source": [
        "from sklearn.ensemble import RandomForestClassifier"
      ],
      "execution_count": null,
      "outputs": []
    },
    {
      "cell_type": "code",
      "metadata": {
        "colab": {
          "base_uri": "https://localhost:8080/"
        },
        "id": "uP3-BlwxD5tZ",
        "outputId": "18b7441a-6ee5-49c9-d823-bdfea9f67528"
      },
      "source": [
        "clf = RandomForestClassifier(max_depth=2, random_state=0)\n",
        "clf.fit(X_train, Y_train_3)\n",
        "clf.predict(X_test)\n",
        "predictions = clf.predict(X_test)\n",
        "num_score = clf.score(X_test, Y_test_3)\n",
        "num_score"
      ],
      "execution_count": null,
      "outputs": [
        {
          "output_type": "stream",
          "text": [
            "/usr/local/lib/python3.7/dist-packages/ipykernel_launcher.py:2: DataConversionWarning: A column-vector y was passed when a 1d array was expected. Please change the shape of y to (n_samples,), for example using ravel().\n",
            "  \n"
          ],
          "name": "stderr"
        },
        {
          "output_type": "execute_result",
          "data": {
            "text/plain": [
              "0.4288494283629287"
            ]
          },
          "metadata": {
            "tags": []
          },
          "execution_count": 11
        }
      ]
    },
    {
      "cell_type": "code",
      "metadata": {
        "colab": {
          "base_uri": "https://localhost:8080/"
        },
        "id": "yRld59szDzae",
        "outputId": "4159e4b6-d06f-4316-9943-2e6225551412"
      },
      "source": [
        "clf = RandomForestClassifier(max_depth=2, random_state=0)\n",
        "clf.fit(X_train, Y_train_ten)\n",
        "clf.predict(X_test)\n",
        "predictions = clf.predict(X_test)\n",
        "num_score = clf.score(X_test, Y_test_ten)\n",
        "num_score"
      ],
      "execution_count": null,
      "outputs": [
        {
          "output_type": "stream",
          "text": [
            "/usr/local/lib/python3.7/dist-packages/ipykernel_launcher.py:2: DataConversionWarning: A column-vector y was passed when a 1d array was expected. Please change the shape of y to (n_samples,), for example using ravel().\n",
            "  \n"
          ],
          "name": "stderr"
        },
        {
          "output_type": "execute_result",
          "data": {
            "text/plain": [
              "0.39260520554609585"
            ]
          },
          "metadata": {
            "tags": []
          },
          "execution_count": 12
        }
      ]
    },
    {
      "cell_type": "markdown",
      "metadata": {
        "id": "uNQR-BqcEC7-"
      },
      "source": [
        "Stacking"
      ]
    },
    {
      "cell_type": "code",
      "metadata": {
        "id": "rzJ5SVAFEPRO"
      },
      "source": [
        "from sklearn.ensemble import RandomForestClassifier, StackingClassifier\n",
        "from sklearn.svm import LinearSVC\n",
        "from sklearn.linear_model import LogisticRegression\n",
        "from sklearn.preprocessing import StandardScaler"
      ],
      "execution_count": null,
      "outputs": []
    },
    {
      "cell_type": "code",
      "metadata": {
        "colab": {
          "base_uri": "https://localhost:8080/"
        },
        "id": "FqwEzL1pEgfW",
        "outputId": "dc7fe34e-a6cd-4222-994a-0f3c1cf1fca9"
      },
      "source": [
        "estimators = [\n",
        "  ('rf', RandomForestClassifier(n_estimators=10, random_state=42)),\n",
        "  ('svr', make_pipeline(StandardScaler(),\n",
        "                          LinearSVC(random_state=42)))\n",
        "]\n",
        "clf = StackingClassifier(\n",
        "   estimators=estimators, final_estimator=LogisticRegression()\n",
        ")\n",
        "clf.fit(X_train, Y_train_3)\n",
        "clf.predict(X_test)\n",
        "predictions = clf.predict(X_test)\n",
        "num_score = clf.score(X_test, Y_test_3)\n",
        "num_score"
      ],
      "execution_count": null,
      "outputs": [
        {
          "output_type": "stream",
          "text": [
            "/usr/local/lib/python3.7/dist-packages/sklearn/preprocessing/_label.py:235: DataConversionWarning: A column-vector y was passed when a 1d array was expected. Please change the shape of y to (n_samples, ), for example using ravel().\n",
            "  y = column_or_1d(y, warn=True)\n",
            "/usr/local/lib/python3.7/dist-packages/sklearn/preprocessing/_label.py:268: DataConversionWarning: A column-vector y was passed when a 1d array was expected. Please change the shape of y to (n_samples, ), for example using ravel().\n",
            "  y = column_or_1d(y, warn=True)\n",
            "/usr/local/lib/python3.7/dist-packages/sklearn/svm/_base.py:947: ConvergenceWarning: Liblinear failed to converge, increase the number of iterations.\n",
            "  \"the number of iterations.\", ConvergenceWarning)\n",
            "/usr/local/lib/python3.7/dist-packages/sklearn/svm/_base.py:947: ConvergenceWarning: Liblinear failed to converge, increase the number of iterations.\n",
            "  \"the number of iterations.\", ConvergenceWarning)\n",
            "/usr/local/lib/python3.7/dist-packages/sklearn/svm/_base.py:947: ConvergenceWarning: Liblinear failed to converge, increase the number of iterations.\n",
            "  \"the number of iterations.\", ConvergenceWarning)\n",
            "/usr/local/lib/python3.7/dist-packages/sklearn/svm/_base.py:947: ConvergenceWarning: Liblinear failed to converge, increase the number of iterations.\n",
            "  \"the number of iterations.\", ConvergenceWarning)\n",
            "/usr/local/lib/python3.7/dist-packages/sklearn/svm/_base.py:947: ConvergenceWarning: Liblinear failed to converge, increase the number of iterations.\n",
            "  \"the number of iterations.\", ConvergenceWarning)\n",
            "/usr/local/lib/python3.7/dist-packages/sklearn/svm/_base.py:947: ConvergenceWarning: Liblinear failed to converge, increase the number of iterations.\n",
            "  \"the number of iterations.\", ConvergenceWarning)\n"
          ],
          "name": "stderr"
        },
        {
          "output_type": "execute_result",
          "data": {
            "text/plain": [
              "0.4176599367550474"
            ]
          },
          "metadata": {
            "tags": []
          },
          "execution_count": 17
        }
      ]
    },
    {
      "cell_type": "code",
      "metadata": {
        "colab": {
          "base_uri": "https://localhost:8080/"
        },
        "id": "cZxPKfpfECUo",
        "outputId": "04c6652f-c07d-46dc-d2e7-1dfdef5d4339"
      },
      "source": [
        "estimators = [\n",
        "  ('rf', RandomForestClassifier(n_estimators=10, random_state=42)),\n",
        "  ('svr', make_pipeline(StandardScaler(),\n",
        "                          LinearSVC(random_state=42)))\n",
        "]\n",
        "clf = StackingClassifier(\n",
        "   estimators=estimators, final_estimator=LogisticRegression()\n",
        ")\n",
        "clf.fit(X_train, Y_train_ten)\n",
        "clf.predict(X_test)\n",
        "predictions = clf.predict(X_test)\n",
        "num_score = clf.score(X_test, Y_test_ten)\n",
        "num_score"
      ],
      "execution_count": null,
      "outputs": [
        {
          "output_type": "stream",
          "text": [
            "/usr/local/lib/python3.7/dist-packages/sklearn/preprocessing/_label.py:235: DataConversionWarning: A column-vector y was passed when a 1d array was expected. Please change the shape of y to (n_samples, ), for example using ravel().\n",
            "  y = column_or_1d(y, warn=True)\n",
            "/usr/local/lib/python3.7/dist-packages/sklearn/preprocessing/_label.py:268: DataConversionWarning: A column-vector y was passed when a 1d array was expected. Please change the shape of y to (n_samples, ), for example using ravel().\n",
            "  y = column_or_1d(y, warn=True)\n",
            "/usr/local/lib/python3.7/dist-packages/sklearn/svm/_base.py:947: ConvergenceWarning: Liblinear failed to converge, increase the number of iterations.\n",
            "  \"the number of iterations.\", ConvergenceWarning)\n",
            "/usr/local/lib/python3.7/dist-packages/sklearn/svm/_base.py:947: ConvergenceWarning: Liblinear failed to converge, increase the number of iterations.\n",
            "  \"the number of iterations.\", ConvergenceWarning)\n",
            "/usr/local/lib/python3.7/dist-packages/sklearn/svm/_base.py:947: ConvergenceWarning: Liblinear failed to converge, increase the number of iterations.\n",
            "  \"the number of iterations.\", ConvergenceWarning)\n",
            "/usr/local/lib/python3.7/dist-packages/sklearn/svm/_base.py:947: ConvergenceWarning: Liblinear failed to converge, increase the number of iterations.\n",
            "  \"the number of iterations.\", ConvergenceWarning)\n",
            "/usr/local/lib/python3.7/dist-packages/sklearn/svm/_base.py:947: ConvergenceWarning: Liblinear failed to converge, increase the number of iterations.\n",
            "  \"the number of iterations.\", ConvergenceWarning)\n",
            "/usr/local/lib/python3.7/dist-packages/sklearn/svm/_base.py:947: ConvergenceWarning: Liblinear failed to converge, increase the number of iterations.\n",
            "  \"the number of iterations.\", ConvergenceWarning)\n",
            "/usr/local/lib/python3.7/dist-packages/sklearn/linear_model/_logistic.py:940: ConvergenceWarning: lbfgs failed to converge (status=1):\n",
            "STOP: TOTAL NO. of ITERATIONS REACHED LIMIT.\n",
            "\n",
            "Increase the number of iterations (max_iter) or scale the data as shown in:\n",
            "    https://scikit-learn.org/stable/modules/preprocessing.html\n",
            "Please also refer to the documentation for alternative solver options:\n",
            "    https://scikit-learn.org/stable/modules/linear_model.html#logistic-regression\n",
            "  extra_warning_msg=_LOGISTIC_SOLVER_CONVERGENCE_MSG)\n"
          ],
          "name": "stderr"
        },
        {
          "output_type": "execute_result",
          "data": {
            "text/plain": [
              "0.39260520554609585"
            ]
          },
          "metadata": {
            "tags": []
          },
          "execution_count": 18
        }
      ]
    },
    {
      "cell_type": "markdown",
      "metadata": {
        "id": "FHDLBBXIExSE"
      },
      "source": [
        "Hust"
      ]
    },
    {
      "cell_type": "code",
      "metadata": {
        "id": "bf59ZiPdEyvx"
      },
      "source": [
        "from sklearn.experimental import enable_hist_gradient_boosting  # noqa\n",
        "from sklearn.ensemble import HistGradientBoostingClassifier\n",
        "from sklearn.experimental import enable_halving_search_cv # noqa\n",
        "from sklearn.model_selection import HalvingGridSearchCV"
      ],
      "execution_count": null,
      "outputs": []
    },
    {
      "cell_type": "code",
      "metadata": {
        "colab": {
          "base_uri": "https://localhost:8080/"
        },
        "id": "chjBUyV4FFjj",
        "outputId": "8715a5d1-1225-4d4e-c74f-ef75804cda60"
      },
      "source": [
        "clf = HistGradientBoostingClassifier()\n",
        "clf.fit(X_train, Y_train_3)\n",
        "clf.predict(X_test)\n",
        "predictions = clf.predict(X_test)\n",
        "num_score = clf.score(X_test, Y_test_3)\n",
        "num_score"
      ],
      "execution_count": null,
      "outputs": [
        {
          "output_type": "stream",
          "text": [
            "/usr/local/lib/python3.7/dist-packages/sklearn/utils/validation.py:760: DataConversionWarning: A column-vector y was passed when a 1d array was expected. Please change the shape of y to (n_samples, ), for example using ravel().\n",
            "  y = column_or_1d(y, warn=True)\n"
          ],
          "name": "stderr"
        },
        {
          "output_type": "execute_result",
          "data": {
            "text/plain": [
              "0.44879591340306496"
            ]
          },
          "metadata": {
            "tags": []
          },
          "execution_count": 7
        }
      ]
    },
    {
      "cell_type": "code",
      "metadata": {
        "colab": {
          "base_uri": "https://localhost:8080/"
        },
        "id": "vXIwFdV8FOAe",
        "outputId": "124c4c47-3574-4eb7-a32a-ce4532248709"
      },
      "source": [
        "clf = HistGradientBoostingClassifier()\n",
        "clf.fit(X_train, Y_train_ten)\n",
        "clf.predict(X_test)\n",
        "predictions = clf.predict(X_test)\n",
        "num_score = clf.score(X_test, Y_test_ten)\n",
        "num_score"
      ],
      "execution_count": null,
      "outputs": [
        {
          "output_type": "stream",
          "text": [
            "/usr/local/lib/python3.7/dist-packages/sklearn/utils/validation.py:760: DataConversionWarning: A column-vector y was passed when a 1d array was expected. Please change the shape of y to (n_samples, ), for example using ravel().\n",
            "  y = column_or_1d(y, warn=True)\n"
          ],
          "name": "stderr"
        },
        {
          "output_type": "execute_result",
          "data": {
            "text/plain": [
              "0.3330090002432498"
            ]
          },
          "metadata": {
            "tags": []
          },
          "execution_count": 8
        }
      ]
    },
    {
      "cell_type": "code",
      "metadata": {
        "id": "vC5a7aU1_GGI",
        "colab": {
          "base_uri": "https://localhost:8080/"
        },
        "outputId": "aa4df161-c276-4db7-be4d-cd7f7b0f5dc2"
      },
      "source": [
        "\n",
        "from sklearn.model_selection import GridSearchCV\n",
        "\n",
        "clf = GradientBoostingClassifier()\n",
        "parameters = {\n",
        "    \"loss\":[\"deviance\"],\n",
        "    \"learning_rate\": [0.2],\n",
        "    \"min_samples_split\": [10],\n",
        "    \"min_samples_leaf\": [21],\n",
        "    \"max_depth\":[4],\n",
        "    \"max_features\":[\"sqrt\"],\n",
        "    \"criterion\": [\"friedman_mse\"],\n",
        "    \"subsample\":[0.8],\n",
        "    \"n_estimators\":[15]\n",
        "    }\n",
        "\n",
        "\n",
        "search = HalvingGridSearchCV(clf, parameters)\n",
        "search.fit(X_train, Y_train_3.values.ravel())\n",
        "best_search = search.best_estimator_\n",
        "print(best_search)\n",
        "predictions = best_search.predict(X_test)\n",
        "num_score = best_search.score(X_test, Y_test_3.values.ravel())\n",
        "num_score"
      ],
      "execution_count": null,
      "outputs": [
        {
          "output_type": "stream",
          "text": [
            "GradientBoostingClassifier(learning_rate=0.2, max_depth=4, max_features='sqrt',\n",
            "                           min_samples_leaf=21, min_samples_split=10,\n",
            "                           n_estimators=15, subsample=0.8)\n"
          ],
          "name": "stdout"
        },
        {
          "output_type": "execute_result",
          "data": {
            "text/plain": [
              "0.45074191194356605"
            ]
          },
          "metadata": {
            "tags": []
          },
          "execution_count": 26
        }
      ]
    },
    {
      "cell_type": "code",
      "metadata": {
        "colab": {
          "base_uri": "https://localhost:8080/"
        },
        "id": "bk_hc1VzCNGX",
        "outputId": "ccfb9baa-da8a-4124-8012-2ceb61247716"
      },
      "source": [
        "predictions = best_search.predict(X_test)\n",
        "num_score = best_search.score(X_test, Y_test_3.values.ravel())\n",
        "num_score\n"
      ],
      "execution_count": null,
      "outputs": [
        {
          "output_type": "execute_result",
          "data": {
            "text/plain": [
              "0.44539041595718804"
            ]
          },
          "metadata": {
            "tags": []
          },
          "execution_count": 25
        }
      ]
    }
  ]
}